{
 "metadata": {
  "language_info": {
   "codemirror_mode": {
    "name": "ipython",
    "version": 3
   },
   "file_extension": ".py",
   "mimetype": "text/x-python",
   "name": "python",
   "nbconvert_exporter": "python",
   "pygments_lexer": "ipython3",
   "version": 3
  },
  "orig_nbformat": 2
 },
 "nbformat": 4,
 "nbformat_minor": 2,
 "cells": [
  {
   "cell_type": "code",
   "execution_count": null,
   "metadata": {},
   "outputs": [],
   "source": [
    "import matplotlib.pyplot as plt\n",
    "import seaborn as sns"
   ]
  },
  {
   "source": [
    "<h1 align=\"left\" style=\"font-size:20px\"><b> Distributions </b></h1>"
   ],
   "cell_type": "markdown",
   "metadata": {}
  },
  {
   "cell_type": "code",
   "execution_count": null,
   "metadata": {},
   "outputs": [],
   "source": [
    "def sns_distplot_4_subplots(p_data, p_suptitle):\n",
    "    sns.set(style=\"white\", palette=\"muted\", color_codes=True)\n",
    "\n",
    "    # Set up the matplotlib figure\n",
    "    f, axes = plt.subplots(2, 2, figsize=(8, 8), sharex=True)\n",
    "    sns.despine(left=True)\n",
    "\n",
    "    # Plot a simple histogram with binsize determined automatically\n",
    "    sns.distplot(p_data, kde=False, color=\"b\", ax=axes[0, 0])\n",
    "\n",
    "    # Plot a kernel density estimate and rug plot\n",
    "    sns.distplot(p_data, hist=False, rug=True, color=\"r\", ax=axes[0, 1])\n",
    "\n",
    "    # Plot a filled kernel density estimate\n",
    "    sns.distplot(p_data, hist=False, color=\"g\", kde_kws={\"shade\": True}, ax=axes[1, 0])\n",
    "\n",
    "    # Plot a histogram and kernel density estimate\n",
    "    sns.distplot(p_data, color=\"m\", ax=axes[1, 1])\n",
    "\n",
    "    plt.suptitle(p_suptitle, fontsize=16, y=1.0, verticalalignment = 'bottom')\n",
    "    # Adjust vertical_spacing = 0.5 * axes_height\n",
    "    #plt.subplots_adjust(hspace=0.5)\n",
    "\n",
    "    #fig.suptitle('Are we noticing Poisson distribution for Municipality Population?', fontsize=16)\n",
    "    #axes.set_title('Are we noticing Poisson distribution for Municipality Population?', fontsize=16)\n",
    "    axes[0, 0].set_title(\"A simple histogram with binsize\", verticalalignment = 'top')\n",
    "    axes[0, 1].set_title(\"A kernel density estimate and rug plot\", verticalalignment = 'top')\n",
    "    axes[1, 0].set_title(\"A filled kernel density estimate\", verticalalignment = 'top')\n",
    "    axes[1, 1].set_title(\"A histogram and kernel density estimate\", verticalalignment = 'top')\n",
    "\n",
    "    plt.setp(axes, yticks=[])\n",
    "    plt.tight_layout()\n",
    "    #log_line(f\"{distplot_messages_per_hour.__name__} was created.\")\n",
    "    plt.show()"
   ]
  }
 ]
}