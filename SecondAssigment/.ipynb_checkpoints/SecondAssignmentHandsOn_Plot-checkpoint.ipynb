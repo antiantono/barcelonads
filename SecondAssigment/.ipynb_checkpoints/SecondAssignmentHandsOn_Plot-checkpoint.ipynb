{
 "cells": [
  {
   "cell_type": "code",
   "execution_count": null,
   "metadata": {},
   "outputs": [],
   "source": [
    "import matplotlib.pyplot as plt\n",
    "import seaborn as sns"
   ]
  },
  {
   "cell_type": "markdown",
   "metadata": {},
   "source": [
    "<h1 align=\"left\" style=\"font-size:20px\"><b> Distributions </b></h1>"
   ]
  },
  {
   "cell_type": "code",
   "execution_count": null,
   "metadata": {},
   "outputs": [],
   "source": [
    "def sns_distplot_4_subplots(p_data, p_suptitle):\n",
    "    sns.set(style=\"white\", palette=\"muted\", color_codes=True)\n",
    "\n",
    "    # Set up the matplotlib figure\n",
    "    f, axes = plt.subplots(2, 2, figsize=(8, 8), sharex=True)\n",
    "    sns.despine(left=True)\n",
    "\n",
    "    # Plot a simple histogram with binsize determined automatically\n",
    "    sns.distplot(p_data, kde=False, color=\"b\", ax=axes[0, 0])\n",
    "\n",
    "    # Plot a kernel density estimate and rug plot\n",
    "    sns.distplot(p_data, hist=False, rug=True, color=\"r\", ax=axes[0, 1])\n",
    "\n",
    "    # Plot a filled kernel density estimate\n",
    "    sns.distplot(p_data, hist=False, color=\"g\", kde_kws={\"shade\": True}, ax=axes[1, 0])\n",
    "\n",
    "    # Plot a histogram and kernel density estimate\n",
    "    sns.distplot(p_data, color=\"m\", ax=axes[1, 1])\n",
    "\n",
    "    plt.suptitle(p_suptitle, fontsize=16, y=1.0, verticalalignment = 'bottom')\n",
    "    # Adjust vertical_spacing = 0.5 * axes_height\n",
    "    #plt.subplots_adjust(hspace=0.5)\n",
    "\n",
    "    #fig.suptitle('Are we noticing Poisson distribution for Municipality Population?', fontsize=16)\n",
    "    #axes.set_title('Are we noticing Poisson distribution for Municipality Population?', fontsize=16)\n",
    "    axes[0, 0].set_title(\"A simple histogram with binsize\", verticalalignment = 'top')\n",
    "    axes[0, 1].set_title(\"A kernel density estimate and rug plot\", verticalalignment = 'top')\n",
    "    axes[1, 0].set_title(\"A filled kernel density estimate\", verticalalignment = 'top')\n",
    "    axes[1, 1].set_title(\"A histogram and kernel density estimate\", verticalalignment = 'top')\n",
    "\n",
    "    plt.setp(axes, yticks=[])\n",
    "    plt.tight_layout()\n",
    "    #log_line(f\"{distplot_messages_per_hour.__name__} was created.\")\n",
    "    plt.show()"
   ]
  },
  {
   "cell_type": "code",
   "execution_count": null,
   "metadata": {},
   "outputs": [],
   "source": [
    "def snd_two_tailed_z_test(mu, sigma, confidence):\n",
    "    # Set up the matplotlib figure\n",
    "    f, axes = plt.subplots(1, 1, figsize=(8, 8), sharex=True)\n",
    "    str_upper_bound = \"upper bound {0}% (sample_mean + {1}*SE)\"\n",
    "    str_lower_bound = \"lower bound {0}% (sample_mean - {1}*SE)\"\n",
    "    z_score = stats.norm.ppf(1 - (1 -confidence)/2 )\n",
    "    values = np.random.normal(loc=mu, scale=sigma, size=10000)\n",
    "    alpha_05_positive = np.mean(values) + np.std(values)*z_score\n",
    "    alpha_05_negative = np.mean(values) - np.std(values)*z_score\n",
    "    kde = stats.gaussian_kde(values)\n",
    "    pos = np.linspace(np.min(values), np.max(values), 10000)\n",
    "    plt.plot(pos, kde(pos), color='dodgerblue')\n",
    "    plt.axvline(x=0, linestyle='--', linewidth=2.5, label=\"sample mean\", c='orange')\n",
    "    shade = np.linspace(alpha_05_positive, 4, 300)\n",
    "    plt.fill_between(shade, kde(shade), alpha=0.45, color='dodgerblue')\n",
    "    plt.axvline(x=alpha_05_positive, linestyle='--', linewidth=2.5, label=str_upper_bound.format(confidence*100,round(z_score,5)) , c='purple')\n",
    "    shade2 = np.linspace(alpha_05_negative, -4, 300)\n",
    "    plt.fill_between(shade2, kde(shade2), alpha=0.45, color='dodgerblue')\n",
    "    plt.axvline(x=alpha_05_negative, linestyle='--', linewidth=2.5, label=str_lower_bound.format(confidence*100,round(z_score,5)), c='g')\n",
    "    plt.title(\"Sampling Distribution for Two-Tail Hypothesis Test\", y=1.015, fontsize=20)\n",
    "    plt.xlabel(\"sample mean value\", labelpad=14)\n",
    "    plt.ylabel(\"frequency of occurence\", labelpad=14);\n",
    "    plt.legend(bbox_to_anchor=(1.01, 1), loc=\"upper left\");"
   ]
  },
  {
   "cell_type": "code",
   "execution_count": null,
   "metadata": {},
   "outputs": [],
   "source": [
    "def snd_right_tailed_z_test(mu, sigma, confidence):\n",
    "    # Set up the matplotlib figure\n",
    "    f, axes = plt.subplots(1, 1, figsize=(8, 8), sharex=True)\n",
    "    str_upper_bound = \"upper bound {0}% (sample_mean + {1}*SE)\"\n",
    "    z_score = stats.norm.ppf(1 - (1 -confidence))\n",
    "    values = np.random.normal(loc=mu, scale=sigma, size=10000)\n",
    "    alpha_05_positive = np.mean(values) + np.std(values)*z_score\n",
    "    kde = stats.gaussian_kde(values)\n",
    "    pos = np.linspace(np.min(values), np.max(values), 10000)\n",
    "    plt.plot(pos, kde(pos), color='dodgerblue')\n",
    "    plt.axvline(x=0, linestyle='--', linewidth=2.5, label=\"sample mean\", c='orange')\n",
    "    shade = np.linspace(alpha_05_positive, 4, 300)\n",
    "    plt.fill_between(shade, kde(shade), alpha=0.45, color='dodgerblue')\n",
    "    plt.title(\"Sampling Distribution for Right-Tail Hypothesis Test\", y=1.015, fontsize=20)\n",
    "    plt.xlabel(\"sample mean value\", labelpad=14)\n",
    "    plt.ylabel(\"frequency of occurence\", labelpad=14);\n",
    "    plt.legend(bbox_to_anchor=(1.01, 1), loc=\"upper left\");"
   ]
  },
  {
   "cell_type": "code",
   "execution_count": null,
   "metadata": {},
   "outputs": [],
   "source": [
    "def nd_two_tailed_z_test(sample, confidence):\n",
    "    # Set up the matplotlib figure\n",
    "    f, axes = plt.subplots(1, 1, figsize=(8, 8), sharex=True)\n",
    "    str_upper_bound = \"upper bound {0}% (sample_mean + {1}*SE)\"\n",
    "    str_lower_bound = \"lower bound {0}% (sample_mean - {1}*SE)\"\n",
    "    z_score = stats.norm.ppf(1 - (1 -confidence)/2 )\n",
    "    alpha_05_positive = sample.mean() + np.std(sample)*z_score\n",
    "    alpha_05_negative = sample.mean() - np.std(sample)*z_score\n",
    "    \n",
    "    sns.distplot(sample, hist=False)\n",
    "    \n",
    "    plt.axvline(x=sample.mean(), linestyle='--', linewidth=2.5, label=\"sample mean\", c='orange')\n",
    "    #plt.axvline(x=np.mean(sample), linestyle='--', linewidth=2.5, label=\"sample mean\", c='orange')    \n",
    "    \n",
    "    plt.axvline(x=alpha_05_positive, linestyle='--', linewidth=2.5, label=str_upper_bound.format(confidence*100,round(z_score,5)) , c='purple')\n",
    "    plt.axvline(x=alpha_05_negative, linestyle='--', linewidth=2.5, label=str_lower_bound.format(confidence*100,round(z_score,5)), c='g')\n",
    "        \n",
    "    plt.text(alpha_05_negative,0,str(round(alpha_05_negative,5)), rotation=90, fontweight = 'bold', fontsize = 'medium')\n",
    "    plt.text(sample.mean(),0,str(round(sample.mean(),5)), rotation=90, fontweight = 'bold', fontsize = 'medium')\n",
    "    plt.text(alpha_05_positive,0,str(round(alpha_05_positive,5)), rotation=90, fontweight = 'bold', fontsize = 'medium')\n",
    "    \n",
    "    #shade = np.linspace(barcelona_h_sample.min(), alpha_05_negative, 300)\n",
    "    #kde = stats.gaussian_kde(shade)\n",
    "    #print(kde)\n",
    "    #plt.fill_between(shade, kde(shade), alpha=0.45, color='dodgerblue')\n",
    "    \n",
    "    plt.title(\"Sampling Distribution for Two-Tail Hypothesis Test\", y=1.015, fontsize=20)\n",
    "    plt.xlabel(\"sample mean value\", labelpad=14)\n",
    "    plt.ylabel(\"frequency of occurence\", labelpad=14);\n",
    "    plt.legend(bbox_to_anchor=(1.01, 1), loc=\"upper left\");"
   ]
  },
  {
   "cell_type": "code",
   "execution_count": null,
   "metadata": {},
   "outputs": [],
   "source": [
    "def nd_right_tailed_z_test(sample, confidence):\n",
    "    # Set up the matplotlib figure\n",
    "    f, axes = plt.subplots(1, 1, figsize=(8, 8), sharex=True)\n",
    "    str_upper_bound = \"upper bound {0}% (sample_mean + {1}*SE)\"\n",
    "    z_score = stats.norm.ppf(1 - (1 -confidence) )\n",
    "    alpha_05_positive = sample.mean() + np.std(sample)*z_score\n",
    "    alpha_05_negative = sample.mean() - np.std(sample)*z_score\n",
    "    \n",
    "    sns.distplot(sample, hist=False)\n",
    "    \n",
    "    plt.axvline(x=sample.mean(), linestyle='--', linewidth=2.5, label=\"sample mean\", c='orange')\n",
    "    plt.axvline(x=alpha_05_positive, linestyle='--', linewidth=2.5, label=str_upper_bound.format(confidence*100,round(z_score,5)) , c='purple')\n",
    "    \n",
    "    plt.text(sample.mean(),0,str(round(sample.mean(),5)), rotation=90, fontweight = 'bold', fontsize = 'medium')\n",
    "    plt.text(alpha_05_positive,0,str(round(alpha_05_positive,5)), rotation=90, fontweight = 'bold', fontsize = 'medium')\n",
    "    \n",
    "    plt.title(\"Sampling Distribution for Right-Tail Hypothesis Test\", y=1.015, fontsize=20)\n",
    "    plt.xlabel(\"sample mean value\", labelpad=14)\n",
    "    plt.ylabel(\"frequency of occurence\", labelpad=14);\n",
    "    plt.legend(bbox_to_anchor=(1.01, 1), loc=\"upper left\");"
   ]
  }
 ],
 "metadata": {
  "kernelspec": {
   "display_name": "Python 3",
   "language": "python",
   "name": "python3"
  },
  "language_info": {
   "codemirror_mode": {
    "name": "ipython",
    "version": 3
   },
   "file_extension": ".py",
   "mimetype": "text/x-python",
   "name": "python",
   "nbconvert_exporter": "python",
   "pygments_lexer": "ipython3",
   "version": "3.7.3"
  }
 },
 "nbformat": 4,
 "nbformat_minor": 2
}
