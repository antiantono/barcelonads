{
 "cells": [
  {
   "cell_type": "code",
   "execution_count": null,
   "metadata": {},
   "outputs": [],
   "source": [
    "import pandas as pd\n",
    "from scipy import stats\n",
    "from scipy.stats import iqr\n",
    "from scipy.stats import norm"
   ]
  },
  {
   "cell_type": "markdown",
   "metadata": {},
   "source": [
    "<h1 align=\"left\" style=\"font-size:20px\"><b> General Methods </b></h1>"
   ]
  },
  {
   "cell_type": "code",
   "execution_count": null,
   "metadata": {},
   "outputs": [],
   "source": [
    "def get_percentile(df, column_sort, percentile_rank):\n",
    "    \n",
    "    # First, sort by ascending column_sort, reset the indices\n",
    "    df = df.sort_values(by=column_sort).reset_index()\n",
    "    \n",
    "    # Rule of three to get the index of the column_sort\n",
    "    index = (len(df.index)-1) * percentile_rank / 100.0\n",
    "    index = int(index)\n",
    "    \n",
    "    # Return the column_sort corresponding to the percentile rank\n",
    "    return df.at[index, column_sort]"
   ]
  },
  {
   "cell_type": "code",
   "execution_count": null,
   "metadata": {},
   "outputs": [],
   "source": [
    "def ztest_hypothesis_determination(pval, alpha, confidence_perc):\n",
    "    str_H1 = \"I have enough evidence to reject H0. Therefore, I assume H1 with a confidence of {0}\"\n",
    "    str_H0 = \"I don't have enough evidence to reject H0. So we accept is true with a confidence of {0}\"\n",
    "    # alpha value is 0.1 or 10% wich means 90% of confidence\n",
    "    if pval < alpha:\n",
    "       print(str_H1.format(confidence_perc))\n",
    "    else:\n",
    "      print(str_H0.format(confidence_perc))"
   ]
  },
  {
   "cell_type": "code",
   "execution_count": null,
   "metadata": {},
   "outputs": [],
   "source": [
    "def ztest_hypothesis_determination_dist(df, sample_num, sample_size, ztest_value, ztest_alternative, alpha_list):\n",
    "    # Creating an empty Dataframe with column names only\n",
    "    dfResults = pd.DataFrame(columns=['sample_id', 'sample_size', 'alpha_id', 'zset', 'pval', 'hypothesis_choosen'])\n",
    "    df_sample_tot = pd.DataFrame(columns=['height'])\n",
    "    for sample_i in range(sample_num):\n",
    "        df_sample = df.sample(n = sample_size, replace=False)\n",
    "        df_sample_tot = df_sample_tot.append(df_sample, ignore_index = True) \n",
    "        for alpha_i in alpha_list:\n",
    "            zset,pval = ztest(df_sample, value = ztest_value, alternative=ztest_alternative)\n",
    "            h_choosen = \"H0\"\n",
    "            if pval < alpha_i:\n",
    "                h_choosen = \"H1\"\n",
    "            #print(\"sample_i--> {0}\".format(sample_i))\n",
    "            #print(\"alpha_i--> {0}\".format(alpha_i))\n",
    "            #print(\"zset--> {0}\".format(zset))\n",
    "            #print(\"pval--> {0}\".format(pval))\n",
    "            #print(\"alpha_i--> {0}\".format(alpha_i))\n",
    "            #print(\"h_choosen--> {0}\".format(h_choosen))\n",
    "            dfResults = dfResults.append({'sample_id': sample_i, 'sample_size': sample_size, 'alpha_id': alpha_i, 'zset':zset, 'pval':pval,'hypothesis_choosen': h_choosen}, ignore_index=True)\n",
    "    return df_sample_tot, dfResults"
   ]
  }
 ],
 "metadata": {
  "kernelspec": {
   "display_name": "Python 3",
   "language": "python",
   "name": "python3"
  },
  "language_info": {
   "codemirror_mode": {
    "name": "ipython",
    "version": 3
   },
   "file_extension": ".py",
   "mimetype": "text/x-python",
   "name": "python",
   "nbconvert_exporter": "python",
   "pygments_lexer": "ipython3",
   "version": "3.7.3"
  }
 },
 "nbformat": 4,
 "nbformat_minor": 2
}
