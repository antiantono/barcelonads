{
 "cells": [
  {
   "cell_type": "code",
   "execution_count": 1,
   "metadata": {},
   "outputs": [],
   "source": [
    "import pyodbc"
   ]
  },
  {
   "cell_type": "markdown",
   "metadata": {},
   "source": [
    "## Database Connections.\n",
    "Create Connection for MS SQL Server  Database and Ingest Data from this data source"
   ]
  },
  {
   "cell_type": "code",
   "execution_count": 2,
   "metadata": {},
   "outputs": [],
   "source": [
    "#MS SQL Server Database Connection\n",
    "#https://anaconda.org/anaconda/pyodbc\n",
    "#https://docs.microsoft.com/en-us/sql/connect/odbc/linux-mac/installing-the-microsoft-odbc-driver-for-sql-server?view=sql-server-ver15#ubuntu17\n",
    "def MSSQLServConn():\n",
    "    #print(\"Starting MSSQLServConn...\")\n",
    "    try:\n",
    "        dbConn = pyodbc.connect('Driver={ODBC Driver 17 for SQL Server};'\n",
    "                          'Server=termserv02ccn;'\n",
    "                          'Database=AnalyticsDW;'\n",
    "                          'uid=analytics;'\n",
    "                          'pwd=Newcode#2020;')\n",
    "        return dbConn\n",
    "    except Exception as exception:\n",
    "        print(exception)\n",
    "        return dbConn"
   ]
  },
  {
   "cell_type": "code",
   "execution_count": 3,
   "metadata": {},
   "outputs": [],
   "source": [
    "def SqlServer_Query(sqlQuery):\n",
    "    try:\n",
    "        cursor = dbConn.cursor()\n",
    "        pdSqlQuery = pd.read_sql_query(sqlQuery,dbConn)\n",
    "        return pdSqlQuery\n",
    "    except Exception as exception:\n",
    "        #Empty dataframe\n",
    "        pdSqlQuery = pd.DataFrame()\n",
    "        print(exception)\n",
    "        return pdSqlQuery"
   ]
  },
  {
   "cell_type": "markdown",
   "metadata": {},
   "source": [
    "## General methods"
   ]
  },
  {
   "cell_type": "code",
   "execution_count": 4,
   "metadata": {},
   "outputs": [],
   "source": [
    "def dms2dd(degrees, minutes, seconds, direction):\n",
    "    dd = float(degrees) + float(minutes)/60 + float(seconds)/(60*60);\n",
    "    if direction == 'S' or direction == 'W':\n",
    "        dd *= -1\n",
    "    return dd"
   ]
  },
  {
   "cell_type": "code",
   "execution_count": 5,
   "metadata": {},
   "outputs": [],
   "source": [
    "def dd2dms(deg):\n",
    "    d = int(deg)\n",
    "    md = abs(deg - d) * 60\n",
    "    m = int(md)\n",
    "    sd = (md - m) * 60\n",
    "    return [d, m, sd]"
   ]
  },
  {
   "cell_type": "code",
   "execution_count": 6,
   "metadata": {},
   "outputs": [],
   "source": [
    "def parse_dms(dms):\n",
    "    #print(dms)\n",
    "    parts = re.split('[^\\d\\w]+', dms)\n",
    "    #print(len(parts))\n",
    "    #print(parts)\n",
    "    lat = dms2dd(parts[0], parts[1], parts[2], parts[3])\n",
    "    lng = dms2dd(parts[4], parts[5], parts[6], parts[7])\n",
    "    return (lat, lng)"
   ]
  },
  {
   "cell_type": "code",
   "execution_count": 1,
   "metadata": {},
   "outputs": [],
   "source": [
    "def SqlServer_Query_chunks(sqlQuery, p_chunksize):\n",
    "    try:\n",
    "        df_chunks = pd.read_sql_query(sqlQuery, dbConn, chunksize = p_chunksize)\n",
    "        chunks = []\n",
    "        #print(len(chunks))\n",
    "        for df in df_chunks:\n",
    "            #print(df.head())\n",
    "            chunks.append(df)\n",
    "        pdSqlQuery = pd.concat(chunks).reset_index().drop('index', axis = 1)\n",
    "        return pdSqlQuery\n",
    "    except Exception as exception:\n",
    "        #Empty dataframe\n",
    "        pdSqlQuery = pd.DataFrame()\n",
    "        print(exception)\n",
    "        return pdSqlQuery"
   ]
  },
  {
   "cell_type": "code",
   "execution_count": 4,
   "metadata": {},
   "outputs": [],
   "source": [
    "def SqlServer_Cursor_Query(sqlQuery):\n",
    "    try:\n",
    "        cursor = dbConn.cursor()\n",
    "        cursor.execute(sqlQuery)\n",
    "        cursorResult = cursor.fetchall()\n",
    "        return cursorResult\n",
    "    except Exception as exception:\n",
    "        #Empty dataframe\n",
    "        cursorResult = None\n",
    "        print(exception)\n",
    "        return cursorResult\n",
    "    "
   ]
  },
  {
   "cell_type": "code",
   "execution_count": 1,
   "metadata": {},
   "outputs": [],
   "source": [
    "class color:\n",
    "   PURPLE = '\\033[95m'\n",
    "   CYAN = '\\033[96m'\n",
    "   DARKCYAN = '\\033[36m'\n",
    "   BLUE = '\\033[94m'\n",
    "   GREEN = '\\033[92m'\n",
    "   YELLOW = '\\033[93m'\n",
    "   RED = '\\033[91m'\n",
    "   BOLD = '\\033[1m'\n",
    "   UNDERLINE = '\\033[4m'\n",
    "   END = '\\033[0m'"
   ]
  },
  {
   "cell_type": "code",
   "execution_count": null,
   "metadata": {},
   "outputs": [],
   "source": []
  }
 ],
 "metadata": {
  "kernelspec": {
   "display_name": "Python 3",
   "language": "python",
   "name": "python3"
  },
  "language_info": {
   "codemirror_mode": {
    "name": "ipython",
    "version": 3
   },
   "file_extension": ".py",
   "mimetype": "text/x-python",
   "name": "python",
   "nbconvert_exporter": "python",
   "pygments_lexer": "ipython3",
   "version": "3.7.6"
  }
 },
 "nbformat": 4,
 "nbformat_minor": 4
}
