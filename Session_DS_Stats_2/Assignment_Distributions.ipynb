{
 "cells": [
  {
   "cell_type": "markdown",
   "metadata": {},
   "source": [
    "<br><br><center><h1 style=\"font-size:4em;color:#2467C0\">New distributions(Assignment)</h1></center>\n",
    "<br>\n",
    "<table>\n",
    "    <col width=\"500\">\n",
    "    <tr> \n",
    "    <p> The objective of this document is to stablish a solid understanding of the following types of distributions: Uniform, Bernoulli and Weibull </p>\n",
    "    </tr>\n",
    "    <tr>\n",
    "        <td><img src=\"https://miro.medium.com/max/962/1*DmPUIjvecL7KllOamoFSDw.png\" align=\"middle\" style=\"width:590px;height:340px;\"/></td>\n",
    "    </tr>\n",
    "    <tr> \n",
    "        <td>Lenin Escobar  |  Statistical Foundations for Data Science  |  Monday, October 26, 2020</td>  \n",
    "    </tr>\n",
    "</table>"
   ]
  },
  {
   "cell_type": "markdown",
   "metadata": {},
   "source": [
    "<h6 style=\"font-size:2em;color:#2467C0\">Uniform Distribution</h6>"
   ]
  },
  {
   "cell_type": "markdown",
   "metadata": {},
   "source": [
    "<p style=\"font-size:150%;color:blue;\">Definition</p>\n",
    "\n",
    "A uniform distribution, also called a rectangular distribution, is a probability distribution that has constant probability.\n",
    "\n",
    "This distribution is defined by two parameters, a and b:\n",
    "\n",
    "a is the minimum. \n",
    "\n",
    "b is the maximum. \n",
    "\n",
    "The distribution is written as U(a,b)\n",
    "\n",
    "<p style=\"font-size:150%;color:blue;\">Types</p>\n",
    "\n",
    "This distribution has two types:\n",
    "\n",
    "- <strong>Continuous </strong> uniform distribution (lines in the shape of a rectangle) with an infinite number of outcomes.\n",
    "\n",
    "    \"A\" is the location parameter (where the center of the graph is).\n",
    "    \n",
    "    \"B\" is the scale parameter (stretches the graph out on the horizontal axis).\n",
    "\n",
    "    A graph of the PDF looks like this:\n",
    "\n",
    "<img src=\"https://upload.wikimedia.org/wikipedia/commons/thumb/9/96/Uniform_Distribution_PDF_SVG.svg/500px-Uniform_Distribution_PDF_SVG.svg.png\" align=\"middle\" style=\"width:590px;height:340px;\"/>\n",
    "\n",
    "    A graph of the CDF looks like this:\n",
    "    \n",
    "<img src=\"https://upload.wikimedia.org/wikipedia/commons/thumb/6/63/Uniform_cdf.svg/500px-Uniform_cdf.svg.png\" align=\"middle\" style=\"width:590px;height:340px;\"/>\n",
    "    \n",
    "- <strong>Discrete</strong> uniform distribution (dots in the shape of a rectangle) with a finite number of outcomes (equally likely to be observed; every one of n values has equal probability 1/n). \n",
    "\n",
    "     A graph of the PDF/PMF (where n = 5 where n = b − a + 1) looks like this:\n",
    "\n",
    "<img src=\"https://upload.wikimedia.org/wikipedia/commons/thumb/1/1f/Uniform_discrete_pmf_svg.svg/650px-Uniform_discrete_pmf_svg.svg.png\" align=\"middle\" style=\"width:590px;height:340px;\"/>\n",
    "\n",
    "    A graph of the CDF looks like this:\n",
    "    \n",
    "<img src=\"https://upload.wikimedia.org/wikipedia/commons/thumb/7/77/Dis_Uniform_distribution_CDF.svg/650px-Dis_Uniform_distribution_CDF.svg.png\" align=\"middle\" style=\"width:590px;height:340px;\"/>\n",
    "\n",
    "<p style=\"font-size:150%;color:blue;\">Uniform PDF</p>\n",
    "\n",
    "The probability density function (PDF) is:\n",
    "$\\{\\\\ -\\infty < a < b < \\infty \\\\ f(x) = \\frac{1}{(b-a)} for \\ x ∈ \\lbrack a,b \\rbrack \\\\ 0 \\ otherwise \\\\ \\}$\n",
    "\n",
    "Note that the length of the base of the rectangle is $(b-a) $, while the length of the height of the rectangle is $\\frac{1}{(b-a)} $. Therefore, as should be expected, the area $f(x)$ under  and between the endpoints $a$ and $b$ is 1. Additionally, $f(x) > 0 $  over the support $a < x < b$ . Therefore, $f(x)$  is a valid probability density function.\n",
    "\n",
    "<p style=\"font-size:150%;color:blue;\">Uniform CDF</p>\n",
    "\n",
    "The cumulative distribution function of a uniform random variable x is:\n",
    "\n",
    "$\\{\\\\ -\\infty < a < b < \\infty \\\\ 0\\ for\\ x < a \\\\ f(x) = \\frac{x-a}{(b-a)} for \\ x ∈ \\lbrack a,b \\rbrack \\\\ 1\\ for\\ x > b \\\\ \\}$\n",
    "\n",
    "<p style=\"font-size:150%;color:blue;\">Examples</p>"
   ]
  },
  {
   "cell_type": "code",
   "execution_count": null,
   "metadata": {},
   "outputs": [],
   "source": []
  },
  {
   "cell_type": "code",
   "execution_count": null,
   "metadata": {},
   "outputs": [],
   "source": []
  }
 ],
 "metadata": {
  "kernelspec": {
   "display_name": "Python 3",
   "language": "python",
   "name": "python3"
  },
  "language_info": {
   "codemirror_mode": {
    "name": "ipython",
    "version": 3
   },
   "file_extension": ".py",
   "mimetype": "text/x-python",
   "name": "python",
   "nbconvert_exporter": "python",
   "pygments_lexer": "ipython3",
   "version": "3.7.3"
  }
 },
 "nbformat": 4,
 "nbformat_minor": 2
}
