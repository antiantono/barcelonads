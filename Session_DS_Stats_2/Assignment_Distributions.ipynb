{
 "metadata": {
  "language_info": {
   "codemirror_mode": {
    "name": "ipython",
    "version": 3
   },
   "file_extension": ".py",
   "mimetype": "text/x-python",
   "name": "python",
   "nbconvert_exporter": "python",
   "pygments_lexer": "ipython3",
   "version": 3
  },
  "orig_nbformat": 2
 },
 "nbformat": 4,
 "nbformat_minor": 2,
 "cells": [
  {
   "source": [
    "<br><br><center><h1 style=\"font-size:4em;color:#2467C0\">New distributions(Assignment)</h1></center>\n",
    "<br>\n",
    "<table>\n",
    "    <col width=\"500\">\n",
    "    <tr> \n",
    "    <p> The objective of this document is to stablish a solid understanding of the following types of distributions: Uniform, Bernouilli and Weibull </p>\n",
    "    </tr>\n",
    "    <tr>\n",
    "        <td><img src=\"https://miro.medium.com/max/962/1*DmPUIjvecL7KllOamoFSDw.png\" align=\"middle\" style=\"width:590px;height:340px;\"/></td>\n",
    "    </tr>\n",
    "    <tr> \n",
    "        <td>Lenin Escobar  |  Statistical Foundations for Data Science  |  Monday, October 26, 2020</td>  \n",
    "    </tr>\n",
    "</table>"
   ],
   "cell_type": "markdown",
   "metadata": {}
  },
  {
   "source": [
    "<h6 style=\"font-size:2em;color:#2467C0\">Uniform Distribution</h6>"
   ],
   "cell_type": "markdown",
   "metadata": {}
  }
 ]
}