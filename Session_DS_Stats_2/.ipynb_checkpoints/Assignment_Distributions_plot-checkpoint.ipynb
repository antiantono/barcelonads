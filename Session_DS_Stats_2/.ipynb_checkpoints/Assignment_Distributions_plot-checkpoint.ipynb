{
 "cells": [
  {
   "cell_type": "code",
   "execution_count": null,
   "metadata": {},
   "outputs": [],
   "source": [
    "import seaborn as sns\n",
    "import matplotlib.pyplot as plt\n",
    "import matplotlib.animation as animation\n",
    "from matplotlib import gridspec"
   ]
  },
  {
   "cell_type": "markdown",
   "metadata": {},
   "source": [
    "<h6 style=\"font-size:2em;color:#2467C0\">Distributions</h6>"
   ]
  },
  {
   "cell_type": "code",
   "execution_count": null,
   "metadata": {},
   "outputs": [],
   "source": [
    "def sns_boxplot_distplot_one_col_df(df, title, txt_place, cal_kde_bw, ax_hist_xlabel, ax_hist_ylabel):\n",
    "    #OneVariableHistogram\n",
    "    sns.set(style=\"whitegrid\")\n",
    "\n",
    "    # Initialize the matplotlib figure and Cutting the window in 2 parts\n",
    "    f, (ax_box, ax_hist) = plt.subplots(2, sharex=True, gridspec_kw={\"height_ratios\": (.15, .85)}, figsize=(8, 8))\n",
    "\n",
    "    #Finding Measures Of Central Tendency\n",
    "    mean = df.mean()\n",
    "    median = df.median()\n",
    "    mode = df.mode().values[0]\n",
    "    mode_occurences = df.value_counts(ascending=False).head(1).values[0]\n",
    "    sigma = df.std()\n",
    "\n",
    "    #Patch text\n",
    "    textstr = '\\n'.join((\n",
    "        r'$\\mu=%.2f$' % (mean),\n",
    "        r'$\\mathrm{median}=%.2f$' % (median),\n",
    "        r'$\\mathrm{mode}=%.2f$' % (mode),\n",
    "        r'$\\mathrm{ModeOccurrences}=%.2f$' % (mode_occurences),\n",
    "        r'$\\sigma=%.2f$' % (sigma)))\n",
    "    textstr = textstr + \"\\n\"\n",
    "\n",
    "    # these are matplotlib.patch.Patch properties\n",
    "    props = dict(boxstyle='round', facecolor='wheat', alpha=0.5)\n",
    "\n",
    "    #print(textstr)\n",
    "    # place a text box in bottom left, center or right in axes coords\n",
    "    if txt_place == 'left':\n",
    "        ax_hist.text(0.05, 0, textstr.rstrip(), transform=ax_hist.transAxes, fontsize=10,\n",
    "            verticalalignment='bottom', bbox=props)\n",
    "    elif txt_place == 'center':\n",
    "        ax_hist.text(0.3, 0, textstr.rstrip(), transform=ax_hist.transAxes, fontsize=10,\n",
    "            verticalalignment='bottom', bbox=props)\n",
    "    else:\n",
    "        ax_hist.text(0.7, 0, textstr.rstrip(), transform=ax_hist.transAxes, fontsize=10,\n",
    "            verticalalignment='bottom', bbox=props)\n",
    "\n",
    "    # Add a graph in each part\n",
    "    sns.boxplot(df, ax=ax_box)\n",
    "    ax_box.axvline(mean, color='r', linestyle='--')\n",
    "    ax_box.axvline(median, color='g', linestyle='-')\n",
    "    ax_box.axvline(mode, color='b', linestyle='-')\n",
    "\n",
    "    if cal_kde_bw:\n",
    "        sns.distplot(df, ax=ax_hist, kde_kws={'bw':1.5})\n",
    "    else:\n",
    "        sns.distplot(df, ax=ax_hist)\n",
    "    ax_hist.axvline(mean, color='r', linestyle='--')\n",
    "    ax_hist.axvline(median, color='g', linestyle='-')\n",
    "    ax_hist.axvline(mode, color='b', linestyle='-')\n",
    "\n",
    "    ax_hist.set(xlabel=ax_hist_xlabel, ylabel=ax_hist_ylabel)\n",
    "    #sns.violinplot(y=dfCliPromoAssignedApplied_Totals[\"totclinotapplied\"],ax=ax_violin)\n",
    "\n",
    "    #Legends\n",
    "    plt.legend({'Mean':mean,'Median':median,'Mode':mode})\n",
    "\n",
    "    # Remove x axis name for the boxplot\n",
    "    ax_box.set(xlabel='')\n",
    "    #ax_violin.set(xlabel='')\n",
    "\n",
    "    # Add a legend and informative axis label\n",
    "    ax_box.set_title(title, fontsize=16)\n",
    "    plt.show()"
   ]
  }
 ],
 "metadata": {
  "kernelspec": {
   "display_name": "Python 3",
   "language": "python",
   "name": "python3"
  },
  "language_info": {
   "codemirror_mode": {
    "name": "ipython",
    "version": 3
   },
   "file_extension": ".py",
   "mimetype": "text/x-python",
   "name": "python",
   "nbconvert_exporter": "python",
   "pygments_lexer": "ipython3",
   "version": "3.7.3"
  }
 },
 "nbformat": 4,
 "nbformat_minor": 2
}
