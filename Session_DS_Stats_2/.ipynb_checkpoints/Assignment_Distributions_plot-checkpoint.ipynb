{
 "cells": [
  {
   "cell_type": "code",
   "execution_count": 1,
   "metadata": {},
   "outputs": [],
   "source": [
    "import seaborn as sns\n",
    "import matplotlib.pyplot as plt\n",
    "import matplotlib.animation as animation\n",
    "import matplotlib.colors as mcolors\n",
    "from matplotlib import gridspec"
   ]
  },
  {
   "cell_type": "markdown",
   "metadata": {},
   "source": [
    "<h6 style=\"font-size:2em;color:#2467C0\">Distributions</h6>"
   ]
  },
  {
   "cell_type": "code",
   "execution_count": 5,
   "metadata": {},
   "outputs": [],
   "source": [
    "def sns_boxplot_distplot_one_col_df(df, title, txt_place, cal_kde_bw, ax_hist_xlabel, ax_hist_ylabel):\n",
    "    #OneVariableHistogram\n",
    "    sns.set(style=\"whitegrid\")\n",
    "\n",
    "    # Initialize the matplotlib figure and Cutting the window in 2 parts\n",
    "    f, (ax_box, ax_hist) = plt.subplots(2, sharex=True, gridspec_kw={\"height_ratios\": (.15, .85)}, figsize=(8, 8))\n",
    "\n",
    "    #Finding Measures Of Central Tendency\n",
    "    mean = df.mean()\n",
    "    median = df.median()\n",
    "    mode = df.mode().values[0]\n",
    "    mode_occurences = df.value_counts(ascending=False).head(1).values[0]\n",
    "    sigma = df.std()\n",
    "\n",
    "    #Patch text\n",
    "    textstr = '\\n'.join((\n",
    "        r'$\\mu=%.2f$' % (mean),\n",
    "        r'$\\mathrm{median}=%.2f$' % (median),\n",
    "        r'$\\mathrm{mode}=%.2f$' % (mode),\n",
    "        r'$\\mathrm{ModeOccurrences}=%.2f$' % (mode_occurences),\n",
    "        r'$\\sigma=%.2f$' % (sigma)))\n",
    "    textstr = textstr + \"\\n\"\n",
    "\n",
    "    # these are matplotlib.patch.Patch properties\n",
    "    props = dict(boxstyle='round', facecolor='wheat', alpha=0.5)\n",
    "\n",
    "    #print(textstr)\n",
    "    # place a text box in bottom left, center or right in axes coords\n",
    "    if txt_place == 'left':\n",
    "        ax_hist.text(0.05, 0, textstr.rstrip(), transform=ax_hist.transAxes, fontsize=10,\n",
    "            verticalalignment='bottom', bbox=props)\n",
    "    elif txt_place == 'center':\n",
    "        ax_hist.text(0.3, 0, textstr.rstrip(), transform=ax_hist.transAxes, fontsize=10,\n",
    "            verticalalignment='bottom', bbox=props)\n",
    "    else:\n",
    "        ax_hist.text(0.7, 0, textstr.rstrip(), transform=ax_hist.transAxes, fontsize=10,\n",
    "            verticalalignment='bottom', bbox=props)\n",
    "\n",
    "    # Add a graph in each part\n",
    "    sns.boxplot(df, ax=ax_box)\n",
    "    ax_box.axvline(mean, color='r', linestyle='--')\n",
    "    ax_box.axvline(median, color='g', linestyle='-')\n",
    "    ax_box.axvline(mode, color='b', linestyle='-')\n",
    "\n",
    "    if cal_kde_bw:\n",
    "        sns.distplot(df, ax=ax_hist, kde_kws={'bw':1.5})\n",
    "    else:\n",
    "        sns.distplot(df, ax=ax_hist)\n",
    "    ax_hist.axvline(mean, color='r', linestyle='--')\n",
    "    ax_hist.axvline(median, color='g', linestyle='-')\n",
    "    ax_hist.axvline(mode, color='b', linestyle='-')\n",
    "\n",
    "    ax_hist.set(xlabel=ax_hist_xlabel, ylabel=ax_hist_ylabel)\n",
    "    #sns.violinplot(y=dfCliPromoAssignedApplied_Totals[\"totclinotapplied\"],ax=ax_violin)\n",
    "\n",
    "    #Legends\n",
    "    plt.legend({'Mean':mean,'Median':median,'Mode':mode})\n",
    "\n",
    "    # Remove x axis name for the boxplot\n",
    "    ax_box.set(xlabel='')\n",
    "    #ax_violin.set(xlabel='')\n",
    "\n",
    "    # Add a legend and informative axis label\n",
    "    ax_box.set_title(title, fontsize=16)\n",
    "    plt.show()"
   ]
  },
  {
   "cell_type": "markdown",
   "metadata": {},
   "source": [
    "<h6 style=\"font-size:2em;color:#2467C0\">Points</h6>"
   ]
  },
  {
   "cell_type": "code",
   "execution_count": 6,
   "metadata": {},
   "outputs": [],
   "source": [
    "def sns_scatterplot_one_col_df(_df, _title):\n",
    "    sns.set(style=\"whitegrid\")\n",
    "    sns.scatterplot(data=_df, s=100, color=\".2\", marker=\"+\")\n",
    "    # Add a legend and informative axis label\n",
    "    ax = plt.gca()\n",
    "    ax.set_title(_title)\n",
    "    "
   ]
  },
  {
   "cell_type": "markdown",
   "metadata": {},
   "source": [
    "<h6 style=\"font-size:2em;color:#2467C0\">Plots</h6>"
   ]
  },
  {
   "cell_type": "code",
   "execution_count": null,
   "metadata": {},
   "outputs": [],
   "source": [
    "def plot_cdf_uniform_distribution(_loc, _scale, _title):\n",
    "    fig, ax = plt.subplots(1, 1)\n",
    "    uniform_distribution = uniform(loc=_loc, scale=_scale)\n",
    "    cdf = uniform_distribution.cdf(uniform_dist_data)\n",
    "    ax.plot(uniform_dist_data, cdf, 'k-', lw=2, label='cdf')\n",
    "    ax.legend(loc='best', frameon=False)\n",
    "    ax = plt.gca()\n",
    "    ax.set_title(_title)\n",
    "    fig.show()"
   ]
  },
  {
   "cell_type": "code",
   "execution_count": null,
   "metadata": {},
   "outputs": [],
   "source": [
    "def plot_weibull_family():\n",
    "    γ_values = [0.5, 1, 2, 5, 2]\n",
    "    alpha_values = [1, 1, 1, 1, 2]\n",
    "    linestyles = ['-', '--', '-.', ':', 'solid']\n",
    "    \n",
    "    colors = ['blue', 'green', 'red', 'cyan', 'magenta']\n",
    "    mu = 0\n",
    "    x = np.linspace(-10, 10, 1000)\n",
    "\n",
    "\n",
    "    fig, ax = plt.subplots(figsize=(10, 10))\n",
    "\n",
    "    for (k, lam, ls, _color) in zip(γ_values, alpha_values, linestyles, colors):\n",
    "        dist = weibull_min(k, mu, lam)\n",
    "        plt.plot(x, dist.pdf(x), ls=ls, c=_color,\n",
    "                 label=r'$γ=%.1f,\\ α=%i$' % (k, lam))\n",
    "\n",
    "    plt.xlim(0, 5)\n",
    "    plt.ylim(0, 1)\n",
    "\n",
    "    plt.xlabel('$x$')\n",
    "    plt.ylabel(r'$p(x|γ,\\lambda)$')\n",
    "    plt.title('Weibull Distributions')\n",
    "\n",
    "    plt.legend()\n",
    "    plt.show()"
   ]
  }
 ],
 "metadata": {
  "kernelspec": {
   "display_name": "Python 3",
   "language": "python",
   "name": "python3"
  },
  "language_info": {
   "codemirror_mode": {
    "name": "ipython",
    "version": 3
   },
   "file_extension": ".py",
   "mimetype": "text/x-python",
   "name": "python",
   "nbconvert_exporter": "python",
   "pygments_lexer": "ipython3",
   "version": "3.7.3"
  }
 },
 "nbformat": 4,
 "nbformat_minor": 2
}
