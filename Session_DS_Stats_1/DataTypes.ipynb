{
 "cells": [
  {
   "cell_type": "markdown",
   "metadata": {},
   "source": [
    "<br><br><center><h1 style=\"font-size:4em;color:#2467C0\">Covid19 Analysis</h1></center>\n",
    "<br>\n",
    "<table>\n",
    "    <col width=\"500\">\n",
    "    <tr> \n",
    "    <p> Coronavirus disease 2019 (COVID-19) is an infectious disease caused by severe acute respiratory syndrome coronavirus 2 (SARS-CoV-2). It was first identified in December 2019 in Wuhan, Hubei, China, and has resulted in an ongoing pandemic.</p>\n",
    "    <p><i>Coronavirus Case Data is provided by Johns Hopkins University(https://github.com/CSSEGISandData/COVID-19).</i></p>\n",
    "    </tr>\n",
    "    <tr>\n",
    "        <td><img src=\"https://img.medicalexpo.com/images_me/projects/images-g/covid-19-dentists-microscope-33996-15775207.jpg\" align=\"middle\" style=\"width:590px;height:340px;\"/></td>\n",
    "    </tr>\n",
    "    <tr> \n",
    "        <td> Version 1.00</td>  \n",
    "    </tr>\n",
    "</table>"
   ]
  },
  {
   "cell_type": "code",
   "execution_count": null,
   "metadata": {
    "tags": []
   },
   "outputs": [],
   "source": [
    "%config IPCompleter.greedy=True\n",
    "%load_ext memory_profiler\n",
    "%run HelperModule.ipynb\n",
    "%run PlotModule.ipynb\n",
    "# Within IPython notebook, add multiple print capabilities\n",
    "from IPython.core.interactiveshell import InteractiveShell\n",
    "InteractiveShell.ast_node_interactivity = \"all\"\n",
    "#%matplotlib notebook\n",
    "%matplotlib inline\n",
    "import numpy as np"
   ]
  },
  {
   "cell_type": "markdown",
   "metadata": {
    "tags": []
   },
   "source": [
    "<h6 style=\"font-size:2em;color:#2467C0\">Import data</h6>"
   ]
  },
  {
   "cell_type": "code",
   "execution_count": null,
   "metadata": {},
   "outputs": [],
   "source": [
    "%%time\n",
    "date_format = '%m-%d-%Y'\n",
    "files_jhu_csse_obj = jhu_csse_load_csv(jhu_csse_daily_file_name, date_format)"
   ]
  },
  {
   "cell_type": "code",
   "execution_count": null,
   "metadata": {},
   "outputs": [],
   "source": [
    "_name = 'df_has_numerical_columns'\n",
    "if is_name_locally_defined(_name):\n",
    "    print(_name + ' is locally defined')\n",
    "else:\n",
    "    if is_name_globally_defined(_name):\n",
    "        print(_name + ' is globally defined')\n",
    "    else:\n",
    "        print(_name + ' is undefined')"
   ]
  },
  {
   "cell_type": "code",
   "execution_count": null,
   "metadata": {},
   "outputs": [],
   "source": [
    "print('--------df_global_confirmed--------------')\n",
    "print('Size:')\n",
    "print(files_jhu_csse_obj.df_global_confirmed.size)\n",
    "print('-----------------------------------------')\n",
    "print('Shape:')\n",
    "files_jhu_csse_obj.df_global_confirmed.shape\n",
    "print('-----------------------------------------')\n",
    "print('Columns:')\n",
    "files_jhu_csse_obj.df_global_confirmed.columns\n",
    "print('-----------------------------------------')\n",
    "print('First 3 rows:')\n",
    "files_jhu_csse_obj.df_global_confirmed.head(3)\n",
    "print('-----------------------------------------')\n",
    "print('Describe number:')\n",
    "if df_has_numerical_columns(files_jhu_csse_obj.df_global_confirmed):\n",
    "    files_jhu_csse_obj.df_global_confirmed.describe(include=[np.number])\n",
    "else:\n",
    "    print(\"No numeric fields!\")\n",
    "print('-----------------------------------------')\n",
    "print('Describe categorical:')\n",
    "if df_has_categorical_columns(files_jhu_csse_obj.df_global_confirmed):\n",
    "    files_jhu_csse_obj.df_global_confirmed.describe(include=['category'])\n",
    "else:\n",
    "    print(\"No categorical fields!\")\n",
    "print('-----------------------------------------')"
   ]
  },
  {
   "cell_type": "code",
   "execution_count": null,
   "metadata": {},
   "outputs": [],
   "source": [
    "print('--------df_us_confirmed--------------')\n",
    "print('Size:')\n",
    "print(files_jhu_csse_obj.df_us_confirmed.size)\n",
    "print('-----------------------------------------')\n",
    "print('Shape:')\n",
    "files_jhu_csse_obj.df_us_confirmed.shape\n",
    "print('-----------------------------------------')\n",
    "print('Columns:')\n",
    "files_jhu_csse_obj.df_us_confirmed.columns\n",
    "print('-----------------------------------------')\n",
    "print('First 3 rows:')\n",
    "files_jhu_csse_obj.df_us_confirmed.head(3)\n",
    "print('-----------------------------------------')\n",
    "print('Describe number:')\n",
    "if df_has_numerical_columns(files_jhu_csse_obj.df_us_confirmed):\n",
    "    files_jhu_csse_obj.df_us_confirmed.describe(include=[np.number])\n",
    "else:\n",
    "    print(\"No numeric fields!\")\n",
    "print('-----------------------------------------')\n",
    "print('Describe categorical:')\n",
    "if df_has_categorical_columns(files_jhu_csse_obj.df_us_confirmed):\n",
    "    files_jhu_csse_obj.df_us_confirmed.describe(include=['category'])\n",
    "else:\n",
    "    print(\"No categorical fields!\")\n",
    "print('-----------------------------------------')"
   ]
  },
  {
   "cell_type": "code",
   "execution_count": null,
   "metadata": {},
   "outputs": [],
   "source": [
    "print('--------df_global_deaths--------------')\n",
    "print('Size:')\n",
    "print(files_jhu_csse_obj.df_global_deaths.size)\n",
    "print('-----------------------------------------')\n",
    "print('Shape:')\n",
    "files_jhu_csse_obj.df_global_deaths.shape\n",
    "print('-----------------------------------------')\n",
    "print('Columns:')\n",
    "files_jhu_csse_obj.df_global_deaths.columns\n",
    "print('-----------------------------------------')\n",
    "print('First 3 rows:')\n",
    "files_jhu_csse_obj.df_global_deaths.head(3)\n",
    "print('-----------------------------------------')\n",
    "print('Describe number:')\n",
    "if df_has_numerical_columns(files_jhu_csse_obj.df_global_deaths):\n",
    "    files_jhu_csse_obj.df_global_deaths.describe(include=[np.number])\n",
    "else:\n",
    "    print(\"No numeric fields!\")\n",
    "print('-----------------------------------------')\n",
    "print('Describe categorical:')\n",
    "if df_has_categorical_columns(files_jhu_csse_obj.df_global_deaths):\n",
    "    files_jhu_csse_obj.df_global_deaths.describe(include=['category'])\n",
    "else:\n",
    "    print(\"No categorical fields!\")\n",
    "print('-----------------------------------------')"
   ]
  },
  {
   "cell_type": "code",
   "execution_count": null,
   "metadata": {},
   "outputs": [],
   "source": [
    "print('--------df_us_deaths--------------')\n",
    "print('Size:')\n",
    "print(files_jhu_csse_obj.df_us_deaths.size)\n",
    "print('-----------------------------------------')\n",
    "print('Shape:')\n",
    "files_jhu_csse_obj.df_us_deaths.shape\n",
    "print('-----------------------------------------')\n",
    "print('Columns:')\n",
    "files_jhu_csse_obj.df_us_deaths.columns\n",
    "print('-----------------------------------------')\n",
    "print('First 3 rows:')\n",
    "files_jhu_csse_obj.df_us_deaths.head(3)\n",
    "print('-----------------------------------------')\n",
    "print('Describe number:')\n",
    "if df_has_numerical_columns(files_jhu_csse_obj.df_us_deaths):\n",
    "    files_jhu_csse_obj.df_us_deaths.describe(include=[np.number])\n",
    "else:\n",
    "    print(\"No numeric fields!\")\n",
    "print('-----------------------------------------')\n",
    "print('Describe categorical:')\n",
    "if df_has_categorical_columns(files_jhu_csse_obj.df_us_deaths):\n",
    "    files_jhu_csse_obj.df_us_deaths.describe(include=['category'])\n",
    "else:\n",
    "    print(\"No categorical fields!\")\n",
    "print('-----------------------------------------')"
   ]
  },
  {
   "cell_type": "code",
   "execution_count": null,
   "metadata": {},
   "outputs": [],
   "source": [
    "print('--------df_global_recoveries--------------')\n",
    "print('Size:')\n",
    "print(files_jhu_csse_obj.df_global_recoveries.size)\n",
    "print('-----------------------------------------')\n",
    "print('Shape:')\n",
    "files_jhu_csse_obj.df_global_recoveries.shape\n",
    "print('-----------------------------------------')\n",
    "print('Columns:')\n",
    "files_jhu_csse_obj.df_global_recoveries.columns\n",
    "print('-----------------------------------------')\n",
    "print('First 3 rows:')\n",
    "files_jhu_csse_obj.df_global_recoveries.head(3)\n",
    "print('-----------------------------------------')\n",
    "print('Describe number:')\n",
    "if df_has_numerical_columns(files_jhu_csse_obj.df_global_recoveries):\n",
    "    files_jhu_csse_obj.df_global_recoveries.describe(include=[np.number])\n",
    "else:\n",
    "    print(\"No numeric fields!\")\n",
    "print('-----------------------------------------')\n",
    "print('Describe categorical:')\n",
    "if df_has_categorical_columns(files_jhu_csse_obj.df_global_recoveries):\n",
    "    files_jhu_csse_obj.df_global_recoveries.describe(include=['category'])\n",
    "else:\n",
    "    print(\"No categorical fields!\")\n",
    "print('-----------------------------------------')"
   ]
  },
  {
   "cell_type": "code",
   "execution_count": null,
   "metadata": {},
   "outputs": [],
   "source": [
    "print('--------df_global_latest_data--------------')\n",
    "print('Size:')\n",
    "print(files_jhu_csse_obj.df_global_latest_data.size)\n",
    "print('-----------------------------------------')\n",
    "print('Shape:')\n",
    "files_jhu_csse_obj.df_global_latest_data.shape\n",
    "print('-----------------------------------------')\n",
    "print('Columns:')\n",
    "files_jhu_csse_obj.df_global_latest_data.columns\n",
    "print('-----------------------------------------')\n",
    "print('First 3 rows:')\n",
    "files_jhu_csse_obj.df_global_latest_data.head(3)\n",
    "print('-----------------------------------------')\n",
    "print('Describe number:')\n",
    "if df_has_numerical_columns(files_jhu_csse_obj.df_global_latest_data):\n",
    "    files_jhu_csse_obj.df_global_latest_data.describe(include=[np.number])\n",
    "else:\n",
    "    print(\"No numeric fields!\")\n",
    "print('-----------------------------------------')\n",
    "print('Describe categorical:')\n",
    "if df_has_categorical_columns(files_jhu_csse_obj.df_global_latest_data):\n",
    "    files_jhu_csse_obj.df_global_latest_data.describe(include=['category'])\n",
    "else:\n",
    "    print(\"No categorical fields!\")\n",
    "print('-----------------------------------------')"
   ]
  },
  {
   "cell_type": "code",
   "execution_count": null,
   "metadata": {},
   "outputs": [],
   "source": [
    "print('--------df_us_latest_data--------------')\n",
    "print('Size:')\n",
    "print(files_jhu_csse_obj.df_us_latest_data.size)\n",
    "print('-----------------------------------------')\n",
    "print('Shape:')\n",
    "files_jhu_csse_obj.df_us_latest_data.shape\n",
    "print('-----------------------------------------')\n",
    "print('Columns:')\n",
    "files_jhu_csse_obj.df_us_latest_data.columns\n",
    "print('-----------------------------------------')\n",
    "print('First 3 rows:')\n",
    "files_jhu_csse_obj.df_us_latest_data.head(3)\n",
    "print('-----------------------------------------')\n",
    "print('Describe number:')\n",
    "if df_has_numerical_columns(files_jhu_csse_obj.df_us_latest_data):\n",
    "    files_jhu_csse_obj.df_us_latest_data.describe(include=[np.number])\n",
    "else:\n",
    "    print(\"No numeric fields!\")\n",
    "print('-----------------------------------------')\n",
    "print('Describe categorical:')\n",
    "if df_has_categorical_columns(files_jhu_csse_obj.df_us_latest_data):\n",
    "    files_jhu_csse_obj.df_us_latest_data.describe(include=['category'])\n",
    "else:\n",
    "    print(\"No categorical fields!\")\n",
    "print('-----------------------------------------')"
   ]
  },
  {
   "source": [
    "<h6 style=\"font-size:2em;color:#2467C0\">Data Plotting</h6>"
   ],
   "cell_type": "markdown",
   "metadata": {}
  },
  {
   "source": [
    "<p>The information comming from the JHU repository needs some preparation.</p>"
   ],
   "cell_type": "markdown",
   "metadata": {}
  },
  {
   "cell_type": "code",
   "execution_count": null,
   "metadata": {},
   "outputs": [],
   "source": [
    "check_nan_columns(files_jhu_csse_obj.df_global_confirmed, ['Province/State', 'Country/Region', 'Lat', 'Long'])"
   ]
  },
  {
   "cell_type": "code",
   "execution_count": null,
   "metadata": {},
   "outputs": [],
   "source": [
    "df_global_confirmed_country_region = files_jhu_csse_obj.df_global_confirmed.loc[:,~files_jhu_csse_obj.df_global_confirmed.columns.isin(['Lat', 'Long'])]\n",
    "df_global_confirmed_country_region['Province/State_not_nan'] = df_global_confirmed_country_region['Province/State']\n",
    "df_global_confirmed_country_region = df_global_confirmed_country_region.fillna(value={'Province/State_not_nan': ''})\n",
    "df_global_confirmed_country_region['Region'] = df_global_confirmed_country_region['Country/Region'] + '_' + df_global_confirmed_country_region['Province/State_not_nan']\n",
    "df_global_confirmed_country_region['Region'] = df_global_confirmed_country_region['Region'].str.rstrip('_')\n",
    "df_global_confirmed_country_region = df_global_confirmed_country_region.loc[:,~df_global_confirmed_country_region.columns.isin(['Province/State', 'Country/Region','Province/State_not_nan'])]\n",
    "df_global_confirmed_country_region.head(3)\n",
    "\n",
    "\n"
   ]
  },
  {
   "cell_type": "code",
   "execution_count": null,
   "metadata": {},
   "outputs": [],
   "source": [
    "global_confirmed_country = 'US'\n",
    "df_global_confirmed_country_spec = df_global_confirmed_country_region.query(\"Region == '\" + global_confirmed_country + \"'\")\n",
    "df_global_confirmed_country_spec = df_global_confirmed_country_spec = df_global_confirmed_country_spec.loc[:,~df_global_confirmed_country_spec.columns.isin(['Region'])]\n",
    "df_global_confirmed_country_spec.index.names = ['Date']\n",
    "df_global_confirmed_country_spec"
   ]
  },
  {
   "cell_type": "code",
   "execution_count": null,
   "metadata": {},
   "outputs": [],
   "source": [
    "df_global_confirmed_country_spec_t = df_global_confirmed_country_spec.T\n",
    "df_global_confirmed_country_spec_t.columns = ['value']\n",
    "#df_global_confirmed_country_spec_t.astype({'value': 'int64'}).dtypes\n",
    "#df_global_confirmed_country_spec_t[[\"value\"]].apply(pd.to_numeric)\n",
    "df_global_confirmed_country_spec_t['value']= pd.to_numeric(df_global_confirmed_country_spec_t['value'])\n",
    "df_global_confirmed_country_spec_t['date'] = df_global_confirmed_country_spec_t.index\n",
    "df_global_confirmed_country_spec_t.reset_index(drop=True, inplace=True)\n",
    "#df_global_confirmed_country_spec_t[[\"date\"]].apply(pd.datetime)\n",
    "df_global_confirmed_country_spec_t['date']= pd.to_datetime(df_global_confirmed_country_spec_t['date'])\n",
    "df_global_confirmed_country_spec_t.tail(3)\n",
    "#df_global_confirmed_country_spec_t.index\n",
    "#df_global_confirmed_country_spec_t.columns\n",
    "df_global_confirmed_country_spec_t.info()"
   ]
  },
  {
   "cell_type": "code",
   "execution_count": null,
   "metadata": {},
   "outputs": [],
   "source": [
    "sns_lineplot_comparisons(df_global_confirmed_country_spec_t, 'date', 'value', 'Date', 'Daily Confirmed New Cases' ,'','Daily confirmed cases in ' + global_confirmed_country)"
   ]
  },
  {
   "source": [
    "<p>Computing 7-day rolling average (a better way to visualize).</p>"
   ],
   "cell_type": "markdown",
   "metadata": {}
  },
  {
   "cell_type": "code",
   "execution_count": null,
   "metadata": {},
   "outputs": [],
   "source": [
    "df_global_confirmed_country_spec_t['conf_cases_pct_change'] = df_global_confirmed_country_spec_t.value.pct_change().mul(100).round(2)"
   ]
  },
  {
   "cell_type": "code",
   "execution_count": null,
   "metadata": {},
   "outputs": [],
   "source": [
    "df_global_confirmed_country_spec_t['conf_cases_7day_average'] = df_global_confirmed_country_spec_t.value.rolling(7).mean().shift(-3)\n",
    "df_global_confirmed_country_spec_t.tail(10)"
   ]
  },
  {
   "cell_type": "code",
   "execution_count": null,
   "metadata": {},
   "outputs": [],
   "source": [
    "print('--------df_global_confirmed_country_spec_t--------------')\n",
    "print('Size:')\n",
    "print(df_global_confirmed_country_spec_t.size)\n",
    "print('-----------------------------------------')\n",
    "print('Shape:')\n",
    "df_global_confirmed_country_spec_t.shape\n",
    "print('-----------------------------------------')\n",
    "print('Columns:')\n",
    "df_global_confirmed_country_spec_t.columns\n",
    "print('-----------------------------------------')\n",
    "print('First 3 rows:')\n",
    "df_global_confirmed_country_spec_t.head(3)\n",
    "print('-----------------------------------------')\n",
    "print('Describe number:')\n",
    "if df_has_numerical_columns(df_global_confirmed_country_spec_t):\n",
    "    df_global_confirmed_country_spec_t.describe(include=[np.number])\n",
    "else:\n",
    "    print(\"No numeric fields!\")\n",
    "print('-----------------------------------------')\n",
    "print('Describe categorical:')\n",
    "if df_has_categorical_columns(df_global_confirmed_country_spec_t):\n",
    "    df_global_confirmed_country_spec_t.describe(include=['category'])\n",
    "else:\n",
    "    print(\"No categorical fields!\")\n",
    "print('Count NaA under conf_cases_pct_change column:')\n",
    "df_global_confirmed_country_spec_t['conf_cases_pct_change'].isnull().sum()\n",
    "print('-----------------------------------------')"
   ]
  },
  {
   "cell_type": "code",
   "execution_count": null,
   "metadata": {},
   "outputs": [],
   "source": [
    "\n",
    "df_global_confirmed_country_spec_t['conf_cases_pct_change'] = df_global_confirmed_country_spec_t['conf_cases_pct_change'].fillna(0)"
   ]
  },
  {
   "cell_type": "code",
   "execution_count": null,
   "metadata": {},
   "outputs": [],
   "source": [
    "sns_lineplot_comparisons(df_global_confirmed_country_spec_t, 'date', 'conf_cases_pct_change' , 'Date', 'Daily Confirmed New Cases pct change', 'can we notice the trend?','Daily confirmed cases in USA')"
   ]
  },
  {
   "cell_type": "code",
   "execution_count": null,
   "metadata": {},
   "outputs": [],
   "source": [
    "sns_lineplot_comparisons_rolling(df_global_confirmed_country_spec_t, 'date', 'value', 'conf_cases_7day_average' ,'Just increasing values!','Daily confirmed cases in ' + global_confirmed_country)"
   ]
  },
  {
   "cell_type": "code",
   "execution_count": null,
   "metadata": {},
   "outputs": [],
   "source": [
    "title = 'Average of percentange change of confirmed cases in USA'\n",
    "txt_place = 'right'\n",
    "cal_kde_bw = False\n",
    "sns_boxplot_distplot_one_col_df(df_global_confirmed_country_spec_t['conf_cases_pct_change'], title, txt_place, cal_kde_bw)"
   ]
  },
  {
   "source": [
    "diamonds = sns.load_dataset(\"diamonds\")"
   ],
   "cell_type": "code",
   "metadata": {},
   "execution_count": null,
   "outputs": []
  },
  {
   "cell_type": "code",
   "execution_count": null,
   "metadata": {},
   "outputs": [],
   "source": [
    "col = 'United States'\n",
    "get_continent(col)"
   ]
  }
 ],
 "metadata": {
  "kernelspec": {
   "display_name": "Python 3",
   "language": "python",
   "name": "python3"
  },
  "language_info": {
   "codemirror_mode": {
    "name": "ipython",
    "version": 3
   },
   "file_extension": ".py",
   "mimetype": "text/x-python",
   "name": "python",
   "nbconvert_exporter": "python",
   "pygments_lexer": "ipython3",
   "version": "3.7.3-final"
  }
 },
 "nbformat": 4,
 "nbformat_minor": 2
}