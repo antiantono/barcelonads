{
 "cells": [
  {
   "cell_type": "markdown",
   "metadata": {},
   "source": [
    "<br><br><center><h1 style=\"font-size:4em;color:#2467C0\">Covid19 Analysis</h1></center>\n",
    "<br>\n",
    "<table>\n",
    "    <col width=\"500\">\n",
    "    <tr> \n",
    "    <p> Coronavirus disease 2019 (COVID-19) is an infectious disease caused by severe acute respiratory syndrome coronavirus 2 (SARS-CoV-2). It was first identified in December 2019 in Wuhan, Hubei, China, and has resulted in an ongoing pandemic.</p>\n",
    "    <p><i>Coronavirus Case Data is provided by Johns Hopkins University(https://github.com/CSSEGISandData/COVID-19).</i></p>\n",
    "    </tr>\n",
    "    <tr>\n",
    "        <td><img src=\"https://img.medicalexpo.com/images_me/projects/images-g/covid-19-dentists-microscope-33996-15775207.jpg\" align=\"middle\" style=\"width:590px;height:340px;\"/></td>\n",
    "    </tr>\n",
    "    <tr> \n",
    "        <td> Version 1.00</td>  \n",
    "    </tr>\n",
    "</table>"
   ]
  },
  {
   "cell_type": "code",
   "execution_count": 38,
   "metadata": {
    "tags": []
   },
   "outputs": [
    {
     "output_type": "stream",
     "name": "stdout",
     "text": [
      "The memory_profiler extension is already loaded. To reload it, use:\n  %reload_ext memory_profiler\n"
     ]
    }
   ],
   "source": [
    "%config IPCompleter.greedy=True\n",
    "%load_ext memory_profiler\n",
    "%run HelperModule.ipynb\n",
    "%run PlotModule.ipynb\n",
    "# Within IPython notebook, add multiple print capabilities\n",
    "from IPython.core.interactiveshell import InteractiveShell\n",
    "InteractiveShell.ast_node_interactivity = \"all\"\n",
    "#%matplotlib notebook\n",
    "%matplotlib inline\n",
    "import numpy as np"
   ]
  },
  {
   "cell_type": "markdown",
   "metadata": {
    "tags": []
   },
   "source": [
    "<h6 style=\"font-size:2em;color:#2467C0\">Import data</h6>"
   ]
  },
  {
   "cell_type": "code",
   "execution_count": 39,
   "metadata": {},
   "outputs": [
    {
     "output_type": "stream",
     "name": "stdout",
     "text": [
      "CPU times: user 788 ms, sys: 71.8 ms, total: 860 ms\nWall time: 5.43 s\n"
     ]
    }
   ],
   "source": [
    "%%time\n",
    "date_format = '%m-%d-%Y'\n",
    "files_jhu_csse_obj = jhu_csse_load_csv(jhu_csse_daily_file_name, date_format)"
   ]
  },
  {
   "cell_type": "code",
   "execution_count": 40,
   "metadata": {},
   "outputs": [
    {
     "output_type": "stream",
     "name": "stdout",
     "text": [
      "df_has_numerical_columns is globally defined\n"
     ]
    }
   ],
   "source": [
    "_name = 'df_has_numerical_columns'\n",
    "if is_name_locally_defined(_name):\n",
    "    print(_name + ' is locally defined')\n",
    "else:\n",
    "    if is_name_globally_defined(_name):\n",
    "        print(_name + ' is globally defined')\n",
    "    else:\n",
    "        print(_name + ' is undefined')"
   ]
  },
  {
   "cell_type": "code",
   "execution_count": 41,
   "metadata": {},
   "outputs": [
    {
     "output_type": "stream",
     "name": "stdout",
     "text": [
      "--------df_global_confirmed--------------\nSize:\n71022\n-----------------------------------------\nShape:\n"
     ]
    },
    {
     "output_type": "execute_result",
     "data": {
      "text/plain": [
       "(266, 267)"
      ]
     },
     "metadata": {},
     "execution_count": 41
    },
    {
     "output_type": "stream",
     "name": "stdout",
     "text": [
      "-----------------------------------------\nColumns:\n"
     ]
    },
    {
     "output_type": "execute_result",
     "data": {
      "text/plain": [
       "Index(['Province/State', 'Country/Region', 'Lat', 'Long', '1/22/20', '1/23/20',\n",
       "       '1/24/20', '1/25/20', '1/26/20', '1/27/20',\n",
       "       ...\n",
       "       '10/1/20', '10/2/20', '10/3/20', '10/4/20', '10/5/20', '10/6/20',\n",
       "       '10/7/20', '10/8/20', '10/9/20', '10/10/20'],\n",
       "      dtype='object', length=267)"
      ]
     },
     "metadata": {},
     "execution_count": 41
    },
    {
     "output_type": "stream",
     "name": "stdout",
     "text": [
      "-----------------------------------------\nFirst 3 rows:\n"
     ]
    },
    {
     "output_type": "execute_result",
     "data": {
      "text/plain": [
       "  Province/State Country/Region       Lat       Long  1/22/20  1/23/20  \\\n",
       "0            NaN    Afghanistan  33.93911  67.709953        0        0   \n",
       "1            NaN        Albania  41.15330  20.168300        0        0   \n",
       "2            NaN        Algeria  28.03390   1.659600        0        0   \n",
       "\n",
       "   1/24/20  1/25/20  1/26/20  1/27/20  ...  10/1/20  10/2/20  10/3/20  \\\n",
       "0        0        0        0        0  ...    39285    39290    39297   \n",
       "1        0        0        0        0  ...    13806    13965    14117   \n",
       "2        0        0        0        0  ...    51690    51847    51995   \n",
       "\n",
       "   10/4/20  10/5/20  10/6/20  10/7/20  10/8/20  10/9/20  10/10/20  \n",
       "0    39341    39422    39486    39548    39616    39693     39703  \n",
       "1    14266    14410    14568    14730    14899    15066     15231  \n",
       "2    52136    52270    52399    52520    52658    52804     52940  \n",
       "\n",
       "[3 rows x 267 columns]"
      ],
      "text/html": "<div>\n<style scoped>\n    .dataframe tbody tr th:only-of-type {\n        vertical-align: middle;\n    }\n\n    .dataframe tbody tr th {\n        vertical-align: top;\n    }\n\n    .dataframe thead th {\n        text-align: right;\n    }\n</style>\n<table border=\"1\" class=\"dataframe\">\n  <thead>\n    <tr style=\"text-align: right;\">\n      <th></th>\n      <th>Province/State</th>\n      <th>Country/Region</th>\n      <th>Lat</th>\n      <th>Long</th>\n      <th>1/22/20</th>\n      <th>1/23/20</th>\n      <th>1/24/20</th>\n      <th>1/25/20</th>\n      <th>1/26/20</th>\n      <th>1/27/20</th>\n      <th>...</th>\n      <th>10/1/20</th>\n      <th>10/2/20</th>\n      <th>10/3/20</th>\n      <th>10/4/20</th>\n      <th>10/5/20</th>\n      <th>10/6/20</th>\n      <th>10/7/20</th>\n      <th>10/8/20</th>\n      <th>10/9/20</th>\n      <th>10/10/20</th>\n    </tr>\n  </thead>\n  <tbody>\n    <tr>\n      <th>0</th>\n      <td>NaN</td>\n      <td>Afghanistan</td>\n      <td>33.93911</td>\n      <td>67.709953</td>\n      <td>0</td>\n      <td>0</td>\n      <td>0</td>\n      <td>0</td>\n      <td>0</td>\n      <td>0</td>\n      <td>...</td>\n      <td>39285</td>\n      <td>39290</td>\n      <td>39297</td>\n      <td>39341</td>\n      <td>39422</td>\n      <td>39486</td>\n      <td>39548</td>\n      <td>39616</td>\n      <td>39693</td>\n      <td>39703</td>\n    </tr>\n    <tr>\n      <th>1</th>\n      <td>NaN</td>\n      <td>Albania</td>\n      <td>41.15330</td>\n      <td>20.168300</td>\n      <td>0</td>\n      <td>0</td>\n      <td>0</td>\n      <td>0</td>\n      <td>0</td>\n      <td>0</td>\n      <td>...</td>\n      <td>13806</td>\n      <td>13965</td>\n      <td>14117</td>\n      <td>14266</td>\n      <td>14410</td>\n      <td>14568</td>\n      <td>14730</td>\n      <td>14899</td>\n      <td>15066</td>\n      <td>15231</td>\n    </tr>\n    <tr>\n      <th>2</th>\n      <td>NaN</td>\n      <td>Algeria</td>\n      <td>28.03390</td>\n      <td>1.659600</td>\n      <td>0</td>\n      <td>0</td>\n      <td>0</td>\n      <td>0</td>\n      <td>0</td>\n      <td>0</td>\n      <td>...</td>\n      <td>51690</td>\n      <td>51847</td>\n      <td>51995</td>\n      <td>52136</td>\n      <td>52270</td>\n      <td>52399</td>\n      <td>52520</td>\n      <td>52658</td>\n      <td>52804</td>\n      <td>52940</td>\n    </tr>\n  </tbody>\n</table>\n<p>3 rows × 267 columns</p>\n</div>"
     },
     "metadata": {},
     "execution_count": 41
    },
    {
     "output_type": "stream",
     "name": "stdout",
     "text": [
      "-----------------------------------------\n"
     ]
    }
   ],
   "source": [
    "print('--------df_global_confirmed--------------')\n",
    "print('Size:')\n",
    "print(files_jhu_csse_obj.df_global_confirmed.size)\n",
    "print('-----------------------------------------')\n",
    "print('Shape:')\n",
    "files_jhu_csse_obj.df_global_confirmed.shape\n",
    "print('-----------------------------------------')\n",
    "print('Columns:')\n",
    "files_jhu_csse_obj.df_global_confirmed.columns\n",
    "print('-----------------------------------------')\n",
    "print('First 3 rows:')\n",
    "files_jhu_csse_obj.df_global_confirmed.head(3)\n",
    "print('-----------------------------------------')\n",
    "print('Describe number:')\n",
    "if df_has_numerical_columns(files_jhu_csse_obj.df_global_confirmed):\n",
    "    files_jhu_csse_obj.df_global_confirmed.describe(include=[np.number])\n",
    "else:\n",
    "    print(\"No numeric fields!\")\n",
    "print('-----------------------------------------')\n",
    "print('Describe categorical:')\n",
    "if df_has_categorical_columns(files_jhu_csse_obj.df_global_confirmed):\n",
    "    files_jhu_csse_obj.df_global_confirmed.describe(include=['category'])\n",
    "else:\n",
    "    print(\"No categorical fields!\")\n",
    "print('-----------------------------------------')"
   ]
  },
  {
   "cell_type": "code",
   "execution_count": 42,
   "metadata": {},
   "outputs": [
    {
     "output_type": "stream",
     "name": "stdout",
     "text": [
      "--------df_us_confirmed--------------\nSize:\n915160\n-----------------------------------------\nShape:\n"
     ]
    },
    {
     "output_type": "execute_result",
     "data": {
      "text/plain": [
       "(3340, 274)"
      ]
     },
     "metadata": {},
     "execution_count": 42
    },
    {
     "output_type": "stream",
     "name": "stdout",
     "text": [
      "-----------------------------------------\nColumns:\n"
     ]
    },
    {
     "output_type": "execute_result",
     "data": {
      "text/plain": [
       "Index(['UID', 'iso2', 'iso3', 'code3', 'FIPS', 'Admin2', 'Province_State',\n",
       "       'Country_Region', 'Lat', 'Long_',\n",
       "       ...\n",
       "       '10/1/20', '10/2/20', '10/3/20', '10/4/20', '10/5/20', '10/6/20',\n",
       "       '10/7/20', '10/8/20', '10/9/20', '10/10/20'],\n",
       "      dtype='object', length=274)"
      ]
     },
     "metadata": {},
     "execution_count": 42
    },
    {
     "output_type": "stream",
     "name": "stdout",
     "text": [
      "-----------------------------------------\nFirst 3 rows:\n"
     ]
    },
    {
     "output_type": "execute_result",
     "data": {
      "text/plain": [
       "        UID iso2 iso3  code3    FIPS   Admin2 Province_State Country_Region  \\\n",
       "0  84001001   US  USA    840  1001.0  Autauga        Alabama             US   \n",
       "1  84001003   US  USA    840  1003.0  Baldwin        Alabama             US   \n",
       "2  84001005   US  USA    840  1005.0  Barbour        Alabama             US   \n",
       "\n",
       "         Lat      Long_  ... 10/1/20  10/2/20  10/3/20  10/4/20  10/5/20  \\\n",
       "0  32.539527 -86.644082  ...    1798     1805     1818     1828     1831   \n",
       "1  30.727750 -87.722071  ...    5997     6024     6048     6073     6085   \n",
       "2  31.868263 -85.387129  ...     898      902      921      921      921   \n",
       "\n",
       "   10/6/20  10/7/20  10/8/20  10/9/20  10/10/20  \n",
       "0     1839     1852     1863     1882      1898  \n",
       "1     6116     6134     6141     6172      6190  \n",
       "2      923      927      927      939       942  \n",
       "\n",
       "[3 rows x 274 columns]"
      ],
      "text/html": "<div>\n<style scoped>\n    .dataframe tbody tr th:only-of-type {\n        vertical-align: middle;\n    }\n\n    .dataframe tbody tr th {\n        vertical-align: top;\n    }\n\n    .dataframe thead th {\n        text-align: right;\n    }\n</style>\n<table border=\"1\" class=\"dataframe\">\n  <thead>\n    <tr style=\"text-align: right;\">\n      <th></th>\n      <th>UID</th>\n      <th>iso2</th>\n      <th>iso3</th>\n      <th>code3</th>\n      <th>FIPS</th>\n      <th>Admin2</th>\n      <th>Province_State</th>\n      <th>Country_Region</th>\n      <th>Lat</th>\n      <th>Long_</th>\n      <th>...</th>\n      <th>10/1/20</th>\n      <th>10/2/20</th>\n      <th>10/3/20</th>\n      <th>10/4/20</th>\n      <th>10/5/20</th>\n      <th>10/6/20</th>\n      <th>10/7/20</th>\n      <th>10/8/20</th>\n      <th>10/9/20</th>\n      <th>10/10/20</th>\n    </tr>\n  </thead>\n  <tbody>\n    <tr>\n      <th>0</th>\n      <td>84001001</td>\n      <td>US</td>\n      <td>USA</td>\n      <td>840</td>\n      <td>1001.0</td>\n      <td>Autauga</td>\n      <td>Alabama</td>\n      <td>US</td>\n      <td>32.539527</td>\n      <td>-86.644082</td>\n      <td>...</td>\n      <td>1798</td>\n      <td>1805</td>\n      <td>1818</td>\n      <td>1828</td>\n      <td>1831</td>\n      <td>1839</td>\n      <td>1852</td>\n      <td>1863</td>\n      <td>1882</td>\n      <td>1898</td>\n    </tr>\n    <tr>\n      <th>1</th>\n      <td>84001003</td>\n      <td>US</td>\n      <td>USA</td>\n      <td>840</td>\n      <td>1003.0</td>\n      <td>Baldwin</td>\n      <td>Alabama</td>\n      <td>US</td>\n      <td>30.727750</td>\n      <td>-87.722071</td>\n      <td>...</td>\n      <td>5997</td>\n      <td>6024</td>\n      <td>6048</td>\n      <td>6073</td>\n      <td>6085</td>\n      <td>6116</td>\n      <td>6134</td>\n      <td>6141</td>\n      <td>6172</td>\n      <td>6190</td>\n    </tr>\n    <tr>\n      <th>2</th>\n      <td>84001005</td>\n      <td>US</td>\n      <td>USA</td>\n      <td>840</td>\n      <td>1005.0</td>\n      <td>Barbour</td>\n      <td>Alabama</td>\n      <td>US</td>\n      <td>31.868263</td>\n      <td>-85.387129</td>\n      <td>...</td>\n      <td>898</td>\n      <td>902</td>\n      <td>921</td>\n      <td>921</td>\n      <td>921</td>\n      <td>923</td>\n      <td>927</td>\n      <td>927</td>\n      <td>939</td>\n      <td>942</td>\n    </tr>\n  </tbody>\n</table>\n<p>3 rows × 274 columns</p>\n</div>"
     },
     "metadata": {},
     "execution_count": 42
    },
    {
     "output_type": "stream",
     "name": "stdout",
     "text": [
      "-----------------------------------------\n"
     ]
    }
   ],
   "source": [
    "print('--------df_us_confirmed--------------')\n",
    "print('Size:')\n",
    "print(files_jhu_csse_obj.df_us_confirmed.size)\n",
    "print('-----------------------------------------')\n",
    "print('Shape:')\n",
    "files_jhu_csse_obj.df_us_confirmed.shape\n",
    "print('-----------------------------------------')\n",
    "print('Columns:')\n",
    "files_jhu_csse_obj.df_us_confirmed.columns\n",
    "print('-----------------------------------------')\n",
    "print('First 3 rows:')\n",
    "files_jhu_csse_obj.df_us_confirmed.head(3)\n",
    "print('-----------------------------------------')\n",
    "print('Describe number:')\n",
    "if df_has_numerical_columns(files_jhu_csse_obj.df_us_confirmed):\n",
    "    files_jhu_csse_obj.df_us_confirmed.describe(include=[np.number])\n",
    "else:\n",
    "    print(\"No numeric fields!\")\n",
    "print('-----------------------------------------')\n",
    "print('Describe categorical:')\n",
    "if df_has_categorical_columns(files_jhu_csse_obj.df_us_confirmed):\n",
    "    files_jhu_csse_obj.df_us_confirmed.describe(include=['category'])\n",
    "else:\n",
    "    print(\"No categorical fields!\")\n",
    "print('-----------------------------------------')"
   ]
  },
  {
   "cell_type": "code",
   "execution_count": 43,
   "metadata": {},
   "outputs": [
    {
     "output_type": "stream",
     "name": "stdout",
     "text": [
      "--------df_global_deaths--------------\nSize:\n71022\n-----------------------------------------\nShape:\n"
     ]
    },
    {
     "output_type": "execute_result",
     "data": {
      "text/plain": [
       "(266, 267)"
      ]
     },
     "metadata": {},
     "execution_count": 43
    },
    {
     "output_type": "stream",
     "name": "stdout",
     "text": [
      "-----------------------------------------\nColumns:\n"
     ]
    },
    {
     "output_type": "execute_result",
     "data": {
      "text/plain": [
       "Index(['Province/State', 'Country/Region', 'Lat', 'Long', '1/22/20', '1/23/20',\n",
       "       '1/24/20', '1/25/20', '1/26/20', '1/27/20',\n",
       "       ...\n",
       "       '10/1/20', '10/2/20', '10/3/20', '10/4/20', '10/5/20', '10/6/20',\n",
       "       '10/7/20', '10/8/20', '10/9/20', '10/10/20'],\n",
       "      dtype='object', length=267)"
      ]
     },
     "metadata": {},
     "execution_count": 43
    },
    {
     "output_type": "stream",
     "name": "stdout",
     "text": [
      "-----------------------------------------\nFirst 3 rows:\n"
     ]
    },
    {
     "output_type": "execute_result",
     "data": {
      "text/plain": [
       "  Province/State Country/Region       Lat       Long  1/22/20  1/23/20  \\\n",
       "0            NaN    Afghanistan  33.93911  67.709953        0        0   \n",
       "1            NaN        Albania  41.15330  20.168300        0        0   \n",
       "2            NaN        Algeria  28.03390   1.659600        0        0   \n",
       "\n",
       "   1/24/20  1/25/20  1/26/20  1/27/20  ...  10/1/20  10/2/20  10/3/20  \\\n",
       "0        0        0        0        0  ...     1458     1458     1462   \n",
       "1        0        0        0        0  ...      388      389      392   \n",
       "2        0        0        0        0  ...     1741     1749     1756   \n",
       "\n",
       "   10/4/20  10/5/20  10/6/20  10/7/20  10/8/20  10/9/20  10/10/20  \n",
       "0     1462     1466     1467     1469     1470     1472      1473  \n",
       "1      396      400      403      407      411      413       416  \n",
       "2     1760     1768     1768     1771     1783     1789      1795  \n",
       "\n",
       "[3 rows x 267 columns]"
      ],
      "text/html": "<div>\n<style scoped>\n    .dataframe tbody tr th:only-of-type {\n        vertical-align: middle;\n    }\n\n    .dataframe tbody tr th {\n        vertical-align: top;\n    }\n\n    .dataframe thead th {\n        text-align: right;\n    }\n</style>\n<table border=\"1\" class=\"dataframe\">\n  <thead>\n    <tr style=\"text-align: right;\">\n      <th></th>\n      <th>Province/State</th>\n      <th>Country/Region</th>\n      <th>Lat</th>\n      <th>Long</th>\n      <th>1/22/20</th>\n      <th>1/23/20</th>\n      <th>1/24/20</th>\n      <th>1/25/20</th>\n      <th>1/26/20</th>\n      <th>1/27/20</th>\n      <th>...</th>\n      <th>10/1/20</th>\n      <th>10/2/20</th>\n      <th>10/3/20</th>\n      <th>10/4/20</th>\n      <th>10/5/20</th>\n      <th>10/6/20</th>\n      <th>10/7/20</th>\n      <th>10/8/20</th>\n      <th>10/9/20</th>\n      <th>10/10/20</th>\n    </tr>\n  </thead>\n  <tbody>\n    <tr>\n      <th>0</th>\n      <td>NaN</td>\n      <td>Afghanistan</td>\n      <td>33.93911</td>\n      <td>67.709953</td>\n      <td>0</td>\n      <td>0</td>\n      <td>0</td>\n      <td>0</td>\n      <td>0</td>\n      <td>0</td>\n      <td>...</td>\n      <td>1458</td>\n      <td>1458</td>\n      <td>1462</td>\n      <td>1462</td>\n      <td>1466</td>\n      <td>1467</td>\n      <td>1469</td>\n      <td>1470</td>\n      <td>1472</td>\n      <td>1473</td>\n    </tr>\n    <tr>\n      <th>1</th>\n      <td>NaN</td>\n      <td>Albania</td>\n      <td>41.15330</td>\n      <td>20.168300</td>\n      <td>0</td>\n      <td>0</td>\n      <td>0</td>\n      <td>0</td>\n      <td>0</td>\n      <td>0</td>\n      <td>...</td>\n      <td>388</td>\n      <td>389</td>\n      <td>392</td>\n      <td>396</td>\n      <td>400</td>\n      <td>403</td>\n      <td>407</td>\n      <td>411</td>\n      <td>413</td>\n      <td>416</td>\n    </tr>\n    <tr>\n      <th>2</th>\n      <td>NaN</td>\n      <td>Algeria</td>\n      <td>28.03390</td>\n      <td>1.659600</td>\n      <td>0</td>\n      <td>0</td>\n      <td>0</td>\n      <td>0</td>\n      <td>0</td>\n      <td>0</td>\n      <td>...</td>\n      <td>1741</td>\n      <td>1749</td>\n      <td>1756</td>\n      <td>1760</td>\n      <td>1768</td>\n      <td>1768</td>\n      <td>1771</td>\n      <td>1783</td>\n      <td>1789</td>\n      <td>1795</td>\n    </tr>\n  </tbody>\n</table>\n<p>3 rows × 267 columns</p>\n</div>"
     },
     "metadata": {},
     "execution_count": 43
    },
    {
     "output_type": "stream",
     "name": "stdout",
     "text": [
      "-----------------------------------------\nDescribe number:\n"
     ]
    },
    {
     "output_type": "execute_result",
     "data": {
      "text/plain": [
       "              Lat        Long     1/22/20     1/23/20     1/24/20     1/25/20  \\\n",
       "count  266.000000  266.000000  266.000000  266.000000  266.000000  266.000000   \n",
       "mean    21.076624   22.829441    2.086466    2.458647    3.537594    5.390977   \n",
       "std     24.904600   70.191330   27.279200   27.377862   34.083035   47.434934   \n",
       "min    -51.796300 -135.000000    0.000000    0.000000    0.000000    0.000000   \n",
       "25%      6.677575  -15.277675    0.000000    0.000000    0.000000    0.000000   \n",
       "50%     22.820850   20.921188    0.000000    0.000000    0.000000    0.000000   \n",
       "75%     41.143200   77.913685    0.000000    0.000000    0.000000    0.000000   \n",
       "max     71.706900  178.065000  444.000000  444.000000  549.000000  761.000000   \n",
       "\n",
       "           1/26/20      1/27/20      1/28/20      1/29/20  ...       10/1/20  \\\n",
       "count   266.000000   266.000000   266.000000   266.000000  ...  2.660000e+02   \n",
       "mean      7.962406    11.003759    20.969925    23.184211  ...  1.289107e+05   \n",
       "std      66.289178    89.313757   219.187744   220.524674  ...  6.737246e+05   \n",
       "min       0.000000     0.000000     0.000000     0.000000  ...  0.000000e+00   \n",
       "25%       0.000000     0.000000     0.000000     0.000000  ...  4.902500e+02   \n",
       "50%       0.000000     0.000000     0.000000     0.000000  ...  4.677000e+03   \n",
       "75%       0.000000     0.000000     0.000000     0.000000  ...  4.074200e+04   \n",
       "max    1058.000000  1423.000000  3554.000000  3554.000000  ...  7.277791e+06   \n",
       "\n",
       "            10/2/20       10/3/20       10/4/20       10/5/20       10/6/20  \\\n",
       "count  2.660000e+02  2.660000e+02  2.660000e+02  2.660000e+02  2.660000e+02   \n",
       "mean   1.300215e+05  1.312245e+05  1.321564e+05  1.333799e+05  1.346127e+05   \n",
       "std    6.789774e+05  6.854278e+05  6.899005e+05  6.944497e+05  7.000819e+05   \n",
       "min    0.000000e+00  0.000000e+00  0.000000e+00  0.000000e+00  0.000000e+00   \n",
       "25%    4.902500e+02  4.925000e+02  4.925000e+02  4.925000e+02  4.955000e+02   \n",
       "50%    4.729000e+03  4.780000e+03  4.804000e+03  4.806000e+03  4.849000e+03   \n",
       "75%    4.182125e+04  4.285850e+04  4.351100e+04  4.402550e+04  4.484325e+04   \n",
       "max    7.332297e+06  7.382341e+06  7.417845e+06  7.457402e+06  7.499341e+06   \n",
       "\n",
       "            10/7/20       10/8/20       10/9/20      10/10/20  \n",
       "count  2.660000e+02  2.660000e+02  2.660000e+02  2.660000e+02  \n",
       "mean   1.359257e+05  1.372766e+05  1.386325e+05  1.397756e+05  \n",
       "std    7.060390e+05  7.118662e+05  7.178390e+05  7.229420e+05  \n",
       "min    0.000000e+00  0.000000e+00  0.000000e+00  0.000000e+00  \n",
       "25%    5.060000e+02  5.105000e+02  5.105000e+02  5.110000e+02  \n",
       "50%    4.867500e+03  4.869000e+03  4.871500e+03  4.957500e+03  \n",
       "75%    4.553625e+04  4.602425e+04  4.615625e+04  4.624000e+04  \n",
       "max    7.549682e+06  7.605873e+06  7.663293e+06  7.717932e+06  \n",
       "\n",
       "[8 rows x 265 columns]"
      ],
      "text/html": "<div>\n<style scoped>\n    .dataframe tbody tr th:only-of-type {\n        vertical-align: middle;\n    }\n\n    .dataframe tbody tr th {\n        vertical-align: top;\n    }\n\n    .dataframe thead th {\n        text-align: right;\n    }\n</style>\n<table border=\"1\" class=\"dataframe\">\n  <thead>\n    <tr style=\"text-align: right;\">\n      <th></th>\n      <th>Lat</th>\n      <th>Long</th>\n      <th>1/22/20</th>\n      <th>1/23/20</th>\n      <th>1/24/20</th>\n      <th>1/25/20</th>\n      <th>1/26/20</th>\n      <th>1/27/20</th>\n      <th>1/28/20</th>\n      <th>1/29/20</th>\n      <th>...</th>\n      <th>10/1/20</th>\n      <th>10/2/20</th>\n      <th>10/3/20</th>\n      <th>10/4/20</th>\n      <th>10/5/20</th>\n      <th>10/6/20</th>\n      <th>10/7/20</th>\n      <th>10/8/20</th>\n      <th>10/9/20</th>\n      <th>10/10/20</th>\n    </tr>\n  </thead>\n  <tbody>\n    <tr>\n      <th>count</th>\n      <td>266.000000</td>\n      <td>266.000000</td>\n      <td>266.000000</td>\n      <td>266.000000</td>\n      <td>266.000000</td>\n      <td>266.000000</td>\n      <td>266.000000</td>\n      <td>266.000000</td>\n      <td>266.000000</td>\n      <td>266.000000</td>\n      <td>...</td>\n      <td>2.660000e+02</td>\n      <td>2.660000e+02</td>\n      <td>2.660000e+02</td>\n      <td>2.660000e+02</td>\n      <td>2.660000e+02</td>\n      <td>2.660000e+02</td>\n      <td>2.660000e+02</td>\n      <td>2.660000e+02</td>\n      <td>2.660000e+02</td>\n      <td>2.660000e+02</td>\n    </tr>\n    <tr>\n      <th>mean</th>\n      <td>21.076624</td>\n      <td>22.829441</td>\n      <td>2.086466</td>\n      <td>2.458647</td>\n      <td>3.537594</td>\n      <td>5.390977</td>\n      <td>7.962406</td>\n      <td>11.003759</td>\n      <td>20.969925</td>\n      <td>23.184211</td>\n      <td>...</td>\n      <td>1.289107e+05</td>\n      <td>1.300215e+05</td>\n      <td>1.312245e+05</td>\n      <td>1.321564e+05</td>\n      <td>1.333799e+05</td>\n      <td>1.346127e+05</td>\n      <td>1.359257e+05</td>\n      <td>1.372766e+05</td>\n      <td>1.386325e+05</td>\n      <td>1.397756e+05</td>\n    </tr>\n    <tr>\n      <th>std</th>\n      <td>24.904600</td>\n      <td>70.191330</td>\n      <td>27.279200</td>\n      <td>27.377862</td>\n      <td>34.083035</td>\n      <td>47.434934</td>\n      <td>66.289178</td>\n      <td>89.313757</td>\n      <td>219.187744</td>\n      <td>220.524674</td>\n      <td>...</td>\n      <td>6.737246e+05</td>\n      <td>6.789774e+05</td>\n      <td>6.854278e+05</td>\n      <td>6.899005e+05</td>\n      <td>6.944497e+05</td>\n      <td>7.000819e+05</td>\n      <td>7.060390e+05</td>\n      <td>7.118662e+05</td>\n      <td>7.178390e+05</td>\n      <td>7.229420e+05</td>\n    </tr>\n    <tr>\n      <th>min</th>\n      <td>-51.796300</td>\n      <td>-135.000000</td>\n      <td>0.000000</td>\n      <td>0.000000</td>\n      <td>0.000000</td>\n      <td>0.000000</td>\n      <td>0.000000</td>\n      <td>0.000000</td>\n      <td>0.000000</td>\n      <td>0.000000</td>\n      <td>...</td>\n      <td>0.000000e+00</td>\n      <td>0.000000e+00</td>\n      <td>0.000000e+00</td>\n      <td>0.000000e+00</td>\n      <td>0.000000e+00</td>\n      <td>0.000000e+00</td>\n      <td>0.000000e+00</td>\n      <td>0.000000e+00</td>\n      <td>0.000000e+00</td>\n      <td>0.000000e+00</td>\n    </tr>\n    <tr>\n      <th>25%</th>\n      <td>6.677575</td>\n      <td>-15.277675</td>\n      <td>0.000000</td>\n      <td>0.000000</td>\n      <td>0.000000</td>\n      <td>0.000000</td>\n      <td>0.000000</td>\n      <td>0.000000</td>\n      <td>0.000000</td>\n      <td>0.000000</td>\n      <td>...</td>\n      <td>4.902500e+02</td>\n      <td>4.902500e+02</td>\n      <td>4.925000e+02</td>\n      <td>4.925000e+02</td>\n      <td>4.925000e+02</td>\n      <td>4.955000e+02</td>\n      <td>5.060000e+02</td>\n      <td>5.105000e+02</td>\n      <td>5.105000e+02</td>\n      <td>5.110000e+02</td>\n    </tr>\n    <tr>\n      <th>50%</th>\n      <td>22.820850</td>\n      <td>20.921188</td>\n      <td>0.000000</td>\n      <td>0.000000</td>\n      <td>0.000000</td>\n      <td>0.000000</td>\n      <td>0.000000</td>\n      <td>0.000000</td>\n      <td>0.000000</td>\n      <td>0.000000</td>\n      <td>...</td>\n      <td>4.677000e+03</td>\n      <td>4.729000e+03</td>\n      <td>4.780000e+03</td>\n      <td>4.804000e+03</td>\n      <td>4.806000e+03</td>\n      <td>4.849000e+03</td>\n      <td>4.867500e+03</td>\n      <td>4.869000e+03</td>\n      <td>4.871500e+03</td>\n      <td>4.957500e+03</td>\n    </tr>\n    <tr>\n      <th>75%</th>\n      <td>41.143200</td>\n      <td>77.913685</td>\n      <td>0.000000</td>\n      <td>0.000000</td>\n      <td>0.000000</td>\n      <td>0.000000</td>\n      <td>0.000000</td>\n      <td>0.000000</td>\n      <td>0.000000</td>\n      <td>0.000000</td>\n      <td>...</td>\n      <td>4.074200e+04</td>\n      <td>4.182125e+04</td>\n      <td>4.285850e+04</td>\n      <td>4.351100e+04</td>\n      <td>4.402550e+04</td>\n      <td>4.484325e+04</td>\n      <td>4.553625e+04</td>\n      <td>4.602425e+04</td>\n      <td>4.615625e+04</td>\n      <td>4.624000e+04</td>\n    </tr>\n    <tr>\n      <th>max</th>\n      <td>71.706900</td>\n      <td>178.065000</td>\n      <td>444.000000</td>\n      <td>444.000000</td>\n      <td>549.000000</td>\n      <td>761.000000</td>\n      <td>1058.000000</td>\n      <td>1423.000000</td>\n      <td>3554.000000</td>\n      <td>3554.000000</td>\n      <td>...</td>\n      <td>7.277791e+06</td>\n      <td>7.332297e+06</td>\n      <td>7.382341e+06</td>\n      <td>7.417845e+06</td>\n      <td>7.457402e+06</td>\n      <td>7.499341e+06</td>\n      <td>7.549682e+06</td>\n      <td>7.605873e+06</td>\n      <td>7.663293e+06</td>\n      <td>7.717932e+06</td>\n    </tr>\n  </tbody>\n</table>\n<p>8 rows × 265 columns</p>\n</div>"
     },
     "metadata": {},
     "execution_count": 43
    },
    {
     "output_type": "stream",
     "name": "stdout",
     "text": [
      "-----------------------------------------\nDescribe categorical:\nNo categorical fields!\n-----------------------------------------\n"
     ]
    }
   ],
   "source": [
    "print('--------df_global_deaths--------------')\n",
    "print('Size:')\n",
    "print(files_jhu_csse_obj.df_global_deaths.size)\n",
    "print('-----------------------------------------')\n",
    "print('Shape:')\n",
    "files_jhu_csse_obj.df_global_deaths.shape\n",
    "print('-----------------------------------------')\n",
    "print('Columns:')\n",
    "files_jhu_csse_obj.df_global_deaths.columns\n",
    "print('-----------------------------------------')\n",
    "print('First 3 rows:')\n",
    "files_jhu_csse_obj.df_global_deaths.head(3)\n",
    "print('-----------------------------------------')\n",
    "print('Describe number:')\n",
    "if df_has_numerical_columns(files_jhu_csse_obj.df_global_deaths):\n",
    "    files_jhu_csse_obj.df_global_deaths.describe(include=[np.number])\n",
    "else:\n",
    "    print(\"No numeric fields!\")\n",
    "print('-----------------------------------------')\n",
    "print('Describe categorical:')\n",
    "if df_has_categorical_columns(files_jhu_csse_obj.df_global_deaths):\n",
    "    files_jhu_csse_obj.df_global_deaths.describe(include=['category'])\n",
    "else:\n",
    "    print(\"No categorical fields!\")\n",
    "print('-----------------------------------------')"
   ]
  },
  {
   "cell_type": "code",
   "execution_count": 44,
   "metadata": {},
   "outputs": [
    {
     "output_type": "stream",
     "name": "stdout",
     "text": [
      "--------df_us_deaths--------------\nSize:\n918500\n-----------------------------------------\nShape:\n"
     ]
    },
    {
     "output_type": "execute_result",
     "data": {
      "text/plain": [
       "(3340, 275)"
      ]
     },
     "metadata": {},
     "execution_count": 44
    },
    {
     "output_type": "stream",
     "name": "stdout",
     "text": [
      "-----------------------------------------\nColumns:\n"
     ]
    },
    {
     "output_type": "execute_result",
     "data": {
      "text/plain": [
       "Index(['UID', 'iso2', 'iso3', 'code3', 'FIPS', 'Admin2', 'Province_State',\n",
       "       'Country_Region', 'Lat', 'Long_',\n",
       "       ...\n",
       "       '10/1/20', '10/2/20', '10/3/20', '10/4/20', '10/5/20', '10/6/20',\n",
       "       '10/7/20', '10/8/20', '10/9/20', '10/10/20'],\n",
       "      dtype='object', length=275)"
      ]
     },
     "metadata": {},
     "execution_count": 44
    },
    {
     "output_type": "stream",
     "name": "stdout",
     "text": [
      "-----------------------------------------\nFirst 3 rows:\n"
     ]
    },
    {
     "output_type": "execute_result",
     "data": {
      "text/plain": [
       "        UID iso2 iso3  code3    FIPS   Admin2 Province_State Country_Region  \\\n",
       "0  84001001   US  USA    840  1001.0  Autauga        Alabama             US   \n",
       "1  84001003   US  USA    840  1003.0  Baldwin        Alabama             US   \n",
       "2  84001005   US  USA    840  1005.0  Barbour        Alabama             US   \n",
       "\n",
       "         Lat      Long_  ... 10/1/20  10/2/20  10/3/20  10/4/20  10/5/20  \\\n",
       "0  32.539527 -86.644082  ...      28       27       27       27       27   \n",
       "1  30.727750 -87.722071  ...      53       53       53       53       53   \n",
       "2  31.868263 -85.387129  ...       7        7        7        7        7   \n",
       "\n",
       "   10/6/20  10/7/20  10/8/20  10/9/20  10/10/20  \n",
       "0       27       27       28       28        28  \n",
       "1       55       56       64       64        65  \n",
       "2        7        7        9        9         9  \n",
       "\n",
       "[3 rows x 275 columns]"
      ],
      "text/html": "<div>\n<style scoped>\n    .dataframe tbody tr th:only-of-type {\n        vertical-align: middle;\n    }\n\n    .dataframe tbody tr th {\n        vertical-align: top;\n    }\n\n    .dataframe thead th {\n        text-align: right;\n    }\n</style>\n<table border=\"1\" class=\"dataframe\">\n  <thead>\n    <tr style=\"text-align: right;\">\n      <th></th>\n      <th>UID</th>\n      <th>iso2</th>\n      <th>iso3</th>\n      <th>code3</th>\n      <th>FIPS</th>\n      <th>Admin2</th>\n      <th>Province_State</th>\n      <th>Country_Region</th>\n      <th>Lat</th>\n      <th>Long_</th>\n      <th>...</th>\n      <th>10/1/20</th>\n      <th>10/2/20</th>\n      <th>10/3/20</th>\n      <th>10/4/20</th>\n      <th>10/5/20</th>\n      <th>10/6/20</th>\n      <th>10/7/20</th>\n      <th>10/8/20</th>\n      <th>10/9/20</th>\n      <th>10/10/20</th>\n    </tr>\n  </thead>\n  <tbody>\n    <tr>\n      <th>0</th>\n      <td>84001001</td>\n      <td>US</td>\n      <td>USA</td>\n      <td>840</td>\n      <td>1001.0</td>\n      <td>Autauga</td>\n      <td>Alabama</td>\n      <td>US</td>\n      <td>32.539527</td>\n      <td>-86.644082</td>\n      <td>...</td>\n      <td>28</td>\n      <td>27</td>\n      <td>27</td>\n      <td>27</td>\n      <td>27</td>\n      <td>27</td>\n      <td>27</td>\n      <td>28</td>\n      <td>28</td>\n      <td>28</td>\n    </tr>\n    <tr>\n      <th>1</th>\n      <td>84001003</td>\n      <td>US</td>\n      <td>USA</td>\n      <td>840</td>\n      <td>1003.0</td>\n      <td>Baldwin</td>\n      <td>Alabama</td>\n      <td>US</td>\n      <td>30.727750</td>\n      <td>-87.722071</td>\n      <td>...</td>\n      <td>53</td>\n      <td>53</td>\n      <td>53</td>\n      <td>53</td>\n      <td>53</td>\n      <td>55</td>\n      <td>56</td>\n      <td>64</td>\n      <td>64</td>\n      <td>65</td>\n    </tr>\n    <tr>\n      <th>2</th>\n      <td>84001005</td>\n      <td>US</td>\n      <td>USA</td>\n      <td>840</td>\n      <td>1005.0</td>\n      <td>Barbour</td>\n      <td>Alabama</td>\n      <td>US</td>\n      <td>31.868263</td>\n      <td>-85.387129</td>\n      <td>...</td>\n      <td>7</td>\n      <td>7</td>\n      <td>7</td>\n      <td>7</td>\n      <td>7</td>\n      <td>7</td>\n      <td>7</td>\n      <td>9</td>\n      <td>9</td>\n      <td>9</td>\n    </tr>\n  </tbody>\n</table>\n<p>3 rows × 275 columns</p>\n</div>"
     },
     "metadata": {},
     "execution_count": 44
    },
    {
     "output_type": "stream",
     "name": "stdout",
     "text": [
      "-----------------------------------------\n"
     ]
    }
   ],
   "source": [
    "print('--------df_us_deaths--------------')\n",
    "print('Size:')\n",
    "print(files_jhu_csse_obj.df_us_deaths.size)\n",
    "print('-----------------------------------------')\n",
    "print('Shape:')\n",
    "files_jhu_csse_obj.df_us_deaths.shape\n",
    "print('-----------------------------------------')\n",
    "print('Columns:')\n",
    "files_jhu_csse_obj.df_us_deaths.columns\n",
    "print('-----------------------------------------')\n",
    "print('First 3 rows:')\n",
    "files_jhu_csse_obj.df_us_deaths.head(3)\n",
    "print('-----------------------------------------')\n",
    "print('Describe number:')\n",
    "if df_has_numerical_columns(files_jhu_csse_obj.df_us_deaths):\n",
    "    files_jhu_csse_obj.df_us_deaths.describe(include=[np.number])\n",
    "else:\n",
    "    print(\"No numeric fields!\")\n",
    "print('-----------------------------------------')\n",
    "print('Describe categorical:')\n",
    "if df_has_categorical_columns(files_jhu_csse_obj.df_us_deaths):\n",
    "    files_jhu_csse_obj.df_us_deaths.describe(include=['category'])\n",
    "else:\n",
    "    print(\"No categorical fields!\")\n",
    "print('-----------------------------------------')"
   ]
  },
  {
   "cell_type": "code",
   "execution_count": 45,
   "metadata": {},
   "outputs": [
    {
     "output_type": "stream",
     "name": "stdout",
     "text": [
      "--------df_global_recoveries--------------\nSize:\n67551\n-----------------------------------------\nShape:\n"
     ]
    },
    {
     "output_type": "execute_result",
     "data": {
      "text/plain": [
       "(253, 267)"
      ]
     },
     "metadata": {},
     "execution_count": 45
    },
    {
     "output_type": "stream",
     "name": "stdout",
     "text": [
      "-----------------------------------------\nColumns:\n"
     ]
    },
    {
     "output_type": "execute_result",
     "data": {
      "text/plain": [
       "Index(['Province/State', 'Country/Region', 'Lat', 'Long', '1/22/20', '1/23/20',\n",
       "       '1/24/20', '1/25/20', '1/26/20', '1/27/20',\n",
       "       ...\n",
       "       '10/1/20', '10/2/20', '10/3/20', '10/4/20', '10/5/20', '10/6/20',\n",
       "       '10/7/20', '10/8/20', '10/9/20', '10/10/20'],\n",
       "      dtype='object', length=267)"
      ]
     },
     "metadata": {},
     "execution_count": 45
    },
    {
     "output_type": "stream",
     "name": "stdout",
     "text": [
      "-----------------------------------------\nFirst 3 rows:\n"
     ]
    },
    {
     "output_type": "execute_result",
     "data": {
      "text/plain": [
       "  Province/State Country/Region       Lat       Long  1/22/20  1/23/20  \\\n",
       "0            NaN    Afghanistan  33.93911  67.709953        0        0   \n",
       "1            NaN        Albania  41.15330  20.168300        0        0   \n",
       "2            NaN        Algeria  28.03390   1.659600        0        0   \n",
       "\n",
       "   1/24/20  1/25/20  1/26/20  1/27/20  ...  10/1/20  10/2/20  10/3/20  \\\n",
       "0        0        0        0        0  ...    32842    32842    32842   \n",
       "1        0        0        0        0  ...     8077     8342     8536   \n",
       "2        0        0        0        0  ...    36282    36385    36482   \n",
       "\n",
       "   10/4/20  10/5/20  10/6/20  10/7/20  10/8/20  10/9/20  10/10/20  \n",
       "0    32852    32879    32977    33045    33058    33058     33064  \n",
       "1     8675     8825     8965     9115     9215     9304      9406  \n",
       "2    36578    36672    36763    36857    36958    37067     37170  \n",
       "\n",
       "[3 rows x 267 columns]"
      ],
      "text/html": "<div>\n<style scoped>\n    .dataframe tbody tr th:only-of-type {\n        vertical-align: middle;\n    }\n\n    .dataframe tbody tr th {\n        vertical-align: top;\n    }\n\n    .dataframe thead th {\n        text-align: right;\n    }\n</style>\n<table border=\"1\" class=\"dataframe\">\n  <thead>\n    <tr style=\"text-align: right;\">\n      <th></th>\n      <th>Province/State</th>\n      <th>Country/Region</th>\n      <th>Lat</th>\n      <th>Long</th>\n      <th>1/22/20</th>\n      <th>1/23/20</th>\n      <th>1/24/20</th>\n      <th>1/25/20</th>\n      <th>1/26/20</th>\n      <th>1/27/20</th>\n      <th>...</th>\n      <th>10/1/20</th>\n      <th>10/2/20</th>\n      <th>10/3/20</th>\n      <th>10/4/20</th>\n      <th>10/5/20</th>\n      <th>10/6/20</th>\n      <th>10/7/20</th>\n      <th>10/8/20</th>\n      <th>10/9/20</th>\n      <th>10/10/20</th>\n    </tr>\n  </thead>\n  <tbody>\n    <tr>\n      <th>0</th>\n      <td>NaN</td>\n      <td>Afghanistan</td>\n      <td>33.93911</td>\n      <td>67.709953</td>\n      <td>0</td>\n      <td>0</td>\n      <td>0</td>\n      <td>0</td>\n      <td>0</td>\n      <td>0</td>\n      <td>...</td>\n      <td>32842</td>\n      <td>32842</td>\n      <td>32842</td>\n      <td>32852</td>\n      <td>32879</td>\n      <td>32977</td>\n      <td>33045</td>\n      <td>33058</td>\n      <td>33058</td>\n      <td>33064</td>\n    </tr>\n    <tr>\n      <th>1</th>\n      <td>NaN</td>\n      <td>Albania</td>\n      <td>41.15330</td>\n      <td>20.168300</td>\n      <td>0</td>\n      <td>0</td>\n      <td>0</td>\n      <td>0</td>\n      <td>0</td>\n      <td>0</td>\n      <td>...</td>\n      <td>8077</td>\n      <td>8342</td>\n      <td>8536</td>\n      <td>8675</td>\n      <td>8825</td>\n      <td>8965</td>\n      <td>9115</td>\n      <td>9215</td>\n      <td>9304</td>\n      <td>9406</td>\n    </tr>\n    <tr>\n      <th>2</th>\n      <td>NaN</td>\n      <td>Algeria</td>\n      <td>28.03390</td>\n      <td>1.659600</td>\n      <td>0</td>\n      <td>0</td>\n      <td>0</td>\n      <td>0</td>\n      <td>0</td>\n      <td>0</td>\n      <td>...</td>\n      <td>36282</td>\n      <td>36385</td>\n      <td>36482</td>\n      <td>36578</td>\n      <td>36672</td>\n      <td>36763</td>\n      <td>36857</td>\n      <td>36958</td>\n      <td>37067</td>\n      <td>37170</td>\n    </tr>\n  </tbody>\n</table>\n<p>3 rows × 267 columns</p>\n</div>"
     },
     "metadata": {},
     "execution_count": 45
    },
    {
     "output_type": "stream",
     "name": "stdout",
     "text": [
      "-----------------------------------------\n"
     ]
    }
   ],
   "source": [
    "print('--------df_global_recoveries--------------')\n",
    "print('Size:')\n",
    "print(files_jhu_csse_obj.df_global_recoveries.size)\n",
    "print('-----------------------------------------')\n",
    "print('Shape:')\n",
    "files_jhu_csse_obj.df_global_recoveries.shape\n",
    "print('-----------------------------------------')\n",
    "print('Columns:')\n",
    "files_jhu_csse_obj.df_global_recoveries.columns\n",
    "print('-----------------------------------------')\n",
    "print('First 3 rows:')\n",
    "files_jhu_csse_obj.df_global_recoveries.head(3)\n",
    "print('-----------------------------------------')\n",
    "print('Describe number:')\n",
    "if df_has_numerical_columns(files_jhu_csse_obj.df_global_recoveries):\n",
    "    files_jhu_csse_obj.df_global_recoveries.describe(include=[np.number])\n",
    "else:\n",
    "    print(\"No numeric fields!\")\n",
    "print('-----------------------------------------')\n",
    "print('Describe categorical:')\n",
    "if df_has_categorical_columns(files_jhu_csse_obj.df_global_recoveries):\n",
    "    files_jhu_csse_obj.df_global_recoveries.describe(include=['category'])\n",
    "else:\n",
    "    print(\"No categorical fields!\")\n",
    "print('-----------------------------------------')"
   ]
  },
  {
   "cell_type": "code",
   "execution_count": 46,
   "metadata": {},
   "outputs": [
    {
     "output_type": "stream",
     "name": "stdout",
     "text": [
      "--------df_global_latest_data--------------\nSize:\n55370\n-----------------------------------------\nShape:\n"
     ]
    },
    {
     "output_type": "execute_result",
     "data": {
      "text/plain": [
       "(3955, 14)"
      ]
     },
     "metadata": {},
     "execution_count": 46
    },
    {
     "output_type": "stream",
     "name": "stdout",
     "text": [
      "-----------------------------------------\nColumns:\n"
     ]
    },
    {
     "output_type": "execute_result",
     "data": {
      "text/plain": [
       "Index(['FIPS', 'Admin2', 'Province_State', 'Country_Region', 'Last_Update',\n",
       "       'Lat', 'Long_', 'Confirmed', 'Deaths', 'Recovered', 'Active',\n",
       "       'Combined_Key', 'Incidence_Rate', 'Case-Fatality_Ratio'],\n",
       "      dtype='object')"
      ]
     },
     "metadata": {},
     "execution_count": 46
    },
    {
     "output_type": "stream",
     "name": "stdout",
     "text": [
      "-----------------------------------------\nFirst 3 rows:\n"
     ]
    },
    {
     "output_type": "execute_result",
     "data": {
      "text/plain": [
       "   FIPS Admin2 Province_State Country_Region          Last_Update       Lat  \\\n",
       "0   NaN    NaN            NaN    Afghanistan  2020-10-11 04:23:46  33.93911   \n",
       "1   NaN    NaN            NaN        Albania  2020-10-11 04:23:46  41.15330   \n",
       "2   NaN    NaN            NaN        Algeria  2020-10-11 04:23:46  28.03390   \n",
       "\n",
       "       Long_  Confirmed  Deaths  Recovered   Active Combined_Key  \\\n",
       "0  67.709953      39703    1473      33064   5166.0  Afghanistan   \n",
       "1  20.168300      15231     416       9406   5409.0      Albania   \n",
       "2   1.659600      52940    1795      37170  13975.0      Algeria   \n",
       "\n",
       "   Incidence_Rate  Case-Fatality_Ratio  \n",
       "0      101.989962             3.710047  \n",
       "1      529.258461             2.731272  \n",
       "2      120.726889             3.390631  "
      ],
      "text/html": "<div>\n<style scoped>\n    .dataframe tbody tr th:only-of-type {\n        vertical-align: middle;\n    }\n\n    .dataframe tbody tr th {\n        vertical-align: top;\n    }\n\n    .dataframe thead th {\n        text-align: right;\n    }\n</style>\n<table border=\"1\" class=\"dataframe\">\n  <thead>\n    <tr style=\"text-align: right;\">\n      <th></th>\n      <th>FIPS</th>\n      <th>Admin2</th>\n      <th>Province_State</th>\n      <th>Country_Region</th>\n      <th>Last_Update</th>\n      <th>Lat</th>\n      <th>Long_</th>\n      <th>Confirmed</th>\n      <th>Deaths</th>\n      <th>Recovered</th>\n      <th>Active</th>\n      <th>Combined_Key</th>\n      <th>Incidence_Rate</th>\n      <th>Case-Fatality_Ratio</th>\n    </tr>\n  </thead>\n  <tbody>\n    <tr>\n      <th>0</th>\n      <td>NaN</td>\n      <td>NaN</td>\n      <td>NaN</td>\n      <td>Afghanistan</td>\n      <td>2020-10-11 04:23:46</td>\n      <td>33.93911</td>\n      <td>67.709953</td>\n      <td>39703</td>\n      <td>1473</td>\n      <td>33064</td>\n      <td>5166.0</td>\n      <td>Afghanistan</td>\n      <td>101.989962</td>\n      <td>3.710047</td>\n    </tr>\n    <tr>\n      <th>1</th>\n      <td>NaN</td>\n      <td>NaN</td>\n      <td>NaN</td>\n      <td>Albania</td>\n      <td>2020-10-11 04:23:46</td>\n      <td>41.15330</td>\n      <td>20.168300</td>\n      <td>15231</td>\n      <td>416</td>\n      <td>9406</td>\n      <td>5409.0</td>\n      <td>Albania</td>\n      <td>529.258461</td>\n      <td>2.731272</td>\n    </tr>\n    <tr>\n      <th>2</th>\n      <td>NaN</td>\n      <td>NaN</td>\n      <td>NaN</td>\n      <td>Algeria</td>\n      <td>2020-10-11 04:23:46</td>\n      <td>28.03390</td>\n      <td>1.659600</td>\n      <td>52940</td>\n      <td>1795</td>\n      <td>37170</td>\n      <td>13975.0</td>\n      <td>Algeria</td>\n      <td>120.726889</td>\n      <td>3.390631</td>\n    </tr>\n  </tbody>\n</table>\n</div>"
     },
     "metadata": {},
     "execution_count": 46
    },
    {
     "output_type": "stream",
     "name": "stdout",
     "text": [
      "-----------------------------------------\n"
     ]
    }
   ],
   "source": [
    "print('--------df_global_latest_data--------------')\n",
    "print('Size:')\n",
    "print(files_jhu_csse_obj.df_global_latest_data.size)\n",
    "print('-----------------------------------------')\n",
    "print('Shape:')\n",
    "files_jhu_csse_obj.df_global_latest_data.shape\n",
    "print('-----------------------------------------')\n",
    "print('Columns:')\n",
    "files_jhu_csse_obj.df_global_latest_data.columns\n",
    "print('-----------------------------------------')\n",
    "print('First 3 rows:')\n",
    "files_jhu_csse_obj.df_global_latest_data.head(3)\n",
    "print('-----------------------------------------')\n",
    "print('Describe number:')\n",
    "if df_has_numerical_columns(files_jhu_csse_obj.df_global_latest_data):\n",
    "    files_jhu_csse_obj.df_global_latest_data.describe(include=[np.number])\n",
    "else:\n",
    "    print(\"No numeric fields!\")\n",
    "print('-----------------------------------------')\n",
    "print('Describe categorical:')\n",
    "if df_has_categorical_columns(files_jhu_csse_obj.df_global_latest_data):\n",
    "    files_jhu_csse_obj.df_global_latest_data.describe(include=['category'])\n",
    "else:\n",
    "    print(\"No categorical fields!\")\n",
    "print('-----------------------------------------')"
   ]
  },
  {
   "cell_type": "code",
   "execution_count": 47,
   "metadata": {},
   "outputs": [
    {
     "output_type": "stream",
     "name": "stdout",
     "text": [
      "--------df_us_latest_data--------------\nSize:\n1044\n-----------------------------------------\nShape:\n"
     ]
    },
    {
     "output_type": "execute_result",
     "data": {
      "text/plain": [
       "(58, 18)"
      ]
     },
     "metadata": {},
     "execution_count": 47
    },
    {
     "output_type": "stream",
     "name": "stdout",
     "text": [
      "-----------------------------------------\nColumns:\n"
     ]
    },
    {
     "output_type": "execute_result",
     "data": {
      "text/plain": [
       "Index(['Province_State', 'Country_Region', 'Last_Update', 'Lat', 'Long_',\n",
       "       'Confirmed', 'Deaths', 'Recovered', 'Active', 'FIPS', 'Incident_Rate',\n",
       "       'People_Tested', 'People_Hospitalized', 'Mortality_Rate', 'UID', 'ISO3',\n",
       "       'Testing_Rate', 'Hospitalization_Rate'],\n",
       "      dtype='object')"
      ]
     },
     "metadata": {},
     "execution_count": 47
    },
    {
     "output_type": "stream",
     "name": "stdout",
     "text": [
      "-----------------------------------------\nFirst 3 rows:\n"
     ]
    },
    {
     "output_type": "execute_result",
     "data": {
      "text/plain": [
       "   Province_State Country_Region          Last_Update      Lat     Long_  \\\n",
       "0         Alabama             US  2020-10-11 04:30:32  32.3182  -86.9023   \n",
       "1          Alaska             US  2020-10-11 04:30:32  61.3707 -152.4044   \n",
       "2  American Samoa             US  2020-10-11 04:30:32 -14.2710 -170.1320   \n",
       "\n",
       "   Confirmed  Deaths  Recovered   Active  FIPS  Incident_Rate  People_Tested  \\\n",
       "0     164526    2664    71240.0  90622.0   1.0    3355.492399      1204320.0   \n",
       "1       9431      60     5761.0   3610.0   2.0    1289.189318       499253.0   \n",
       "2          0       0        NaN      0.0  60.0       0.000000         1616.0   \n",
       "\n",
       "   People_Hospitalized  Mortality_Rate       UID ISO3  Testing_Rate  \\\n",
       "0                  NaN        1.619197  84000001  USA  24561.993888   \n",
       "1                  NaN        0.636200  84000002  USA  68246.382656   \n",
       "2                  NaN             NaN        16  ASM   2904.333136   \n",
       "\n",
       "   Hospitalization_Rate  \n",
       "0                   NaN  \n",
       "1                   NaN  \n",
       "2                   NaN  "
      ],
      "text/html": "<div>\n<style scoped>\n    .dataframe tbody tr th:only-of-type {\n        vertical-align: middle;\n    }\n\n    .dataframe tbody tr th {\n        vertical-align: top;\n    }\n\n    .dataframe thead th {\n        text-align: right;\n    }\n</style>\n<table border=\"1\" class=\"dataframe\">\n  <thead>\n    <tr style=\"text-align: right;\">\n      <th></th>\n      <th>Province_State</th>\n      <th>Country_Region</th>\n      <th>Last_Update</th>\n      <th>Lat</th>\n      <th>Long_</th>\n      <th>Confirmed</th>\n      <th>Deaths</th>\n      <th>Recovered</th>\n      <th>Active</th>\n      <th>FIPS</th>\n      <th>Incident_Rate</th>\n      <th>People_Tested</th>\n      <th>People_Hospitalized</th>\n      <th>Mortality_Rate</th>\n      <th>UID</th>\n      <th>ISO3</th>\n      <th>Testing_Rate</th>\n      <th>Hospitalization_Rate</th>\n    </tr>\n  </thead>\n  <tbody>\n    <tr>\n      <th>0</th>\n      <td>Alabama</td>\n      <td>US</td>\n      <td>2020-10-11 04:30:32</td>\n      <td>32.3182</td>\n      <td>-86.9023</td>\n      <td>164526</td>\n      <td>2664</td>\n      <td>71240.0</td>\n      <td>90622.0</td>\n      <td>1.0</td>\n      <td>3355.492399</td>\n      <td>1204320.0</td>\n      <td>NaN</td>\n      <td>1.619197</td>\n      <td>84000001</td>\n      <td>USA</td>\n      <td>24561.993888</td>\n      <td>NaN</td>\n    </tr>\n    <tr>\n      <th>1</th>\n      <td>Alaska</td>\n      <td>US</td>\n      <td>2020-10-11 04:30:32</td>\n      <td>61.3707</td>\n      <td>-152.4044</td>\n      <td>9431</td>\n      <td>60</td>\n      <td>5761.0</td>\n      <td>3610.0</td>\n      <td>2.0</td>\n      <td>1289.189318</td>\n      <td>499253.0</td>\n      <td>NaN</td>\n      <td>0.636200</td>\n      <td>84000002</td>\n      <td>USA</td>\n      <td>68246.382656</td>\n      <td>NaN</td>\n    </tr>\n    <tr>\n      <th>2</th>\n      <td>American Samoa</td>\n      <td>US</td>\n      <td>2020-10-11 04:30:32</td>\n      <td>-14.2710</td>\n      <td>-170.1320</td>\n      <td>0</td>\n      <td>0</td>\n      <td>NaN</td>\n      <td>0.0</td>\n      <td>60.0</td>\n      <td>0.000000</td>\n      <td>1616.0</td>\n      <td>NaN</td>\n      <td>NaN</td>\n      <td>16</td>\n      <td>ASM</td>\n      <td>2904.333136</td>\n      <td>NaN</td>\n    </tr>\n  </tbody>\n</table>\n</div>"
     },
     "metadata": {},
     "execution_count": 47
    },
    {
     "output_type": "stream",
     "name": "stdout",
     "text": [
      "-----------------------------------------\n"
     ]
    }
   ],
   "source": [
    "print('--------df_us_latest_data--------------')\n",
    "print('Size:')\n",
    "print(files_jhu_csse_obj.df_us_latest_data.size)\n",
    "print('-----------------------------------------')\n",
    "print('Shape:')\n",
    "files_jhu_csse_obj.df_us_latest_data.shape\n",
    "print('-----------------------------------------')\n",
    "print('Columns:')\n",
    "files_jhu_csse_obj.df_us_latest_data.columns\n",
    "print('-----------------------------------------')\n",
    "print('First 3 rows:')\n",
    "files_jhu_csse_obj.df_us_latest_data.head(3)\n",
    "print('-----------------------------------------')\n",
    "print('Describe number:')\n",
    "if df_has_numerical_columns(files_jhu_csse_obj.df_us_latest_data):\n",
    "    files_jhu_csse_obj.df_us_latest_data.describe(include=[np.number])\n",
    "else:\n",
    "    print(\"No numeric fields!\")\n",
    "print('-----------------------------------------')\n",
    "print('Describe categorical:')\n",
    "if df_has_categorical_columns(files_jhu_csse_obj.df_us_latest_data):\n",
    "    files_jhu_csse_obj.df_us_latest_data.describe(include=['category'])\n",
    "else:\n",
    "    print(\"No categorical fields!\")\n",
    "print('-----------------------------------------')"
   ]
  },
  {
   "cell_type": "code",
   "execution_count": null,
   "metadata": {},
   "outputs": [],
   "source": []
  }
 ],
 "metadata": {
  "kernelspec": {
   "display_name": "Python 3",
   "language": "python",
   "name": "python3"
  },
  "language_info": {
   "codemirror_mode": {
    "name": "ipython",
    "version": 3
   },
   "file_extension": ".py",
   "mimetype": "text/x-python",
   "name": "python",
   "nbconvert_exporter": "python",
   "pygments_lexer": "ipython3",
   "version": "3.7.3-final"
  }
 },
 "nbformat": 4,
 "nbformat_minor": 2
}