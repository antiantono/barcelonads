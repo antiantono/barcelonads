{
 "cells": [
  {
   "cell_type": "markdown",
   "metadata": {},
   "source": [
    "<br><br><center><h1 style=\"font-size:4em;color:#2467C0\">Covid19 Analysis</h1></center>\n",
    "<br>\n",
    "<table>\n",
    "    <col width=\"500\">\n",
    "    <tr> \n",
    "    <p> Coronavirus disease 2019 (COVID-19) is an infectious disease caused by severe acute respiratory syndrome coronavirus 2 (SARS-CoV-2). It was first identified in December 2019 in Wuhan, Hubei, China, and has resulted in an ongoing pandemic.</p>\n",
    "    <p><i>Coronavirus Case Data is provided by Johns Hopkins University(https://github.com/CSSEGISandData/COVID-19).</i></p>\n",
    "    </tr>\n",
    "    <tr>\n",
    "        <td><img src=\"https://img.medicalexpo.com/images_me/projects/images-g/covid-19-dentists-microscope-33996-15775207.jpg\" align=\"middle\" style=\"width:590px;height:340px;\"/></td>\n",
    "    </tr>\n",
    "    <tr> \n",
    "        <td> Version 1.00</td>  \n",
    "    </tr>\n",
    "</table>"
   ]
  },
  {
   "cell_type": "code",
   "execution_count": 5,
   "metadata": {
    "tags": []
   },
   "outputs": [
    {
     "name": "stdout",
     "output_type": "stream",
     "text": [
      "The memory_profiler extension is already loaded. To reload it, use:\n",
      "  %reload_ext memory_profiler\n"
     ]
    }
   ],
   "source": [
    "%config IPCompleter.greedy=True\n",
    "%load_ext memory_profiler\n",
    "%run HelperModule.ipynb\n",
    "%run PlotModule.ipynb\n",
    "# Within IPython notebook, add multiple print capabilities\n",
    "from IPython.core.interactiveshell import InteractiveShell\n",
    "InteractiveShell.ast_node_interactivity = \"all\"\n",
    "#%matplotlib notebook\n",
    "%matplotlib inline"
   ]
  },
  {
   "cell_type": "markdown",
   "metadata": {
    "tags": []
   },
   "source": [
    "<h6 style=\"font-size:2em;color:#2467C0\">Import data</h6>"
   ]
  },
  {
   "cell_type": "code",
   "execution_count": 6,
   "metadata": {},
   "outputs": [
    {
     "name": "stdout",
     "output_type": "stream",
     "text": [
      "CPU times: user 955 ms, sys: 151 ms, total: 1.11 s\n",
      "Wall time: 5.19 s\n"
     ]
    }
   ],
   "source": [
    "%%time\n",
    "date_format = '%m-%d-%Y'\n",
    "files_jhu_csse_obj = jhu_csse_load_csv(jhu_csse_daily_file_name, date_format)"
   ]
  },
  {
   "cell_type": "code",
   "execution_count": null,
   "metadata": {},
   "outputs": [],
   "source": [
    "if 'df_has_numerical_columns' in locals():\n",
    "    print ('Ok')\n",
    "else:\n",
    "    print('no')"
   ]
  },
  {
   "cell_type": "code",
   "execution_count": 7,
   "metadata": {},
   "outputs": [
    {
     "name": "stdout",
     "output_type": "stream",
     "text": [
      "--------df_global_confirmed--------------\n",
      "Size:\n",
      "70756\n",
      "-----------------------------------------\n",
      "Shape:\n"
     ]
    },
    {
     "data": {
      "text/plain": [
       "(266, 266)"
      ]
     },
     "execution_count": 7,
     "metadata": {},
     "output_type": "execute_result"
    },
    {
     "name": "stdout",
     "output_type": "stream",
     "text": [
      "-----------------------------------------\n",
      "Columns:\n"
     ]
    },
    {
     "data": {
      "text/plain": [
       "Index(['Province/State', 'Country/Region', 'Lat', 'Long', '1/22/20', '1/23/20',\n",
       "       '1/24/20', '1/25/20', '1/26/20', '1/27/20',\n",
       "       ...\n",
       "       '9/30/20', '10/1/20', '10/2/20', '10/3/20', '10/4/20', '10/5/20',\n",
       "       '10/6/20', '10/7/20', '10/8/20', '10/9/20'],\n",
       "      dtype='object', length=266)"
      ]
     },
     "execution_count": 7,
     "metadata": {},
     "output_type": "execute_result"
    },
    {
     "name": "stdout",
     "output_type": "stream",
     "text": [
      "-----------------------------------------\n",
      "First 3 rows:\n"
     ]
    },
    {
     "data": {
      "text/html": [
       "<div>\n",
       "<style scoped>\n",
       "    .dataframe tbody tr th:only-of-type {\n",
       "        vertical-align: middle;\n",
       "    }\n",
       "\n",
       "    .dataframe tbody tr th {\n",
       "        vertical-align: top;\n",
       "    }\n",
       "\n",
       "    .dataframe thead th {\n",
       "        text-align: right;\n",
       "    }\n",
       "</style>\n",
       "<table border=\"1\" class=\"dataframe\">\n",
       "  <thead>\n",
       "    <tr style=\"text-align: right;\">\n",
       "      <th></th>\n",
       "      <th>Province/State</th>\n",
       "      <th>Country/Region</th>\n",
       "      <th>Lat</th>\n",
       "      <th>Long</th>\n",
       "      <th>1/22/20</th>\n",
       "      <th>1/23/20</th>\n",
       "      <th>1/24/20</th>\n",
       "      <th>1/25/20</th>\n",
       "      <th>1/26/20</th>\n",
       "      <th>1/27/20</th>\n",
       "      <th>...</th>\n",
       "      <th>9/30/20</th>\n",
       "      <th>10/1/20</th>\n",
       "      <th>10/2/20</th>\n",
       "      <th>10/3/20</th>\n",
       "      <th>10/4/20</th>\n",
       "      <th>10/5/20</th>\n",
       "      <th>10/6/20</th>\n",
       "      <th>10/7/20</th>\n",
       "      <th>10/8/20</th>\n",
       "      <th>10/9/20</th>\n",
       "    </tr>\n",
       "  </thead>\n",
       "  <tbody>\n",
       "    <tr>\n",
       "      <th>0</th>\n",
       "      <td>NaN</td>\n",
       "      <td>Afghanistan</td>\n",
       "      <td>33.93911</td>\n",
       "      <td>67.709953</td>\n",
       "      <td>0</td>\n",
       "      <td>0</td>\n",
       "      <td>0</td>\n",
       "      <td>0</td>\n",
       "      <td>0</td>\n",
       "      <td>0</td>\n",
       "      <td>...</td>\n",
       "      <td>39268</td>\n",
       "      <td>39285</td>\n",
       "      <td>39290</td>\n",
       "      <td>39297</td>\n",
       "      <td>39341</td>\n",
       "      <td>39422</td>\n",
       "      <td>39486</td>\n",
       "      <td>39548</td>\n",
       "      <td>39616</td>\n",
       "      <td>39693</td>\n",
       "    </tr>\n",
       "    <tr>\n",
       "      <th>1</th>\n",
       "      <td>NaN</td>\n",
       "      <td>Albania</td>\n",
       "      <td>41.15330</td>\n",
       "      <td>20.168300</td>\n",
       "      <td>0</td>\n",
       "      <td>0</td>\n",
       "      <td>0</td>\n",
       "      <td>0</td>\n",
       "      <td>0</td>\n",
       "      <td>0</td>\n",
       "      <td>...</td>\n",
       "      <td>13649</td>\n",
       "      <td>13806</td>\n",
       "      <td>13965</td>\n",
       "      <td>14117</td>\n",
       "      <td>14266</td>\n",
       "      <td>14410</td>\n",
       "      <td>14568</td>\n",
       "      <td>14730</td>\n",
       "      <td>14899</td>\n",
       "      <td>15066</td>\n",
       "    </tr>\n",
       "    <tr>\n",
       "      <th>2</th>\n",
       "      <td>NaN</td>\n",
       "      <td>Algeria</td>\n",
       "      <td>28.03390</td>\n",
       "      <td>1.659600</td>\n",
       "      <td>0</td>\n",
       "      <td>0</td>\n",
       "      <td>0</td>\n",
       "      <td>0</td>\n",
       "      <td>0</td>\n",
       "      <td>0</td>\n",
       "      <td>...</td>\n",
       "      <td>51530</td>\n",
       "      <td>51690</td>\n",
       "      <td>51847</td>\n",
       "      <td>51995</td>\n",
       "      <td>52136</td>\n",
       "      <td>52270</td>\n",
       "      <td>52399</td>\n",
       "      <td>52520</td>\n",
       "      <td>52658</td>\n",
       "      <td>52804</td>\n",
       "    </tr>\n",
       "  </tbody>\n",
       "</table>\n",
       "<p>3 rows × 266 columns</p>\n",
       "</div>"
      ],
      "text/plain": [
       "  Province/State Country/Region       Lat       Long  1/22/20  1/23/20  \\\n",
       "0            NaN    Afghanistan  33.93911  67.709953        0        0   \n",
       "1            NaN        Albania  41.15330  20.168300        0        0   \n",
       "2            NaN        Algeria  28.03390   1.659600        0        0   \n",
       "\n",
       "   1/24/20  1/25/20  1/26/20  1/27/20  ...  9/30/20  10/1/20  10/2/20  \\\n",
       "0        0        0        0        0  ...    39268    39285    39290   \n",
       "1        0        0        0        0  ...    13649    13806    13965   \n",
       "2        0        0        0        0  ...    51530    51690    51847   \n",
       "\n",
       "   10/3/20  10/4/20  10/5/20  10/6/20  10/7/20  10/8/20  10/9/20  \n",
       "0    39297    39341    39422    39486    39548    39616    39693  \n",
       "1    14117    14266    14410    14568    14730    14899    15066  \n",
       "2    51995    52136    52270    52399    52520    52658    52804  \n",
       "\n",
       "[3 rows x 266 columns]"
      ]
     },
     "execution_count": 7,
     "metadata": {},
     "output_type": "execute_result"
    },
    {
     "name": "stdout",
     "output_type": "stream",
     "text": [
      "-----------------------------------------\n"
     ]
    }
   ],
   "source": [
    "print('--------df_global_confirmed--------------')\n",
    "print('Size:')\n",
    "print(files_jhu_csse_obj.df_global_confirmed.size)\n",
    "print('-----------------------------------------')\n",
    "print('Shape:')\n",
    "files_jhu_csse_obj.df_global_confirmed.shape\n",
    "print('-----------------------------------------')\n",
    "print('Columns:')\n",
    "files_jhu_csse_obj.df_global_confirmed.columns\n",
    "print('-----------------------------------------')\n",
    "print('First 3 rows:')\n",
    "files_jhu_csse_obj.df_global_confirmed.head(3)\n",
    "print('-----------------------------------------')"
   ]
  },
  {
   "cell_type": "code",
   "execution_count": 8,
   "metadata": {},
   "outputs": [
    {
     "name": "stdout",
     "output_type": "stream",
     "text": [
      "--------df_us_confirmed--------------\n",
      "Size:\n",
      "911820\n",
      "-----------------------------------------\n",
      "Shape:\n"
     ]
    },
    {
     "data": {
      "text/plain": [
       "(3340, 273)"
      ]
     },
     "execution_count": 8,
     "metadata": {},
     "output_type": "execute_result"
    },
    {
     "name": "stdout",
     "output_type": "stream",
     "text": [
      "-----------------------------------------\n",
      "Columns:\n"
     ]
    },
    {
     "data": {
      "text/plain": [
       "Index(['UID', 'iso2', 'iso3', 'code3', 'FIPS', 'Admin2', 'Province_State',\n",
       "       'Country_Region', 'Lat', 'Long_',\n",
       "       ...\n",
       "       '9/30/20', '10/1/20', '10/2/20', '10/3/20', '10/4/20', '10/5/20',\n",
       "       '10/6/20', '10/7/20', '10/8/20', '10/9/20'],\n",
       "      dtype='object', length=273)"
      ]
     },
     "execution_count": 8,
     "metadata": {},
     "output_type": "execute_result"
    },
    {
     "name": "stdout",
     "output_type": "stream",
     "text": [
      "-----------------------------------------\n",
      "First 3 rows:\n"
     ]
    },
    {
     "data": {
      "text/html": [
       "<div>\n",
       "<style scoped>\n",
       "    .dataframe tbody tr th:only-of-type {\n",
       "        vertical-align: middle;\n",
       "    }\n",
       "\n",
       "    .dataframe tbody tr th {\n",
       "        vertical-align: top;\n",
       "    }\n",
       "\n",
       "    .dataframe thead th {\n",
       "        text-align: right;\n",
       "    }\n",
       "</style>\n",
       "<table border=\"1\" class=\"dataframe\">\n",
       "  <thead>\n",
       "    <tr style=\"text-align: right;\">\n",
       "      <th></th>\n",
       "      <th>UID</th>\n",
       "      <th>iso2</th>\n",
       "      <th>iso3</th>\n",
       "      <th>code3</th>\n",
       "      <th>FIPS</th>\n",
       "      <th>Admin2</th>\n",
       "      <th>Province_State</th>\n",
       "      <th>Country_Region</th>\n",
       "      <th>Lat</th>\n",
       "      <th>Long_</th>\n",
       "      <th>...</th>\n",
       "      <th>9/30/20</th>\n",
       "      <th>10/1/20</th>\n",
       "      <th>10/2/20</th>\n",
       "      <th>10/3/20</th>\n",
       "      <th>10/4/20</th>\n",
       "      <th>10/5/20</th>\n",
       "      <th>10/6/20</th>\n",
       "      <th>10/7/20</th>\n",
       "      <th>10/8/20</th>\n",
       "      <th>10/9/20</th>\n",
       "    </tr>\n",
       "  </thead>\n",
       "  <tbody>\n",
       "    <tr>\n",
       "      <th>0</th>\n",
       "      <td>84001001</td>\n",
       "      <td>US</td>\n",
       "      <td>USA</td>\n",
       "      <td>840</td>\n",
       "      <td>1001.0</td>\n",
       "      <td>Autauga</td>\n",
       "      <td>Alabama</td>\n",
       "      <td>US</td>\n",
       "      <td>32.539527</td>\n",
       "      <td>-86.644082</td>\n",
       "      <td>...</td>\n",
       "      <td>1791</td>\n",
       "      <td>1798</td>\n",
       "      <td>1805</td>\n",
       "      <td>1818</td>\n",
       "      <td>1828</td>\n",
       "      <td>1831</td>\n",
       "      <td>1839</td>\n",
       "      <td>1852</td>\n",
       "      <td>1863</td>\n",
       "      <td>1882</td>\n",
       "    </tr>\n",
       "    <tr>\n",
       "      <th>1</th>\n",
       "      <td>84001003</td>\n",
       "      <td>US</td>\n",
       "      <td>USA</td>\n",
       "      <td>840</td>\n",
       "      <td>1003.0</td>\n",
       "      <td>Baldwin</td>\n",
       "      <td>Alabama</td>\n",
       "      <td>US</td>\n",
       "      <td>30.727750</td>\n",
       "      <td>-87.722071</td>\n",
       "      <td>...</td>\n",
       "      <td>5640</td>\n",
       "      <td>5997</td>\n",
       "      <td>6024</td>\n",
       "      <td>6048</td>\n",
       "      <td>6073</td>\n",
       "      <td>6085</td>\n",
       "      <td>6116</td>\n",
       "      <td>6134</td>\n",
       "      <td>6141</td>\n",
       "      <td>6172</td>\n",
       "    </tr>\n",
       "    <tr>\n",
       "      <th>2</th>\n",
       "      <td>84001005</td>\n",
       "      <td>US</td>\n",
       "      <td>USA</td>\n",
       "      <td>840</td>\n",
       "      <td>1005.0</td>\n",
       "      <td>Barbour</td>\n",
       "      <td>Alabama</td>\n",
       "      <td>US</td>\n",
       "      <td>31.868263</td>\n",
       "      <td>-85.387129</td>\n",
       "      <td>...</td>\n",
       "      <td>896</td>\n",
       "      <td>898</td>\n",
       "      <td>902</td>\n",
       "      <td>921</td>\n",
       "      <td>921</td>\n",
       "      <td>921</td>\n",
       "      <td>923</td>\n",
       "      <td>927</td>\n",
       "      <td>927</td>\n",
       "      <td>939</td>\n",
       "    </tr>\n",
       "  </tbody>\n",
       "</table>\n",
       "<p>3 rows × 273 columns</p>\n",
       "</div>"
      ],
      "text/plain": [
       "        UID iso2 iso3  code3    FIPS   Admin2 Province_State Country_Region  \\\n",
       "0  84001001   US  USA    840  1001.0  Autauga        Alabama             US   \n",
       "1  84001003   US  USA    840  1003.0  Baldwin        Alabama             US   \n",
       "2  84001005   US  USA    840  1005.0  Barbour        Alabama             US   \n",
       "\n",
       "         Lat      Long_  ... 9/30/20  10/1/20  10/2/20  10/3/20  10/4/20  \\\n",
       "0  32.539527 -86.644082  ...    1791     1798     1805     1818     1828   \n",
       "1  30.727750 -87.722071  ...    5640     5997     6024     6048     6073   \n",
       "2  31.868263 -85.387129  ...     896      898      902      921      921   \n",
       "\n",
       "   10/5/20  10/6/20  10/7/20  10/8/20  10/9/20  \n",
       "0     1831     1839     1852     1863     1882  \n",
       "1     6085     6116     6134     6141     6172  \n",
       "2      921      923      927      927      939  \n",
       "\n",
       "[3 rows x 273 columns]"
      ]
     },
     "execution_count": 8,
     "metadata": {},
     "output_type": "execute_result"
    },
    {
     "name": "stdout",
     "output_type": "stream",
     "text": [
      "-----------------------------------------\n"
     ]
    }
   ],
   "source": [
    "print('--------df_us_confirmed--------------')\n",
    "print('Size:')\n",
    "print(files_jhu_csse_obj.df_us_confirmed.size)\n",
    "print('-----------------------------------------')\n",
    "print('Shape:')\n",
    "files_jhu_csse_obj.df_us_confirmed.shape\n",
    "print('-----------------------------------------')\n",
    "print('Columns:')\n",
    "files_jhu_csse_obj.df_us_confirmed.columns\n",
    "print('-----------------------------------------')\n",
    "print('First 3 rows:')\n",
    "files_jhu_csse_obj.df_us_confirmed.head(3)\n",
    "print('-----------------------------------------')"
   ]
  },
  {
   "cell_type": "code",
   "execution_count": 9,
   "metadata": {},
   "outputs": [
    {
     "name": "stdout",
     "output_type": "stream",
     "text": [
      "--------df_global_deaths--------------\n",
      "Size:\n",
      "70756\n",
      "-----------------------------------------\n",
      "Shape:\n"
     ]
    },
    {
     "data": {
      "text/plain": [
       "(266, 266)"
      ]
     },
     "execution_count": 9,
     "metadata": {},
     "output_type": "execute_result"
    },
    {
     "name": "stdout",
     "output_type": "stream",
     "text": [
      "-----------------------------------------\n",
      "Columns:\n"
     ]
    },
    {
     "data": {
      "text/plain": [
       "Index(['Province/State', 'Country/Region', 'Lat', 'Long', '1/22/20', '1/23/20',\n",
       "       '1/24/20', '1/25/20', '1/26/20', '1/27/20',\n",
       "       ...\n",
       "       '9/30/20', '10/1/20', '10/2/20', '10/3/20', '10/4/20', '10/5/20',\n",
       "       '10/6/20', '10/7/20', '10/8/20', '10/9/20'],\n",
       "      dtype='object', length=266)"
      ]
     },
     "execution_count": 9,
     "metadata": {},
     "output_type": "execute_result"
    },
    {
     "name": "stdout",
     "output_type": "stream",
     "text": [
      "-----------------------------------------\n",
      "First 3 rows:\n"
     ]
    },
    {
     "data": {
      "text/html": [
       "<div>\n",
       "<style scoped>\n",
       "    .dataframe tbody tr th:only-of-type {\n",
       "        vertical-align: middle;\n",
       "    }\n",
       "\n",
       "    .dataframe tbody tr th {\n",
       "        vertical-align: top;\n",
       "    }\n",
       "\n",
       "    .dataframe thead th {\n",
       "        text-align: right;\n",
       "    }\n",
       "</style>\n",
       "<table border=\"1\" class=\"dataframe\">\n",
       "  <thead>\n",
       "    <tr style=\"text-align: right;\">\n",
       "      <th></th>\n",
       "      <th>Province/State</th>\n",
       "      <th>Country/Region</th>\n",
       "      <th>Lat</th>\n",
       "      <th>Long</th>\n",
       "      <th>1/22/20</th>\n",
       "      <th>1/23/20</th>\n",
       "      <th>1/24/20</th>\n",
       "      <th>1/25/20</th>\n",
       "      <th>1/26/20</th>\n",
       "      <th>1/27/20</th>\n",
       "      <th>...</th>\n",
       "      <th>9/30/20</th>\n",
       "      <th>10/1/20</th>\n",
       "      <th>10/2/20</th>\n",
       "      <th>10/3/20</th>\n",
       "      <th>10/4/20</th>\n",
       "      <th>10/5/20</th>\n",
       "      <th>10/6/20</th>\n",
       "      <th>10/7/20</th>\n",
       "      <th>10/8/20</th>\n",
       "      <th>10/9/20</th>\n",
       "    </tr>\n",
       "  </thead>\n",
       "  <tbody>\n",
       "    <tr>\n",
       "      <th>0</th>\n",
       "      <td>NaN</td>\n",
       "      <td>Afghanistan</td>\n",
       "      <td>33.93911</td>\n",
       "      <td>67.709953</td>\n",
       "      <td>0</td>\n",
       "      <td>0</td>\n",
       "      <td>0</td>\n",
       "      <td>0</td>\n",
       "      <td>0</td>\n",
       "      <td>0</td>\n",
       "      <td>...</td>\n",
       "      <td>1458</td>\n",
       "      <td>1458</td>\n",
       "      <td>1458</td>\n",
       "      <td>1462</td>\n",
       "      <td>1462</td>\n",
       "      <td>1466</td>\n",
       "      <td>1467</td>\n",
       "      <td>1469</td>\n",
       "      <td>1470</td>\n",
       "      <td>1472</td>\n",
       "    </tr>\n",
       "    <tr>\n",
       "      <th>1</th>\n",
       "      <td>NaN</td>\n",
       "      <td>Albania</td>\n",
       "      <td>41.15330</td>\n",
       "      <td>20.168300</td>\n",
       "      <td>0</td>\n",
       "      <td>0</td>\n",
       "      <td>0</td>\n",
       "      <td>0</td>\n",
       "      <td>0</td>\n",
       "      <td>0</td>\n",
       "      <td>...</td>\n",
       "      <td>387</td>\n",
       "      <td>388</td>\n",
       "      <td>389</td>\n",
       "      <td>392</td>\n",
       "      <td>396</td>\n",
       "      <td>400</td>\n",
       "      <td>403</td>\n",
       "      <td>407</td>\n",
       "      <td>411</td>\n",
       "      <td>413</td>\n",
       "    </tr>\n",
       "    <tr>\n",
       "      <th>2</th>\n",
       "      <td>NaN</td>\n",
       "      <td>Algeria</td>\n",
       "      <td>28.03390</td>\n",
       "      <td>1.659600</td>\n",
       "      <td>0</td>\n",
       "      <td>0</td>\n",
       "      <td>0</td>\n",
       "      <td>0</td>\n",
       "      <td>0</td>\n",
       "      <td>0</td>\n",
       "      <td>...</td>\n",
       "      <td>1736</td>\n",
       "      <td>1741</td>\n",
       "      <td>1749</td>\n",
       "      <td>1756</td>\n",
       "      <td>1760</td>\n",
       "      <td>1768</td>\n",
       "      <td>1768</td>\n",
       "      <td>1771</td>\n",
       "      <td>1783</td>\n",
       "      <td>1789</td>\n",
       "    </tr>\n",
       "  </tbody>\n",
       "</table>\n",
       "<p>3 rows × 266 columns</p>\n",
       "</div>"
      ],
      "text/plain": [
       "  Province/State Country/Region       Lat       Long  1/22/20  1/23/20  \\\n",
       "0            NaN    Afghanistan  33.93911  67.709953        0        0   \n",
       "1            NaN        Albania  41.15330  20.168300        0        0   \n",
       "2            NaN        Algeria  28.03390   1.659600        0        0   \n",
       "\n",
       "   1/24/20  1/25/20  1/26/20  1/27/20  ...  9/30/20  10/1/20  10/2/20  \\\n",
       "0        0        0        0        0  ...     1458     1458     1458   \n",
       "1        0        0        0        0  ...      387      388      389   \n",
       "2        0        0        0        0  ...     1736     1741     1749   \n",
       "\n",
       "   10/3/20  10/4/20  10/5/20  10/6/20  10/7/20  10/8/20  10/9/20  \n",
       "0     1462     1462     1466     1467     1469     1470     1472  \n",
       "1      392      396      400      403      407      411      413  \n",
       "2     1756     1760     1768     1768     1771     1783     1789  \n",
       "\n",
       "[3 rows x 266 columns]"
      ]
     },
     "execution_count": 9,
     "metadata": {},
     "output_type": "execute_result"
    },
    {
     "name": "stdout",
     "output_type": "stream",
     "text": [
      "-----------------------------------------\n"
     ]
    }
   ],
   "source": [
    "print('--------df_global_deaths--------------')\n",
    "print('Size:')\n",
    "print(files_jhu_csse_obj.df_global_deaths.size)\n",
    "print('-----------------------------------------')\n",
    "print('Shape:')\n",
    "files_jhu_csse_obj.df_global_deaths.shape\n",
    "print('-----------------------------------------')\n",
    "print('Columns:')\n",
    "files_jhu_csse_obj.df_global_deaths.columns\n",
    "print('-----------------------------------------')\n",
    "print('First 3 rows:')\n",
    "files_jhu_csse_obj.df_global_deaths.head(3)\n",
    "print('-----------------------------------------')\n",
    "print('Describe number:')\n",
    "if df_has_numerical_columns(files_jhu_csse_obj.df_global_confirmed):\n",
    "    files_jhu_csse_obj.df_global_confirmed.describe(include=[np.number])\n",
    "else:\n",
    "    print(\"No numeric fields!\")\n",
    "print('-----------------------------------------')\n",
    "print('Describe categorical:')\n",
    "if df_has_categorical_columns(files_jhu_csse_obj.df_global_confirmed):\n",
    "    files_jhu_csse_obj.df_global_confirmed.describe(include=['category'])\n",
    "else:\n",
    "    print(\"No categorical fields!\")\n",
    "print('-----------------------------------------')"
   ]
  },
  {
   "cell_type": "code",
   "execution_count": 10,
   "metadata": {},
   "outputs": [
    {
     "name": "stdout",
     "output_type": "stream",
     "text": [
      "--------df_us_deaths--------------\n",
      "Size:\n",
      "915160\n",
      "-----------------------------------------\n",
      "Shape:\n"
     ]
    },
    {
     "data": {
      "text/plain": [
       "(3340, 274)"
      ]
     },
     "execution_count": 10,
     "metadata": {},
     "output_type": "execute_result"
    },
    {
     "name": "stdout",
     "output_type": "stream",
     "text": [
      "-----------------------------------------\n",
      "Columns:\n"
     ]
    },
    {
     "data": {
      "text/plain": [
       "Index(['UID', 'iso2', 'iso3', 'code3', 'FIPS', 'Admin2', 'Province_State',\n",
       "       'Country_Region', 'Lat', 'Long_',\n",
       "       ...\n",
       "       '9/30/20', '10/1/20', '10/2/20', '10/3/20', '10/4/20', '10/5/20',\n",
       "       '10/6/20', '10/7/20', '10/8/20', '10/9/20'],\n",
       "      dtype='object', length=274)"
      ]
     },
     "execution_count": 10,
     "metadata": {},
     "output_type": "execute_result"
    },
    {
     "name": "stdout",
     "output_type": "stream",
     "text": [
      "-----------------------------------------\n",
      "First 3 rows:\n"
     ]
    },
    {
     "data": {
      "text/html": [
       "<div>\n",
       "<style scoped>\n",
       "    .dataframe tbody tr th:only-of-type {\n",
       "        vertical-align: middle;\n",
       "    }\n",
       "\n",
       "    .dataframe tbody tr th {\n",
       "        vertical-align: top;\n",
       "    }\n",
       "\n",
       "    .dataframe thead th {\n",
       "        text-align: right;\n",
       "    }\n",
       "</style>\n",
       "<table border=\"1\" class=\"dataframe\">\n",
       "  <thead>\n",
       "    <tr style=\"text-align: right;\">\n",
       "      <th></th>\n",
       "      <th>UID</th>\n",
       "      <th>iso2</th>\n",
       "      <th>iso3</th>\n",
       "      <th>code3</th>\n",
       "      <th>FIPS</th>\n",
       "      <th>Admin2</th>\n",
       "      <th>Province_State</th>\n",
       "      <th>Country_Region</th>\n",
       "      <th>Lat</th>\n",
       "      <th>Long_</th>\n",
       "      <th>...</th>\n",
       "      <th>9/30/20</th>\n",
       "      <th>10/1/20</th>\n",
       "      <th>10/2/20</th>\n",
       "      <th>10/3/20</th>\n",
       "      <th>10/4/20</th>\n",
       "      <th>10/5/20</th>\n",
       "      <th>10/6/20</th>\n",
       "      <th>10/7/20</th>\n",
       "      <th>10/8/20</th>\n",
       "      <th>10/9/20</th>\n",
       "    </tr>\n",
       "  </thead>\n",
       "  <tbody>\n",
       "    <tr>\n",
       "      <th>0</th>\n",
       "      <td>84001001</td>\n",
       "      <td>US</td>\n",
       "      <td>USA</td>\n",
       "      <td>840</td>\n",
       "      <td>1001.0</td>\n",
       "      <td>Autauga</td>\n",
       "      <td>Alabama</td>\n",
       "      <td>US</td>\n",
       "      <td>32.539527</td>\n",
       "      <td>-86.644082</td>\n",
       "      <td>...</td>\n",
       "      <td>27</td>\n",
       "      <td>28</td>\n",
       "      <td>27</td>\n",
       "      <td>27</td>\n",
       "      <td>27</td>\n",
       "      <td>27</td>\n",
       "      <td>27</td>\n",
       "      <td>27</td>\n",
       "      <td>28</td>\n",
       "      <td>28</td>\n",
       "    </tr>\n",
       "    <tr>\n",
       "      <th>1</th>\n",
       "      <td>84001003</td>\n",
       "      <td>US</td>\n",
       "      <td>USA</td>\n",
       "      <td>840</td>\n",
       "      <td>1003.0</td>\n",
       "      <td>Baldwin</td>\n",
       "      <td>Alabama</td>\n",
       "      <td>US</td>\n",
       "      <td>30.727750</td>\n",
       "      <td>-87.722071</td>\n",
       "      <td>...</td>\n",
       "      <td>52</td>\n",
       "      <td>53</td>\n",
       "      <td>53</td>\n",
       "      <td>53</td>\n",
       "      <td>53</td>\n",
       "      <td>53</td>\n",
       "      <td>55</td>\n",
       "      <td>56</td>\n",
       "      <td>64</td>\n",
       "      <td>64</td>\n",
       "    </tr>\n",
       "    <tr>\n",
       "      <th>2</th>\n",
       "      <td>84001005</td>\n",
       "      <td>US</td>\n",
       "      <td>USA</td>\n",
       "      <td>840</td>\n",
       "      <td>1005.0</td>\n",
       "      <td>Barbour</td>\n",
       "      <td>Alabama</td>\n",
       "      <td>US</td>\n",
       "      <td>31.868263</td>\n",
       "      <td>-85.387129</td>\n",
       "      <td>...</td>\n",
       "      <td>7</td>\n",
       "      <td>7</td>\n",
       "      <td>7</td>\n",
       "      <td>7</td>\n",
       "      <td>7</td>\n",
       "      <td>7</td>\n",
       "      <td>7</td>\n",
       "      <td>7</td>\n",
       "      <td>9</td>\n",
       "      <td>9</td>\n",
       "    </tr>\n",
       "  </tbody>\n",
       "</table>\n",
       "<p>3 rows × 274 columns</p>\n",
       "</div>"
      ],
      "text/plain": [
       "        UID iso2 iso3  code3    FIPS   Admin2 Province_State Country_Region  \\\n",
       "0  84001001   US  USA    840  1001.0  Autauga        Alabama             US   \n",
       "1  84001003   US  USA    840  1003.0  Baldwin        Alabama             US   \n",
       "2  84001005   US  USA    840  1005.0  Barbour        Alabama             US   \n",
       "\n",
       "         Lat      Long_  ... 9/30/20  10/1/20  10/2/20  10/3/20  10/4/20  \\\n",
       "0  32.539527 -86.644082  ...      27       28       27       27       27   \n",
       "1  30.727750 -87.722071  ...      52       53       53       53       53   \n",
       "2  31.868263 -85.387129  ...       7        7        7        7        7   \n",
       "\n",
       "   10/5/20  10/6/20  10/7/20  10/8/20  10/9/20  \n",
       "0       27       27       27       28       28  \n",
       "1       53       55       56       64       64  \n",
       "2        7        7        7        9        9  \n",
       "\n",
       "[3 rows x 274 columns]"
      ]
     },
     "execution_count": 10,
     "metadata": {},
     "output_type": "execute_result"
    },
    {
     "name": "stdout",
     "output_type": "stream",
     "text": [
      "-----------------------------------------\n"
     ]
    }
   ],
   "source": [
    "print('--------df_us_deaths--------------')\n",
    "print('Size:')\n",
    "print(files_jhu_csse_obj.df_us_deaths.size)\n",
    "print('-----------------------------------------')\n",
    "print('Shape:')\n",
    "files_jhu_csse_obj.df_us_deaths.shape\n",
    "print('-----------------------------------------')\n",
    "print('Columns:')\n",
    "files_jhu_csse_obj.df_us_deaths.columns\n",
    "print('-----------------------------------------')\n",
    "print('First 3 rows:')\n",
    "files_jhu_csse_obj.df_us_deaths.head(3)\n",
    "print('-----------------------------------------')"
   ]
  },
  {
   "cell_type": "code",
   "execution_count": 11,
   "metadata": {},
   "outputs": [
    {
     "name": "stdout",
     "output_type": "stream",
     "text": [
      "--------df_global_recoveries--------------\n",
      "Size:\n",
      "67298\n",
      "-----------------------------------------\n",
      "Shape:\n"
     ]
    },
    {
     "data": {
      "text/plain": [
       "(253, 266)"
      ]
     },
     "execution_count": 11,
     "metadata": {},
     "output_type": "execute_result"
    },
    {
     "name": "stdout",
     "output_type": "stream",
     "text": [
      "-----------------------------------------\n",
      "Columns:\n"
     ]
    },
    {
     "data": {
      "text/plain": [
       "Index(['Province/State', 'Country/Region', 'Lat', 'Long', '1/22/20', '1/23/20',\n",
       "       '1/24/20', '1/25/20', '1/26/20', '1/27/20',\n",
       "       ...\n",
       "       '9/30/20', '10/1/20', '10/2/20', '10/3/20', '10/4/20', '10/5/20',\n",
       "       '10/6/20', '10/7/20', '10/8/20', '10/9/20'],\n",
       "      dtype='object', length=266)"
      ]
     },
     "execution_count": 11,
     "metadata": {},
     "output_type": "execute_result"
    },
    {
     "name": "stdout",
     "output_type": "stream",
     "text": [
      "-----------------------------------------\n",
      "First 3 rows:\n"
     ]
    },
    {
     "data": {
      "text/html": [
       "<div>\n",
       "<style scoped>\n",
       "    .dataframe tbody tr th:only-of-type {\n",
       "        vertical-align: middle;\n",
       "    }\n",
       "\n",
       "    .dataframe tbody tr th {\n",
       "        vertical-align: top;\n",
       "    }\n",
       "\n",
       "    .dataframe thead th {\n",
       "        text-align: right;\n",
       "    }\n",
       "</style>\n",
       "<table border=\"1\" class=\"dataframe\">\n",
       "  <thead>\n",
       "    <tr style=\"text-align: right;\">\n",
       "      <th></th>\n",
       "      <th>Province/State</th>\n",
       "      <th>Country/Region</th>\n",
       "      <th>Lat</th>\n",
       "      <th>Long</th>\n",
       "      <th>1/22/20</th>\n",
       "      <th>1/23/20</th>\n",
       "      <th>1/24/20</th>\n",
       "      <th>1/25/20</th>\n",
       "      <th>1/26/20</th>\n",
       "      <th>1/27/20</th>\n",
       "      <th>...</th>\n",
       "      <th>9/30/20</th>\n",
       "      <th>10/1/20</th>\n",
       "      <th>10/2/20</th>\n",
       "      <th>10/3/20</th>\n",
       "      <th>10/4/20</th>\n",
       "      <th>10/5/20</th>\n",
       "      <th>10/6/20</th>\n",
       "      <th>10/7/20</th>\n",
       "      <th>10/8/20</th>\n",
       "      <th>10/9/20</th>\n",
       "    </tr>\n",
       "  </thead>\n",
       "  <tbody>\n",
       "    <tr>\n",
       "      <th>0</th>\n",
       "      <td>NaN</td>\n",
       "      <td>Afghanistan</td>\n",
       "      <td>33.93911</td>\n",
       "      <td>67.709953</td>\n",
       "      <td>0</td>\n",
       "      <td>0</td>\n",
       "      <td>0</td>\n",
       "      <td>0</td>\n",
       "      <td>0</td>\n",
       "      <td>0</td>\n",
       "      <td>...</td>\n",
       "      <td>32789</td>\n",
       "      <td>32842</td>\n",
       "      <td>32842</td>\n",
       "      <td>32842</td>\n",
       "      <td>32852</td>\n",
       "      <td>32879</td>\n",
       "      <td>32977</td>\n",
       "      <td>33045</td>\n",
       "      <td>33058</td>\n",
       "      <td>33058</td>\n",
       "    </tr>\n",
       "    <tr>\n",
       "      <th>1</th>\n",
       "      <td>NaN</td>\n",
       "      <td>Albania</td>\n",
       "      <td>41.15330</td>\n",
       "      <td>20.168300</td>\n",
       "      <td>0</td>\n",
       "      <td>0</td>\n",
       "      <td>0</td>\n",
       "      <td>0</td>\n",
       "      <td>0</td>\n",
       "      <td>0</td>\n",
       "      <td>...</td>\n",
       "      <td>7847</td>\n",
       "      <td>8077</td>\n",
       "      <td>8342</td>\n",
       "      <td>8536</td>\n",
       "      <td>8675</td>\n",
       "      <td>8825</td>\n",
       "      <td>8965</td>\n",
       "      <td>9115</td>\n",
       "      <td>9215</td>\n",
       "      <td>9304</td>\n",
       "    </tr>\n",
       "    <tr>\n",
       "      <th>2</th>\n",
       "      <td>NaN</td>\n",
       "      <td>Algeria</td>\n",
       "      <td>28.03390</td>\n",
       "      <td>1.659600</td>\n",
       "      <td>0</td>\n",
       "      <td>0</td>\n",
       "      <td>0</td>\n",
       "      <td>0</td>\n",
       "      <td>0</td>\n",
       "      <td>0</td>\n",
       "      <td>...</td>\n",
       "      <td>36174</td>\n",
       "      <td>36282</td>\n",
       "      <td>36385</td>\n",
       "      <td>36482</td>\n",
       "      <td>36578</td>\n",
       "      <td>36672</td>\n",
       "      <td>36763</td>\n",
       "      <td>36857</td>\n",
       "      <td>36958</td>\n",
       "      <td>37067</td>\n",
       "    </tr>\n",
       "  </tbody>\n",
       "</table>\n",
       "<p>3 rows × 266 columns</p>\n",
       "</div>"
      ],
      "text/plain": [
       "  Province/State Country/Region       Lat       Long  1/22/20  1/23/20  \\\n",
       "0            NaN    Afghanistan  33.93911  67.709953        0        0   \n",
       "1            NaN        Albania  41.15330  20.168300        0        0   \n",
       "2            NaN        Algeria  28.03390   1.659600        0        0   \n",
       "\n",
       "   1/24/20  1/25/20  1/26/20  1/27/20  ...  9/30/20  10/1/20  10/2/20  \\\n",
       "0        0        0        0        0  ...    32789    32842    32842   \n",
       "1        0        0        0        0  ...     7847     8077     8342   \n",
       "2        0        0        0        0  ...    36174    36282    36385   \n",
       "\n",
       "   10/3/20  10/4/20  10/5/20  10/6/20  10/7/20  10/8/20  10/9/20  \n",
       "0    32842    32852    32879    32977    33045    33058    33058  \n",
       "1     8536     8675     8825     8965     9115     9215     9304  \n",
       "2    36482    36578    36672    36763    36857    36958    37067  \n",
       "\n",
       "[3 rows x 266 columns]"
      ]
     },
     "execution_count": 11,
     "metadata": {},
     "output_type": "execute_result"
    },
    {
     "name": "stdout",
     "output_type": "stream",
     "text": [
      "-----------------------------------------\n"
     ]
    }
   ],
   "source": [
    "print('--------df_global_recoveries--------------')\n",
    "print('Size:')\n",
    "print(files_jhu_csse_obj.df_global_recoveries.size)\n",
    "print('-----------------------------------------')\n",
    "print('Shape:')\n",
    "files_jhu_csse_obj.df_global_recoveries.shape\n",
    "print('-----------------------------------------')\n",
    "print('Columns:')\n",
    "files_jhu_csse_obj.df_global_recoveries.columns\n",
    "print('-----------------------------------------')\n",
    "print('First 3 rows:')\n",
    "files_jhu_csse_obj.df_global_recoveries.head(3)\n",
    "print('-----------------------------------------')"
   ]
  },
  {
   "cell_type": "code",
   "execution_count": 12,
   "metadata": {},
   "outputs": [
    {
     "name": "stdout",
     "output_type": "stream",
     "text": [
      "--------df_global_latest_data--------------\n",
      "Size:\n",
      "55370\n",
      "-----------------------------------------\n",
      "Shape:\n"
     ]
    },
    {
     "data": {
      "text/plain": [
       "(3955, 14)"
      ]
     },
     "execution_count": 12,
     "metadata": {},
     "output_type": "execute_result"
    },
    {
     "name": "stdout",
     "output_type": "stream",
     "text": [
      "-----------------------------------------\n",
      "Columns:\n"
     ]
    },
    {
     "data": {
      "text/plain": [
       "Index(['FIPS', 'Admin2', 'Province_State', 'Country_Region', 'Last_Update',\n",
       "       'Lat', 'Long_', 'Confirmed', 'Deaths', 'Recovered', 'Active',\n",
       "       'Combined_Key', 'Incidence_Rate', 'Case-Fatality_Ratio'],\n",
       "      dtype='object')"
      ]
     },
     "execution_count": 12,
     "metadata": {},
     "output_type": "execute_result"
    },
    {
     "name": "stdout",
     "output_type": "stream",
     "text": [
      "-----------------------------------------\n",
      "First 3 rows:\n"
     ]
    },
    {
     "data": {
      "text/html": [
       "<div>\n",
       "<style scoped>\n",
       "    .dataframe tbody tr th:only-of-type {\n",
       "        vertical-align: middle;\n",
       "    }\n",
       "\n",
       "    .dataframe tbody tr th {\n",
       "        vertical-align: top;\n",
       "    }\n",
       "\n",
       "    .dataframe thead th {\n",
       "        text-align: right;\n",
       "    }\n",
       "</style>\n",
       "<table border=\"1\" class=\"dataframe\">\n",
       "  <thead>\n",
       "    <tr style=\"text-align: right;\">\n",
       "      <th></th>\n",
       "      <th>FIPS</th>\n",
       "      <th>Admin2</th>\n",
       "      <th>Province_State</th>\n",
       "      <th>Country_Region</th>\n",
       "      <th>Last_Update</th>\n",
       "      <th>Lat</th>\n",
       "      <th>Long_</th>\n",
       "      <th>Confirmed</th>\n",
       "      <th>Deaths</th>\n",
       "      <th>Recovered</th>\n",
       "      <th>Active</th>\n",
       "      <th>Combined_Key</th>\n",
       "      <th>Incidence_Rate</th>\n",
       "      <th>Case-Fatality_Ratio</th>\n",
       "    </tr>\n",
       "  </thead>\n",
       "  <tbody>\n",
       "    <tr>\n",
       "      <th>0</th>\n",
       "      <td>NaN</td>\n",
       "      <td>NaN</td>\n",
       "      <td>NaN</td>\n",
       "      <td>Afghanistan</td>\n",
       "      <td>2020-10-10 04:23:57</td>\n",
       "      <td>33.93911</td>\n",
       "      <td>67.709953</td>\n",
       "      <td>39693</td>\n",
       "      <td>1472</td>\n",
       "      <td>33058</td>\n",
       "      <td>5163.0</td>\n",
       "      <td>Afghanistan</td>\n",
       "      <td>101.964273</td>\n",
       "      <td>3.708462</td>\n",
       "    </tr>\n",
       "    <tr>\n",
       "      <th>1</th>\n",
       "      <td>NaN</td>\n",
       "      <td>NaN</td>\n",
       "      <td>NaN</td>\n",
       "      <td>Albania</td>\n",
       "      <td>2020-10-10 04:23:57</td>\n",
       "      <td>41.15330</td>\n",
       "      <td>20.168300</td>\n",
       "      <td>15066</td>\n",
       "      <td>413</td>\n",
       "      <td>9304</td>\n",
       "      <td>5349.0</td>\n",
       "      <td>Albania</td>\n",
       "      <td>523.524915</td>\n",
       "      <td>2.741272</td>\n",
       "    </tr>\n",
       "    <tr>\n",
       "      <th>2</th>\n",
       "      <td>NaN</td>\n",
       "      <td>NaN</td>\n",
       "      <td>NaN</td>\n",
       "      <td>Algeria</td>\n",
       "      <td>2020-10-10 04:23:57</td>\n",
       "      <td>28.03390</td>\n",
       "      <td>1.659600</td>\n",
       "      <td>52804</td>\n",
       "      <td>1789</td>\n",
       "      <td>37067</td>\n",
       "      <td>13948.0</td>\n",
       "      <td>Algeria</td>\n",
       "      <td>120.416748</td>\n",
       "      <td>3.388001</td>\n",
       "    </tr>\n",
       "  </tbody>\n",
       "</table>\n",
       "</div>"
      ],
      "text/plain": [
       "   FIPS Admin2 Province_State Country_Region          Last_Update       Lat  \\\n",
       "0   NaN    NaN            NaN    Afghanistan  2020-10-10 04:23:57  33.93911   \n",
       "1   NaN    NaN            NaN        Albania  2020-10-10 04:23:57  41.15330   \n",
       "2   NaN    NaN            NaN        Algeria  2020-10-10 04:23:57  28.03390   \n",
       "\n",
       "       Long_  Confirmed  Deaths  Recovered   Active Combined_Key  \\\n",
       "0  67.709953      39693    1472      33058   5163.0  Afghanistan   \n",
       "1  20.168300      15066     413       9304   5349.0      Albania   \n",
       "2   1.659600      52804    1789      37067  13948.0      Algeria   \n",
       "\n",
       "   Incidence_Rate  Case-Fatality_Ratio  \n",
       "0      101.964273             3.708462  \n",
       "1      523.524915             2.741272  \n",
       "2      120.416748             3.388001  "
      ]
     },
     "execution_count": 12,
     "metadata": {},
     "output_type": "execute_result"
    },
    {
     "name": "stdout",
     "output_type": "stream",
     "text": [
      "-----------------------------------------\n"
     ]
    }
   ],
   "source": [
    "print('--------df_global_latest_data--------------')\n",
    "print('Size:')\n",
    "print(files_jhu_csse_obj.df_global_latest_data.size)\n",
    "print('-----------------------------------------')\n",
    "print('Shape:')\n",
    "files_jhu_csse_obj.df_global_latest_data.shape\n",
    "print('-----------------------------------------')\n",
    "print('Columns:')\n",
    "files_jhu_csse_obj.df_global_latest_data.columns\n",
    "print('-----------------------------------------')\n",
    "print('First 3 rows:')\n",
    "files_jhu_csse_obj.df_global_latest_data.head(3)\n",
    "print('-----------------------------------------')"
   ]
  },
  {
   "cell_type": "code",
   "execution_count": 13,
   "metadata": {},
   "outputs": [
    {
     "name": "stdout",
     "output_type": "stream",
     "text": [
      "--------df_us_latest_data--------------\n",
      "Size:\n",
      "1044\n",
      "-----------------------------------------\n",
      "Shape:\n"
     ]
    },
    {
     "data": {
      "text/plain": [
       "(58, 18)"
      ]
     },
     "execution_count": 13,
     "metadata": {},
     "output_type": "execute_result"
    },
    {
     "name": "stdout",
     "output_type": "stream",
     "text": [
      "-----------------------------------------\n",
      "Columns:\n"
     ]
    },
    {
     "data": {
      "text/plain": [
       "Index(['Province_State', 'Country_Region', 'Last_Update', 'Lat', 'Long_',\n",
       "       'Confirmed', 'Deaths', 'Recovered', 'Active', 'FIPS', 'Incident_Rate',\n",
       "       'People_Tested', 'People_Hospitalized', 'Mortality_Rate', 'UID', 'ISO3',\n",
       "       'Testing_Rate', 'Hospitalization_Rate'],\n",
       "      dtype='object')"
      ]
     },
     "execution_count": 13,
     "metadata": {},
     "output_type": "execute_result"
    },
    {
     "name": "stdout",
     "output_type": "stream",
     "text": [
      "-----------------------------------------\n",
      "First 3 rows:\n"
     ]
    },
    {
     "data": {
      "text/html": [
       "<div>\n",
       "<style scoped>\n",
       "    .dataframe tbody tr th:only-of-type {\n",
       "        vertical-align: middle;\n",
       "    }\n",
       "\n",
       "    .dataframe tbody tr th {\n",
       "        vertical-align: top;\n",
       "    }\n",
       "\n",
       "    .dataframe thead th {\n",
       "        text-align: right;\n",
       "    }\n",
       "</style>\n",
       "<table border=\"1\" class=\"dataframe\">\n",
       "  <thead>\n",
       "    <tr style=\"text-align: right;\">\n",
       "      <th></th>\n",
       "      <th>Province_State</th>\n",
       "      <th>Country_Region</th>\n",
       "      <th>Last_Update</th>\n",
       "      <th>Lat</th>\n",
       "      <th>Long_</th>\n",
       "      <th>Confirmed</th>\n",
       "      <th>Deaths</th>\n",
       "      <th>Recovered</th>\n",
       "      <th>Active</th>\n",
       "      <th>FIPS</th>\n",
       "      <th>Incident_Rate</th>\n",
       "      <th>People_Tested</th>\n",
       "      <th>People_Hospitalized</th>\n",
       "      <th>Mortality_Rate</th>\n",
       "      <th>UID</th>\n",
       "      <th>ISO3</th>\n",
       "      <th>Testing_Rate</th>\n",
       "      <th>Hospitalization_Rate</th>\n",
       "    </tr>\n",
       "  </thead>\n",
       "  <tbody>\n",
       "    <tr>\n",
       "      <th>0</th>\n",
       "      <td>Alabama</td>\n",
       "      <td>US</td>\n",
       "      <td>2020-10-10 04:30:24</td>\n",
       "      <td>32.3182</td>\n",
       "      <td>-86.9023</td>\n",
       "      <td>163465</td>\n",
       "      <td>2653</td>\n",
       "      <td>71240.0</td>\n",
       "      <td>89572.0</td>\n",
       "      <td>1.0</td>\n",
       "      <td>3333.853403</td>\n",
       "      <td>1196452.0</td>\n",
       "      <td>NaN</td>\n",
       "      <td>1.622977</td>\n",
       "      <td>84000001</td>\n",
       "      <td>USA</td>\n",
       "      <td>24401.526763</td>\n",
       "      <td>NaN</td>\n",
       "    </tr>\n",
       "    <tr>\n",
       "      <th>1</th>\n",
       "      <td>Alaska</td>\n",
       "      <td>US</td>\n",
       "      <td>2020-10-10 04:30:24</td>\n",
       "      <td>61.3707</td>\n",
       "      <td>-152.4044</td>\n",
       "      <td>9182</td>\n",
       "      <td>60</td>\n",
       "      <td>5734.0</td>\n",
       "      <td>3388.0</td>\n",
       "      <td>2.0</td>\n",
       "      <td>1255.151768</td>\n",
       "      <td>493070.0</td>\n",
       "      <td>NaN</td>\n",
       "      <td>0.653452</td>\n",
       "      <td>84000002</td>\n",
       "      <td>USA</td>\n",
       "      <td>67401.185163</td>\n",
       "      <td>NaN</td>\n",
       "    </tr>\n",
       "    <tr>\n",
       "      <th>2</th>\n",
       "      <td>American Samoa</td>\n",
       "      <td>US</td>\n",
       "      <td>2020-10-10 04:30:24</td>\n",
       "      <td>-14.2710</td>\n",
       "      <td>-170.1320</td>\n",
       "      <td>0</td>\n",
       "      <td>0</td>\n",
       "      <td>NaN</td>\n",
       "      <td>0.0</td>\n",
       "      <td>60.0</td>\n",
       "      <td>0.000000</td>\n",
       "      <td>1616.0</td>\n",
       "      <td>NaN</td>\n",
       "      <td>NaN</td>\n",
       "      <td>16</td>\n",
       "      <td>ASM</td>\n",
       "      <td>2904.333136</td>\n",
       "      <td>NaN</td>\n",
       "    </tr>\n",
       "  </tbody>\n",
       "</table>\n",
       "</div>"
      ],
      "text/plain": [
       "   Province_State Country_Region          Last_Update      Lat     Long_  \\\n",
       "0         Alabama             US  2020-10-10 04:30:24  32.3182  -86.9023   \n",
       "1          Alaska             US  2020-10-10 04:30:24  61.3707 -152.4044   \n",
       "2  American Samoa             US  2020-10-10 04:30:24 -14.2710 -170.1320   \n",
       "\n",
       "   Confirmed  Deaths  Recovered   Active  FIPS  Incident_Rate  People_Tested  \\\n",
       "0     163465    2653    71240.0  89572.0   1.0    3333.853403      1196452.0   \n",
       "1       9182      60     5734.0   3388.0   2.0    1255.151768       493070.0   \n",
       "2          0       0        NaN      0.0  60.0       0.000000         1616.0   \n",
       "\n",
       "   People_Hospitalized  Mortality_Rate       UID ISO3  Testing_Rate  \\\n",
       "0                  NaN        1.622977  84000001  USA  24401.526763   \n",
       "1                  NaN        0.653452  84000002  USA  67401.185163   \n",
       "2                  NaN             NaN        16  ASM   2904.333136   \n",
       "\n",
       "   Hospitalization_Rate  \n",
       "0                   NaN  \n",
       "1                   NaN  \n",
       "2                   NaN  "
      ]
     },
     "execution_count": 13,
     "metadata": {},
     "output_type": "execute_result"
    },
    {
     "name": "stdout",
     "output_type": "stream",
     "text": [
      "-----------------------------------------\n"
     ]
    }
   ],
   "source": [
    "print('--------df_us_latest_data--------------')\n",
    "print('Size:')\n",
    "print(files_jhu_csse_obj.df_us_latest_data.size)\n",
    "print('-----------------------------------------')\n",
    "print('Shape:')\n",
    "files_jhu_csse_obj.df_us_latest_data.shape\n",
    "print('-----------------------------------------')\n",
    "print('Columns:')\n",
    "files_jhu_csse_obj.df_us_latest_data.columns\n",
    "print('-----------------------------------------')\n",
    "print('First 3 rows:')\n",
    "files_jhu_csse_obj.df_us_latest_data.head(3)\n",
    "print('-----------------------------------------')"
   ]
  },
  {
   "cell_type": "code",
   "execution_count": null,
   "metadata": {},
   "outputs": [],
   "source": []
  }
 ],
 "metadata": {
  "kernelspec": {
   "display_name": "Python 3",
   "language": "python",
   "name": "python3"
  },
  "language_info": {
   "codemirror_mode": {
    "name": "ipython",
    "version": 3
   },
   "file_extension": ".py",
   "mimetype": "text/x-python",
   "name": "python",
   "nbconvert_exporter": "python",
   "pygments_lexer": "ipython3",
   "version": "3.7.3"
  }
 },
 "nbformat": 4,
 "nbformat_minor": 2
}
