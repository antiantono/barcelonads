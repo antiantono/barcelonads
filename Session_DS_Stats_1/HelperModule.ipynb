{
 "cells": [
  {
   "cell_type": "markdown",
   "metadata": {},
   "source": [
    "<h1 style=\"font-size:60px;text-align:center;\">Helper Methods</h1>"
   ]
  },
  {
   "cell_type": "code",
   "execution_count": 8,
   "metadata": {},
   "outputs": [],
   "source": [
    "import pandas as pd\n",
    "from datetime import datetime, timedelta"
   ]
  },
  {
   "cell_type": "code",
   "execution_count": 9,
   "metadata": {},
   "outputs": [],
   "source": [
    "class color:\n",
    "   PURPLE = '\\033[95m'\n",
    "   CYAN = '\\033[96m'\n",
    "   DARKCYAN = '\\033[36m'\n",
    "   BLUE = '\\033[94m'\n",
    "   GREEN = '\\033[92m'\n",
    "   YELLOW = '\\033[93m'\n",
    "   RED = '\\033[91m'\n",
    "   BOLD = '\\033[1m'\n",
    "   UNDERLINE = '\\033[4m'\n",
    "   END = '\\033[0m'"
   ]
  },
  {
   "cell_type": "code",
   "execution_count": null,
   "metadata": {},
   "outputs": [],
   "source": [
    "class Files_jhu_csse:\n",
    "    def __init__(Self, df_global_confirmed, df_us_confirmed, df_global_deaths, df_us_deaths, df_global_recoveries, df_global_latest_data, df_us_latest_data):\n",
    "        Self.df_global_confirmed = df_global_confirmed\n",
    "        Self.df_us_confirmed = df_us_confirmed\n",
    "        Self.df_global_deaths = df_global_deaths\n",
    "        Self.df_us_deaths = df_us_deaths\n",
    "        Self.df_global_recoveries = df_global_recoveries\n",
    "        Self.df_global_latest_data = df_global_latest_data\n",
    "        Self.df_us_latest_data = df_us_latest_data"
   ]
  },
  {
   "cell_type": "code",
   "execution_count": 12,
   "metadata": {},
   "outputs": [],
   "source": [
    "def jhu_csse_daily_file_name(date_format):\n",
    "    yesterday_date = datetime.today() - timedelta(days=1)\n",
    "    file_name = yesterday_date.strftime(date_format) + '.csv'\n",
    "    return file_name"
   ]
  },
  {
   "cell_type": "code",
   "execution_count": 10,
   "metadata": {},
   "outputs": [],
   "source": [
    "def jhu_csse_load_csv(get_daily_file_name, date_format):\n",
    "    daily_file_name = get_daily_file_name(date_format)\n",
    "    df_global_confirmed = pd.read_csv('https://raw.githubusercontent.com/CSSEGISandData/COVID-19/master/csse_covid_19_data/csse_covid_19_time_series/time_series_covid19_confirmed_global.csv')\n",
    "    df_us_confirmed = pd.read_csv('https://raw.githubusercontent.com/CSSEGISandData/COVID-19/master/csse_covid_19_data/csse_covid_19_time_series/time_series_covid19_confirmed_US.csv ')\n",
    "    df_global_deaths = pd.read_csv('https://raw.githubusercontent.com/CSSEGISandData/COVID-19/master/csse_covid_19_data/csse_covid_19_time_series/time_series_covid19_deaths_global.csv')\n",
    "    df_us_deaths = pd.read_csv('https://raw.githubusercontent.com/CSSEGISandData/COVID-19/master/csse_covid_19_data/csse_covid_19_time_series/time_series_covid19_deaths_US.csv ')\n",
    "    df_global_recoveries = pd.read_csv('https://raw.githubusercontent.com/CSSEGISandData/COVID-19/master/csse_covid_19_data/csse_covid_19_time_series/time_series_covid19_recovered_global.csv')\n",
    "    df_global_latest_data = pd.read_csv('https://raw.githubusercontent.com/CSSEGISandData/COVID-19/master/csse_covid_19_data/csse_covid_19_daily_reports/' + daily_file_name)\n",
    "    df_us_latest_data = pd.read_csv('https://raw.githubusercontent.com/CSSEGISandData/COVID-19/master/csse_covid_19_data/csse_covid_19_daily_reports_us/' + daily_file_name)\n",
    "    files_jhu_csse_obj = Files_jhu_csse(df_global_confirmed, df_us_confirmed, df_global_deaths, df_us_deaths,df_global_recoveries, df_global_latest_data, df_us_latest_data)\n",
    "    return files_jhu_csse_obj"
   ]
  },
  {
   "cell_type": "code",
   "execution_count": null,
   "metadata": {},
   "outputs": [],
   "source": [
    "def df_has_categorical_columns(df):\n",
    "    _df = df.select_dtypes(include=\"category\")\n",
    "    if _df.shape[1] > 0:\n",
    "        return True\n",
    "    else:\n",
    "        return False"
   ]
  },
  {
   "cell_type": "code",
   "execution_count": null,
   "metadata": {},
   "outputs": [],
   "source": [
    "def df_has_numerical_columns(df):\n",
    "    _df = df.select_dtypes(include=[np.number])\n",
    "    if _df.shape[1] > 0:\n",
    "        return True\n",
    "    else:\n",
    "        return False"
   ]
  },
  {
   "cell_type": "code",
   "execution_count": null,
   "metadata": {},
   "outputs": [],
   "source": [
    "def is_name_locally_defined(_name):\n",
    "    if _name in locals():\n",
    "        return True\n",
    "    else:\n",
    "        return False"
   ]
  },
  {
   "cell_type": "code",
   "execution_count": null,
   "metadata": {},
   "outputs": [],
   "source": [
    "def is_name_globally_defined(_name):\n",
    "    if _name in globals():\n",
    "        return True\n",
    "    else:\n",
    "        return False"
   ]
  },
  {
   "cell_type": "code",
   "execution_count": null,
   "metadata": {},
   "outputs": [],
   "source": [
    "def check_nan_columns(df, columns):\n",
    "    for col in columns:\n",
    "        print('Rows that have ' + str(col) + ' column equal to NaN -->' + str(df[df[col].isnull()].shape[0]))"
   ]
  }
 ],
 "metadata": {
  "kernelspec": {
   "display_name": "Python 3",
   "language": "python",
   "name": "python3"
  },
  "language_info": {
   "codemirror_mode": {
    "name": "ipython",
    "version": 3
   },
   "file_extension": ".py",
   "mimetype": "text/x-python",
   "name": "python",
   "nbconvert_exporter": "python",
   "pygments_lexer": "ipython3",
   "version": "3.7.3"
  }
 },
 "nbformat": 4,
 "nbformat_minor": 2
}