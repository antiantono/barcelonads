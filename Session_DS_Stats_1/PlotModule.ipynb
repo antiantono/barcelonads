{
 "cells": [
  {
   "cell_type": "markdown",
   "metadata": {},
   "source": [
    "<h1 style=\"font-size:60px;text-align:center;\">Plot Methods</h1>"
   ]
  },
  {
   "cell_type": "code",
   "execution_count": 3,
   "metadata": {},
   "outputs": [],
   "source": [
    "import seaborn as sns\n",
    "import matplotlib.pyplot as plt\n",
    "from matplotlib import gridspec"
   ]
  },
  {
   "source": [
    "<h6 style=\"font-size:2em;color:#2467C0\">Cells</h6>"
   ],
   "cell_type": "markdown",
   "metadata": {}
  },
  {
   "cell_type": "code",
   "execution_count": null,
   "metadata": {},
   "outputs": [],
   "source": [
    "def magnifyDf():\n",
    "    return [dict(selector=\"th\",\n",
    "                 props=[(\"font-size\", \"7pt\")]),\n",
    "            dict(selector=\"td\",\n",
    "                 props=[('padding', \"0em 0em\")]),\n",
    "            dict(selector=\"th:hover\",\n",
    "                 props=[(\"font-size\", \"12pt\")]),\n",
    "            dict(selector=\"tr:hover td:hover\",\n",
    "                 props=[('max-width', '200px'),\n",
    "                        ('font-size', '12pt')])]"
   ]
  },
  {
   "source": [
    "<h6 style=\"font-size:2em;color:#2467C0\">Lines</h6>"
   ],
   "cell_type": "markdown",
   "metadata": {}
  },
  {
   "cell_type": "code",
   "execution_count": null,
   "metadata": {},
   "outputs": [],
   "source": [
    "def sns_lineplot_comparisons(p_data, p_x, p_y, p_xlabel, p_ylabel, p_title, p_subtitle):\n",
    "    with sns.axes_style('white'):\n",
    "        # bigger plot elements suitable for giving talks\n",
    "        sns.set_context(\"talk\")\n",
    "        # set figure size\n",
    "        plt.figure(2, figsize=(15,7))\n",
    "        the_grid = gridspec.GridSpec(1, 1)\n",
    "        plt.subplot(the_grid[0, 0],  title=p_title)\n",
    "        #Time series\n",
    "        sns.lineplot(x=p_x, y=p_y, data=p_data, ci=None)\n",
    "        plt.suptitle(p_subtitle, fontsize=16)\n",
    "        # axis labels\n",
    "        plt.xlabel(p_xlabel, size=14)\n",
    "        plt.ylabel(p_ylabel, size=14)\n",
    "        plt.show()"
   ]
  },
  {
   "cell_type": "code",
   "execution_count": null,
   "metadata": {},
   "outputs": [],
   "source": [
    "def sns_lineplot_comparisons_rolling(p_data, p_x, p_y, p_y_rolling, p_title, p_subtitle):\n",
    "    with sns.axes_style('white'):\n",
    "        # bigger plot elements suitable for giving talks\n",
    "        sns.set_context(\"talk\")\n",
    "        # set figure size\n",
    "        plt.figure(2, figsize=(15,7))\n",
    "        the_grid = gridspec.GridSpec(1, 1)\n",
    "        plt.subplot(the_grid[0, 0],  title=p_title)\n",
    "        #Time series\n",
    "        sns.lineplot(x=p_x, y=p_y, data=p_data, ci=None)\n",
    "        #7-day rolling average Time Serie\n",
    "        sns.lineplot(x=p_x, y=p_y_rolling, data=p_data, ci=None)\n",
    "        plt.suptitle(p_subtitle, fontsize=16)\n",
    "        # axis labels\n",
    "        plt.xlabel(\"Date\", size=14)\n",
    "        plt.ylabel(\"Daily Confirmed New Cases\", size=14)\n",
    "        plt.show()"
   ]
  },
  {
   "source": [
    "<h6 style=\"font-size:2em;color:#2467C0\">Distributions</h6>"
   ],
   "cell_type": "markdown",
   "metadata": {}
  },
  {
   "cell_type": "code",
   "execution_count": null,
   "metadata": {},
   "outputs": [],
   "source": [
    "def sns_boxplot_distplot_one_col_df(df, title, txt_place, cal_kde_bw):\n",
    "    #OneVariableHistogram\n",
    "    sns.set(style=\"whitegrid\")\n",
    "\n",
    "    # Initialize the matplotlib figure and Cutting the window in 2 parts\n",
    "    f, (ax_box, ax_hist) = plt.subplots(2, sharex=True, gridspec_kw={\"height_ratios\": (.15, .85)}, figsize=(8, 8))\n",
    "\n",
    "    #Finding Measures Of Central Tendency\n",
    "    mean = df.mean()\n",
    "    median = df.median()\n",
    "    mode = df.mode().values[0]\n",
    "    mode_occurences = df.value_counts(ascending=False).head(1).values[0]\n",
    "    sigma = df.std()\n",
    "\n",
    "    #Patch text\n",
    "    textstr = '\\n'.join((\n",
    "        r'$\\mu=%.2f$' % (mean),\n",
    "        r'$\\mathrm{median}=%.2f$' % (median),\n",
    "        r'$\\mathrm{mode}=%.2f$' % (mode),\n",
    "        r'$\\mathrm{ModeOccurrences}=%.2f$' % (mode_occurences),\n",
    "        r'$\\sigma=%.2f$' % (sigma)))\n",
    "    textstr = textstr + \"\\n\"\n",
    "\n",
    "    # these are matplotlib.patch.Patch properties\n",
    "    props = dict(boxstyle='round', facecolor='wheat', alpha=0.5)\n",
    "\n",
    "    #print(textstr)\n",
    "    # place a text box in bottom left, center or right in axes coords\n",
    "    if txt_place == 'left':\n",
    "        ax_hist.text(0.05, 0, textstr.rstrip(), transform=ax_hist.transAxes, fontsize=10,\n",
    "            verticalalignment='bottom', bbox=props)\n",
    "    elif txt_place == 'center':\n",
    "        ax_hist.text(0.3, 0, textstr.rstrip(), transform=ax_hist.transAxes, fontsize=10,\n",
    "            verticalalignment='bottom', bbox=props)\n",
    "    else:\n",
    "        ax_hist.text(0.7, 0, textstr.rstrip(), transform=ax_hist.transAxes, fontsize=10,\n",
    "            verticalalignment='bottom', bbox=props)\n",
    "\n",
    "    # Add a graph in each part\n",
    "    sns.boxplot(df, ax=ax_box)\n",
    "    ax_box.axvline(mean, color='r', linestyle='--')\n",
    "    ax_box.axvline(median, color='g', linestyle='-')\n",
    "    ax_box.axvline(mode, color='b', linestyle='-')\n",
    "\n",
    "    if cal_kde_bw:\n",
    "        sns.distplot(df, ax=ax_hist, kde_kws={'bw':1.5})\n",
    "    else:\n",
    "        sns.distplot(df, ax=ax_hist)\n",
    "    ax_hist.axvline(mean, color='r', linestyle='--')\n",
    "    ax_hist.axvline(median, color='g', linestyle='-')\n",
    "    ax_hist.axvline(mode, color='b', linestyle='-')\n",
    "\n",
    "    #sns.violinplot(y=dfCliPromoAssignedApplied_Totals[\"totclinotapplied\"],ax=ax_violin)\n",
    "\n",
    "    #Legends\n",
    "    plt.legend({'Mean':mean,'Median':median,'Mode':mode})\n",
    "\n",
    "    # Remove x axis name for the boxplot\n",
    "    ax_box.set(xlabel='')\n",
    "    #ax_violin.set(xlabel='')\n",
    "\n",
    "    # Add a legend and informative axis label\n",
    "    ax_box.set_title(title, fontsize=16)\n",
    "    plt.show()"
   ]
  },
  {
   "cell_type": "code",
   "execution_count": null,
   "metadata": {},
   "outputs": [],
   "source": []
  }
 ],
 "metadata": {
  "kernelspec": {
   "display_name": "Python 3",
   "language": "python",
   "name": "python3"
  },
  "language_info": {
   "codemirror_mode": {
    "name": "ipython",
    "version": 3
   },
   "file_extension": ".py",
   "mimetype": "text/x-python",
   "name": "python",
   "nbconvert_exporter": "python",
   "pygments_lexer": "ipython3",
   "version": "3.7.3-final"
  }
 },
 "nbformat": 4,
 "nbformat_minor": 2
}