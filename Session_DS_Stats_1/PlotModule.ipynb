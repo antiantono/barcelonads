{
 "cells": [
  {
   "cell_type": "markdown",
   "metadata": {},
   "source": [
    "<h1 style=\"font-size:60px;text-align:center;\">Plot Methods</h1>"
   ]
  },
  {
   "cell_type": "code",
   "execution_count": 3,
   "metadata": {},
   "outputs": [],
   "source": [
    "import seaborn as sns\n",
    "import matplotlib.pyplot as plt\n",
    "from matplotlib import gridspec"
   ]
  },
  {
   "source": [
    "<h6 style=\"font-size:2em;color:#2467C0\">Cells</h6>"
   ],
   "cell_type": "markdown",
   "metadata": {}
  },
  {
   "cell_type": "code",
   "execution_count": null,
   "metadata": {},
   "outputs": [],
   "source": [
    "def magnifyDf():\n",
    "    return [dict(selector=\"th\",\n",
    "                 props=[(\"font-size\", \"7pt\")]),\n",
    "            dict(selector=\"td\",\n",
    "                 props=[('padding', \"0em 0em\")]),\n",
    "            dict(selector=\"th:hover\",\n",
    "                 props=[(\"font-size\", \"12pt\")]),\n",
    "            dict(selector=\"tr:hover td:hover\",\n",
    "                 props=[('max-width', '200px'),\n",
    "                        ('font-size', '12pt')])]"
   ]
  },
  {
   "source": [
    "<h6 style=\"font-size:2em;color:#2467C0\">Lines</h6>"
   ],
   "cell_type": "markdown",
   "metadata": {}
  },
  {
   "cell_type": "code",
   "execution_count": null,
   "metadata": {},
   "outputs": [],
   "source": [
    "def sns_lineplot_comparisons(p_data, p_x, p_y, p_xlabel, p_ylabel, p_title, p_subtitle):\n",
    "    with sns.axes_style('white'):\n",
    "        # bigger plot elements suitable for giving talks\n",
    "        sns.set_context(\"talk\")\n",
    "        # set figure size\n",
    "        plt.figure(2, figsize=(15,7))\n",
    "        the_grid = gridspec.GridSpec(1, 1)\n",
    "        plt.subplot(the_grid[0, 0],  title=p_title)\n",
    "        #Time series\n",
    "        sns.lineplot(x=p_x, y=p_y, data=p_data, ci=None)\n",
    "        plt.suptitle(p_subtitle, fontsize=16)\n",
    "        # axis labels\n",
    "        plt.xlabel(p_xlabel, size=14)\n",
    "        plt.ylabel(p_ylabel, size=14)\n",
    "        plt.show()"
   ]
  },
  {
   "cell_type": "code",
   "execution_count": null,
   "metadata": {},
   "outputs": [],
   "source": [
    "def sns_lineplot_comparisons_rolling(p_data, p_x, p_y, p_y_rolling, p_title, p_subtitle):\n",
    "    with sns.axes_style('white'):\n",
    "        # bigger plot elements suitable for giving talks\n",
    "        sns.set_context(\"talk\")\n",
    "        # set figure size\n",
    "        plt.figure(2, figsize=(15,7))\n",
    "        the_grid = gridspec.GridSpec(1, 1)\n",
    "        plt.subplot(the_grid[0, 0],  title=p_title)\n",
    "        #Time series\n",
    "        sns.lineplot(x=p_x, y=p_y, data=p_data, ci=None)\n",
    "        #7-day rolling average Time Serie\n",
    "        sns.lineplot(x=p_x, y=p_y_rolling, data=p_data, ci=None)\n",
    "        plt.suptitle(p_subtitle, fontsize=16)\n",
    "        # axis labels\n",
    "        plt.xlabel(\"Date\", size=14)\n",
    "        plt.ylabel(\"Daily Confirmed New Cases\", size=14)\n",
    "        plt.show()"
   ]
  }
 ],
 "metadata": {
  "kernelspec": {
   "display_name": "Python 3",
   "language": "python",
   "name": "python3"
  },
  "language_info": {
   "codemirror_mode": {
    "name": "ipython",
    "version": 3
   },
   "file_extension": ".py",
   "mimetype": "text/x-python",
   "name": "python",
   "nbconvert_exporter": "python",
   "pygments_lexer": "ipython3",
   "version": "3.7.3-final"
  }
 },
 "nbformat": 4,
 "nbformat_minor": 2
}